{
 "cells": [
  {
   "cell_type": "code",
   "execution_count": 1,
   "metadata": {},
   "outputs": [
    {
     "name": "stderr",
     "output_type": "stream",
     "text": [
      "Using TensorFlow backend.\n"
     ]
    }
   ],
   "source": [
    "import pandas as pd\n",
    "import numpy as np\n",
    "from sklearn.model_selection import train_test_split\n",
    "from sklearn.ensemble import RandomForestRegressor,GradientBoostingRegressor\n",
    "from sklearn.model_selection import GridSearchCV, RandomizedSearchCV\n",
    "from keras.models import Sequential, Model\n",
    "from keras.layers import Dense, LSTM, Conv2D, Dropout, MaxPool2D, Flatten\n",
    "from sklearn.metrics import mean_absolute_error\n",
    "from xgboost import XGBRegressor\n",
    "from sklearn.feature_selection import SelectFromModel\n",
    "from sklearn.metrics import accuracy_score, r2_score\n",
    "import numpy as np"
   ]
  },
  {
   "cell_type": "code",
   "execution_count": 2,
   "metadata": {},
   "outputs": [],
   "source": [
    "train = pd.read_csv('train.csv', index_col=0)\n",
    "test = pd.read_csv('test.csv', index_col=0)\n",
    "submission = pd.read_csv('sample_submission.csv', index_col=0)"
   ]
  },
  {
   "cell_type": "code",
   "execution_count": 3,
   "metadata": {},
   "outputs": [],
   "source": [
    "x1 = train.iloc[:,:1]\n",
    "\n",
    "x2 = train.iloc[:,1:36]\n",
    "\n",
    "x3 = train.iloc[:,36:71]\n",
    "\n",
    "y1 = train.iloc[:,71:72]\n",
    "\n",
    "y2 = train.iloc[:,72:73]\n",
    "\n",
    "y3 = train.iloc[:,73:74]\n",
    "\n",
    "y4 = train.iloc[:,74:]"
   ]
  },
  {
   "cell_type": "code",
   "execution_count": 4,
   "metadata": {},
   "outputs": [],
   "source": [
    "test1 = test.iloc[:,:1]\n",
    "\n",
    "test2 = test.iloc[:,1:36]\n",
    "\n",
    "test3 = test.iloc[:,36:71]"
   ]
  },
  {
   "cell_type": "code",
   "execution_count": 5,
   "metadata": {},
   "outputs": [],
   "source": [
    "x1 = x1.interpolate(axis=0)\n",
    "x2 = x2.interpolate(axis=0)\n",
    "x3 = x3.interpolate(axis=0)\n",
    "\n",
    "test1 = test1.interpolate(axis=0)\n",
    "test2 = test2.interpolate(axis=0)\n",
    "test3 = test3.interpolate(axis=0)"
   ]
  },
  {
   "cell_type": "code",
   "execution_count": 6,
   "metadata": {},
   "outputs": [],
   "source": [
    "x1 = x1.fillna(x1.mean())\n",
    "x2 = x2.fillna(x2.mean())\n",
    "x3 = x3.fillna(x3.mean())\n",
    "\n",
    "test1 = test1.fillna(test1.mean())\n",
    "test2 = test2.fillna(test2.mean())\n",
    "test3 = test3.fillna(test3.mean())"
   ]
  },
  {
   "cell_type": "code",
   "execution_count": 7,
   "metadata": {},
   "outputs": [],
   "source": [
    "x = pd.merge(x1,x2, how='left', on='id')"
   ]
  },
  {
   "cell_type": "code",
   "execution_count": 8,
   "metadata": {},
   "outputs": [],
   "source": [
    "x = pd.merge(x,x3, how='left', on='id')"
   ]
  },
  {
   "cell_type": "code",
   "execution_count": null,
   "metadata": {},
   "outputs": [],
   "source": []
  },
  {
   "cell_type": "code",
   "execution_count": 9,
   "metadata": {},
   "outputs": [
    {
     "data": {
      "text/plain": [
       "(10000, 71)"
      ]
     },
     "execution_count": 9,
     "metadata": {},
     "output_type": "execute_result"
    }
   ],
   "source": [
    "x.shape"
   ]
  },
  {
   "cell_type": "code",
   "execution_count": 10,
   "metadata": {},
   "outputs": [],
   "source": [
    "test = pd.merge(test1,test2, how='left', on='id')"
   ]
  },
  {
   "cell_type": "code",
   "execution_count": 11,
   "metadata": {},
   "outputs": [],
   "source": [
    "test = pd.merge(test,test3, how='left', on='id')"
   ]
  },
  {
   "cell_type": "code",
   "execution_count": 12,
   "metadata": {},
   "outputs": [],
   "source": [
    "# 전처리\n",
    "from sklearn.preprocessing import RobustScaler, StandardScaler\n",
    "scaler = RobustScaler()\n",
    "scaler.fit(x) \n",
    "x = scaler.transform(x)\n",
    "test = scaler.transform(test)\n",
    "\n",
    "# from sklearn.decomposition import PCA\n",
    "# pca = PCA(n_components=12)\n",
    "# pca.fit(x)\n",
    "# x = pca.transform(x)\n",
    "# x_predict = pca.transform(x_predict)"
   ]
  },
  {
   "cell_type": "raw",
   "metadata": {},
   "source": [
    "train = np.array(train)\n",
    "x_predict = np.array(test)"
   ]
  },
  {
   "cell_type": "code",
   "execution_count": 167,
   "metadata": {},
   "outputs": [],
   "source": [
    "# from sklearn.preprocessing import MinMaxScaler\n",
    "# scaler = MinMaxScaler()\n",
    "# scaler.fit(x) \n",
    "# x = scaler.transform(x)\n",
    "# x_predict = scaler.transform(x_predict)"
   ]
  },
  {
   "cell_type": "code",
   "execution_count": 14,
   "metadata": {},
   "outputs": [
    {
     "name": "stderr",
     "output_type": "stream",
     "text": [
      "C:\\Users\\bitcamp\\anaconda3\\lib\\site-packages\\ipykernel_launcher.py:4: DataConversionWarning: A column-vector y was passed when a 1d array was expected. Please change the shape of y to (n_samples,), for example using ravel().\n",
      "  after removing the cwd from sys.path.\n"
     ]
    },
    {
     "name": "stdout",
     "output_type": "stream",
     "text": [
      "랜덤포레스트 mae 는 0.7082098\n",
      "mae는 0.7349076338338851\n",
      "mae는 0.7501098101425171\n",
      "mae는 0.7350139020013808\n",
      "mae는 0.7308949107527732\n",
      "mae는 0.741435033583641\n",
      "mae는 0.7397070063066483\n",
      "mae는 0.7306379121851921\n",
      "mae는 0.736061611981392\n",
      "mae는 0.7321029380917549\n",
      "mae는 0.7333246780228615\n",
      "mae는 0.7379412888479233\n",
      "mae는 0.7338554907870294\n",
      "mae는 0.7391021495962143\n",
      "mae는 0.736312471203804\n",
      "mae는 0.7382736615347862\n",
      "mae는 0.7358255023241043\n",
      "mae는 0.7426149238824844\n",
      "mae는 0.7380071192646026\n",
      "mae는 0.7390459563469888\n",
      "mae는 0.7333999435138703\n",
      "mae는 0.7443771235227585\n",
      "mae는 0.7237133423662185\n",
      "mae는 0.7412446620965004\n",
      "mae는 0.7329548334932326\n",
      "mae는 0.7356858549809456\n",
      "mae는 0.7341450897717475\n",
      "mae는 0.7318013655757905\n",
      "mae는 0.7370261344099045\n",
      "mae는 0.7329287794709205\n",
      "mae는 0.7406329316210747\n",
      "mae는 0.7378262117576598\n",
      "mae는 0.7271239749360083\n",
      "mae는 0.7184309677505493\n",
      "mae는 0.7401643600440024\n",
      "mae는 0.7272806949710846\n",
      "mae는 0.7537565509343147\n",
      "mae는 0.7479528230524063\n",
      "mae는 0.7704446580839158\n",
      "mae는 0.7655433742046356\n",
      "mae는 0.7648859864664077\n",
      "mae는 0.7639058007335664\n",
      "mae는 0.7465942953896522\n",
      "mae는 0.7525982703137398\n",
      "mae는 0.7634324163413048\n",
      "mae는 0.7658290528821945\n",
      "mae는 0.7596875281381607\n",
      "mae는 0.7701924499893189\n",
      "mae는 0.7647936013007164\n",
      "mae는 0.7728226742959022\n",
      "mae는 0.7669160694551467\n",
      "mae는 0.767794878358841\n",
      "mae는 0.7683046424436568\n",
      "mae는 0.7649207567095757\n",
      "mae는 0.7642119248914718\n",
      "mae는 0.7763056101751328\n",
      "mae는 0.7691099311876296\n",
      "mae는 0.7665784274816513\n",
      "mae는 0.7742649702739716\n",
      "mae는 0.7837896693563461\n",
      "mae는 0.7683978143835067\n",
      "mae는 0.7654061342859267\n",
      "mae는 0.771379654481411\n",
      "mae는 0.7739242677593231\n",
      "mae는 0.7768927342677115\n",
      "mae는 0.7882615752744675\n",
      "mae는 0.7776755734062194\n",
      "mae는 0.7729919307732582\n",
      "mae는 0.7840039873433113\n",
      "mae는 0.7917958050394057\n",
      "mae는 0.7981828317165375\n",
      "mae는 0.8052504149675369\n"
     ]
    }
   ],
   "source": [
    "# 두번째꺼 0.71\n",
    "x_train, x_test, y_train, y_test = train_test_split(x,y2, test_size=0.2, random_state=43)\n",
    "model = RandomForestRegressor(n_estimators=300)\n",
    "model.fit(x_train,y_train)\n",
    "y_pred = model.predict(x_test) # 회귀던 분류던 사용할 수 있음\n",
    "mae = mean_absolute_error(y_pred, y_test)\n",
    "print('랜덤포레스트 mae 는', mae)\n",
    "\n",
    "thresholds = np.sort(model.feature_importances_)\n",
    "\n",
    "for thresh in thresholds : # 컬럼수만큼 돈다! 빙글빙글\n",
    "    selection = SelectFromModel(model, threshold=thresh, prefit=True)\n",
    "    selection_x_train = selection.transform(x_train)\n",
    "    # print(selection_x_train.shape) # 칼럼이 하나씩 줄고 있는걸 알 수 있음 (가장 중요 x를 하나씩 지우고 있음)\n",
    "    \n",
    "    selection_model = XGBRegressor()\n",
    "    selection_model.fit(selection_x_train, y_train)\n",
    "\n",
    "    select_x_test = selection.transform(x_test)\n",
    "    x_pred = selection_model.predict(select_x_test)\n",
    "\n",
    "    mae = mean_absolute_error(y_test, x_pred)\n",
    "    print('mae는',mae)\n",
    "\n",
    "    modelpath = './model/xgb_save/auc' + str(mae) + '.dat'"
   ]
  },
  {
   "cell_type": "code",
   "execution_count": 15,
   "metadata": {},
   "outputs": [
    {
     "name": "stderr",
     "output_type": "stream",
     "text": [
      "C:\\Users\\bitcamp\\anaconda3\\lib\\site-packages\\ipykernel_launcher.py:3: DataConversionWarning: A column-vector y was passed when a 1d array was expected. Please change the shape of y to (n_samples,), for example using ravel().\n",
      "  This is separate from the ipykernel package so we can avoid doing imports until\n"
     ]
    },
    {
     "name": "stdout",
     "output_type": "stream",
     "text": [
      "랜덤포레스트 mae 는 1.2873899666666668\n",
      "mae는 1.285354427176714\n",
      "mae는 1.285354427176714\n",
      "mae는 1.3072834283709527\n",
      "mae는 1.297105118353963\n",
      "mae는 1.297105118353963\n",
      "mae는 1.2937072267216445\n",
      "mae는 1.2937072267216445\n",
      "mae는 1.2937072267216445\n",
      "mae는 1.2937072267216445\n",
      "mae는 1.2933081066989898\n",
      "mae는 1.2933081066989898\n",
      "mae는 1.3046804619956014\n",
      "mae는 1.3046804619956014\n",
      "mae는 1.3046804619956014\n",
      "mae는 1.3046804619956014\n",
      "mae는 1.3046804619956014\n",
      "mae는 1.3046804619956014\n",
      "mae는 1.3046804619956014\n",
      "mae는 1.3046804619956014\n",
      "mae는 1.3046804619956014\n",
      "mae는 1.3046804619956014\n",
      "mae는 1.3046804619956014\n",
      "mae는 1.3046804619956014\n",
      "mae는 1.3046804619956014\n",
      "mae는 1.3046804619956014\n",
      "mae는 1.3046804619956014\n",
      "mae는 1.3046804619956014\n",
      "mae는 1.3046804619956014\n",
      "mae는 1.3046804619956014\n",
      "mae는 1.3046804619956014\n",
      "mae는 1.3046804619956014\n",
      "mae는 1.3046804619956014\n",
      "mae는 1.3046804619956014\n",
      "mae는 1.3111759944450856\n",
      "mae는 1.3055504852366449\n",
      "mae는 1.3053963696730138\n",
      "mae는 1.3053963696730138\n",
      "mae는 1.2958291610592605\n",
      "mae는 1.319330306689143\n",
      "mae는 1.319330306689143\n",
      "mae는 1.319330306689143\n",
      "mae는 1.319330306689143\n",
      "mae는 1.319330306689143\n",
      "mae는 1.319330306689143\n",
      "mae는 1.319330306689143\n",
      "mae는 1.319330306689143\n",
      "mae는 1.319330306689143\n",
      "mae는 1.319330306689143\n",
      "mae는 1.319330306689143\n",
      "mae는 1.319330306689143\n",
      "mae는 1.319330306689143\n",
      "mae는 1.319330306689143\n",
      "mae는 1.319330306689143\n",
      "mae는 1.4971058509171007\n",
      "mae는 1.4971058509171007\n",
      "mae는 1.4971058509171007\n",
      "mae는 1.4971058509171007\n",
      "mae는 1.4971058509171007\n",
      "mae는 1.4971058509171007\n",
      "mae는 1.4971058509171007\n",
      "mae는 1.4971058509171007\n",
      "mae는 1.5232079068756104\n",
      "mae는 1.5232079068756104\n",
      "mae는 1.5232079068756104\n",
      "mae는 1.5232079068756104\n",
      "mae는 1.5506862700527904\n",
      "mae는 1.5506862700527904\n",
      "mae는 1.5506862700527904\n",
      "mae는 1.5506862700527904\n",
      "mae는 1.5977991690188647\n",
      "mae는 1.6463984117817878\n"
     ]
    }
   ],
   "source": [
    "x_train, x_test, y_train, y_test = train_test_split(x,y1, test_size=0.2, random_state=43)\n",
    "model = RandomForestRegressor(n_estimators=300)\n",
    "model.fit(x_train,y_train)\n",
    "y_pred = model.predict(x_test) # 회귀던 분류던 사용할 수 있음\n",
    "mae = mean_absolute_error(y_pred, y_test)\n",
    "print('랜덤포레스트 mae 는', mae)\n",
    "\n",
    "for thresh in thresholds : # 컬럼수만큼 돈다! 빙글빙글\n",
    "    selection = SelectFromModel(model, threshold=thresh, prefit=True)\n",
    "    selection_x_train = selection.transform(x_train)\n",
    "    # print(selection_x_train.shape) # 칼럼이 하나씩 줄고 있는걸 알 수 있음 (가장 중요 x를 하나씩 지우고 있음)\n",
    "    \n",
    "    selection_model = XGBRegressor()\n",
    "    selection_model.fit(selection_x_train, y_train)\n",
    "\n",
    "    select_x_test = selection.transform(x_test)\n",
    "    x_pred = selection_model.predict(select_x_test)\n",
    "\n",
    "    mae = mean_absolute_error(y_test, x_pred)\n",
    "    print('mae는',mae)\n",
    "\n",
    "#     modelpath = './model/xgb_save/auc' + str(mae) + '.dat'"
   ]
  },
  {
   "cell_type": "code",
   "execution_count": 55,
   "metadata": {},
   "outputs": [
    {
     "name": "stderr",
     "output_type": "stream",
     "text": [
      "C:\\Users\\bitcamp\\anaconda3\\lib\\site-packages\\ipykernel_launcher.py:3: DataConversionWarning: A column-vector y was passed when a 1d array was expected. Please change the shape of y to (n_samples,), for example using ravel().\n",
      "  This is separate from the ipykernel package so we can avoid doing imports until\n"
     ]
    },
    {
     "name": "stdout",
     "output_type": "stream",
     "text": [
      "랜덤포레스트 mae 는 0.7106247999999998\n"
     ]
    },
    {
     "name": "stderr",
     "output_type": "stream",
     "text": [
      "C:\\Users\\bitcamp\\anaconda3\\lib\\site-packages\\ipykernel_launcher.py:10: DataConversionWarning: A column-vector y was passed when a 1d array was expected. Please change the shape of y to (n_samples,), for example using ravel().\n",
      "  # Remove the CWD from sys.path while we load stuff.\n"
     ]
    },
    {
     "name": "stdout",
     "output_type": "stream",
     "text": [
      "랜덤포레스트 mae 는 2.189337916666666\n"
     ]
    },
    {
     "name": "stderr",
     "output_type": "stream",
     "text": [
      "C:\\Users\\bitcamp\\anaconda3\\lib\\site-packages\\ipykernel_launcher.py:17: DataConversionWarning: A column-vector y was passed when a 1d array was expected. Please change the shape of y to (n_samples,), for example using ravel().\n"
     ]
    },
    {
     "name": "stdout",
     "output_type": "stream",
     "text": [
      "랜덤포레스트 mae 는 1.409982683333333\n"
     ]
    }
   ],
   "source": [
    "x_train, x_test, y_train, y_test = train_test_split(x,y2, test_size=0.2, random_state=43)\n",
    "model = RandomForestRegressor(n_estimators=300)\n",
    "model.fit(x_train,y_train)\n",
    "y_pred = model.predict(x_test) # 회귀던 분류던 사용할 수 있음\n",
    "mae = mean_absolute_error(y_pred, y_test)\n",
    "print('랜덤포레스트 mae 는', mae)\n",
    "\n",
    "x_train, x_test, y_train, y_test = train_test_split(x,y3, test_size=0.2, random_state=43)\n",
    "model = RandomForestRegressor(n_estimators=300)\n",
    "model.fit(x_train,y_train)\n",
    "y_pred = model.predict(x_test) # 회귀던 분류던 사용할 수 있음\n",
    "mae = mean_absolute_error(y_pred, y_test)\n",
    "print('랜덤포레스트 mae 는', mae)\n",
    "\n",
    "x_train, x_test, y_train, y_test = train_test_split(x,y4, test_size=0.2, random_state=43)\n",
    "model = RandomForestRegressor(n_estimators=300)\n",
    "model.fit(x_train,y_train)\n",
    "y_pred = model.predict(x_test) # 회귀던 분류던 사용할 수 있음\n",
    "mae = mean_absolute_error(y_pred, y_test)\n",
    "print('랜덤포레스트 mae 는', mae)"
   ]
  },
  {
   "cell_type": "markdown",
   "metadata": {},
   "source": [
    "# GradientBoostingRegressor"
   ]
  },
  {
   "cell_type": "code",
   "execution_count": 56,
   "metadata": {},
   "outputs": [
    {
     "name": "stderr",
     "output_type": "stream",
     "text": [
      "C:\\Users\\bitcamp\\anaconda3\\lib\\site-packages\\sklearn\\ensemble\\_gb.py:1454: DataConversionWarning: A column-vector y was passed when a 1d array was expected. Please change the shape of y to (n_samples, ), for example using ravel().\n",
      "  y = column_or_1d(y, warn=True)\n"
     ]
    },
    {
     "name": "stdout",
     "output_type": "stream",
     "text": [
      "GradientBoostingRegressor mae 는 1.497140941230232\n"
     ]
    },
    {
     "name": "stderr",
     "output_type": "stream",
     "text": [
      "C:\\Users\\bitcamp\\anaconda3\\lib\\site-packages\\sklearn\\ensemble\\_gb.py:1454: DataConversionWarning: A column-vector y was passed when a 1d array was expected. Please change the shape of y to (n_samples, ), for example using ravel().\n",
      "  y = column_or_1d(y, warn=True)\n"
     ]
    },
    {
     "name": "stdout",
     "output_type": "stream",
     "text": [
      "GradientBoostingRegressor mae 는 0.7330654852551607\n"
     ]
    },
    {
     "name": "stderr",
     "output_type": "stream",
     "text": [
      "C:\\Users\\bitcamp\\anaconda3\\lib\\site-packages\\sklearn\\ensemble\\_gb.py:1454: DataConversionWarning: A column-vector y was passed when a 1d array was expected. Please change the shape of y to (n_samples, ), for example using ravel().\n",
      "  y = column_or_1d(y, warn=True)\n"
     ]
    },
    {
     "name": "stdout",
     "output_type": "stream",
     "text": [
      "GradientBoostingRegressor mae 는 2.2622474812725515\n"
     ]
    },
    {
     "name": "stderr",
     "output_type": "stream",
     "text": [
      "C:\\Users\\bitcamp\\anaconda3\\lib\\site-packages\\sklearn\\ensemble\\_gb.py:1454: DataConversionWarning: A column-vector y was passed when a 1d array was expected. Please change the shape of y to (n_samples, ), for example using ravel().\n",
      "  y = column_or_1d(y, warn=True)\n"
     ]
    },
    {
     "name": "stdout",
     "output_type": "stream",
     "text": [
      "GradientBoostingRegressor mae 는 1.4208537674215866\n"
     ]
    }
   ],
   "source": [
    "x_train, x_test, y_train, y_test = train_test_split(x,y1, test_size=0.2, random_state=43)\n",
    "\n",
    "model = GradientBoostingRegressor(n_estimators=300)\n",
    "model.fit(x_train,y_train)\n",
    "y_pred = model.predict(x_test) # 회귀던 분류던 사용할 수 있음\n",
    "mae = mean_absolute_error(y_pred, y_test)\n",
    "print('GradientBoostingRegressor mae 는', mae)\n",
    "\n",
    "x_train, x_test, y_train, y_test = train_test_split(x,y2, test_size=0.2, random_state=43)\n",
    "model = GradientBoostingRegressor(n_estimators=300)\n",
    "model.fit(x_train,y_train)\n",
    "y_pred = model.predict(x_test) # 회귀던 분류던 사용할 수 있음\n",
    "mae = mean_absolute_error(y_pred, y_test)\n",
    "print('GradientBoostingRegressor mae 는', mae)\n",
    "\n",
    "x_train, x_test, y_train, y_test = train_test_split(x,y3, test_size=0.2, random_state=43)\n",
    "model = GradientBoostingRegressor(n_estimators=300)\n",
    "model.fit(x_train,y_train)\n",
    "y_pred = model.predict(x_test) # 회귀던 분류던 사용할 수 있음\n",
    "mae = mean_absolute_error(y_pred, y_test)\n",
    "print('GradientBoostingRegressor mae 는', mae)\n",
    "\n",
    "x_train, x_test, y_train, y_test = train_test_split(x,y4, test_size=0.2, random_state=43)\n",
    "model = GradientBoostingRegressor(n_estimators=300)\n",
    "model.fit(x_train,y_train)\n",
    "y_pred = model.predict(x_test) # 회귀던 분류던 사용할 수 있음\n",
    "mae = mean_absolute_error(y_pred, y_test)\n",
    "print('GradientBoostingRegressor mae 는', mae)"
   ]
  },
  {
   "cell_type": "code",
   "execution_count": 57,
   "metadata": {},
   "outputs": [
    {
     "name": "stderr",
     "output_type": "stream",
     "text": [
      "C:\\Users\\bitcamp\\anaconda3\\lib\\site-packages\\sklearn\\ensemble\\_gb.py:1454: DataConversionWarning: A column-vector y was passed when a 1d array was expected. Please change the shape of y to (n_samples, ), for example using ravel().\n",
      "  y = column_or_1d(y, warn=True)\n"
     ]
    },
    {
     "name": "stdout",
     "output_type": "stream",
     "text": [
      "GradientBoostingRegressor mae 는 1.5842333605510353\n"
     ]
    },
    {
     "name": "stderr",
     "output_type": "stream",
     "text": [
      "C:\\Users\\bitcamp\\anaconda3\\lib\\site-packages\\sklearn\\ensemble\\_gb.py:1454: DataConversionWarning: A column-vector y was passed when a 1d array was expected. Please change the shape of y to (n_samples, ), for example using ravel().\n",
      "  y = column_or_1d(y, warn=True)\n"
     ]
    },
    {
     "name": "stdout",
     "output_type": "stream",
     "text": [
      "GradientBoostingRegressor mae 는 0.7352794179255832\n"
     ]
    },
    {
     "name": "stderr",
     "output_type": "stream",
     "text": [
      "C:\\Users\\bitcamp\\anaconda3\\lib\\site-packages\\sklearn\\ensemble\\_gb.py:1454: DataConversionWarning: A column-vector y was passed when a 1d array was expected. Please change the shape of y to (n_samples, ), for example using ravel().\n",
      "  y = column_or_1d(y, warn=True)\n"
     ]
    },
    {
     "name": "stdout",
     "output_type": "stream",
     "text": [
      "GradientBoostingRegressor mae 는 2.30840271440237\n"
     ]
    },
    {
     "name": "stderr",
     "output_type": "stream",
     "text": [
      "C:\\Users\\bitcamp\\anaconda3\\lib\\site-packages\\sklearn\\ensemble\\_gb.py:1454: DataConversionWarning: A column-vector y was passed when a 1d array was expected. Please change the shape of y to (n_samples, ), for example using ravel().\n",
      "  y = column_or_1d(y, warn=True)\n"
     ]
    },
    {
     "name": "stdout",
     "output_type": "stream",
     "text": [
      "GradientBoostingRegressor mae 는 1.4268806905899483\n"
     ]
    }
   ],
   "source": [
    "x_train, x_test, y_train, y_test = train_test_split(x,y1, test_size=0.2, random_state=43)\n",
    "\n",
    "model = GradientBoostingRegressor()\n",
    "model.fit(x_train,y_train)\n",
    "y_pred = model.predict(x_test) # 회귀던 분류던 사용할 수 있음\n",
    "mae = mean_absolute_error(y_pred, y_test)\n",
    "print('GradientBoostingRegressor mae 는', mae)\n",
    "\n",
    "x_train, x_test, y_train, y_test = train_test_split(x,y2, test_size=0.2, random_state=43)\n",
    "model = GradientBoostingRegressor()\n",
    "model.fit(x_train,y_train)\n",
    "y_pred = model.predict(x_test) # 회귀던 분류던 사용할 수 있음\n",
    "mae = mean_absolute_error(y_pred, y_test)\n",
    "print('GradientBoostingRegressor mae 는', mae)\n",
    "\n",
    "x_train, x_test, y_train, y_test = train_test_split(x,y3, test_size=0.2, random_state=43)\n",
    "model = GradientBoostingRegressor()\n",
    "model.fit(x_train,y_train)\n",
    "y_pred = model.predict(x_test) # 회귀던 분류던 사용할 수 있음\n",
    "mae = mean_absolute_error(y_pred, y_test)\n",
    "print('GradientBoostingRegressor mae 는', mae)\n",
    "\n",
    "x_train, x_test, y_train, y_test = train_test_split(x,y4, test_size=0.2, random_state=43)\n",
    "model = GradientBoostingRegressor()\n",
    "model.fit(x_train,y_train)\n",
    "y_pred = model.predict(x_test) # 회귀던 분류던 사용할 수 있음\n",
    "mae = mean_absolute_error(y_pred, y_test)\n",
    "print('GradientBoostingRegressor mae 는', mae)"
   ]
  },
  {
   "cell_type": "markdown",
   "metadata": {},
   "source": [
    "# XGBRegressor()"
   ]
  },
  {
   "cell_type": "code",
   "execution_count": 27,
   "metadata": {},
   "outputs": [
    {
     "data": {
      "text/plain": [
       "<bound method DataFrame.reset_index of         hhb\n",
       "id         \n",
       "0      5.59\n",
       "1      0.00\n",
       "2     10.64\n",
       "3      5.67\n",
       "4     11.97\n",
       "...     ...\n",
       "9995  12.68\n",
       "9996   8.46\n",
       "9997   9.84\n",
       "9998   6.38\n",
       "9999   9.35\n",
       "\n",
       "[10000 rows x 1 columns]>"
      ]
     },
     "execution_count": 27,
     "metadata": {},
     "output_type": "execute_result"
    }
   ],
   "source": [
    "y1 = pd.DataFrame(y1).reset_index\n",
    "y1"
   ]
  },
  {
   "cell_type": "code",
   "execution_count": 26,
   "metadata": {},
   "outputs": [
    {
     "data": {
      "text/plain": [
       "<bound method DataFrame.reset_index of        0         1         2         3         4         5         6   \\\n",
       "0     0.5  1.531688  1.366064  1.348957  1.179703  1.129366  1.031533   \n",
       "1    -1.0 -0.243335 -0.241556 -0.184363 -0.236173 -0.241899 -0.219267   \n",
       "2     0.5 -0.243335 -0.118572 -0.165968 -0.146762 -0.123755 -0.099449   \n",
       "3    -1.0  1.043054  0.928122  0.763915  0.780322  0.700080  0.645123   \n",
       "4    -0.5  4.505075  3.530311  2.778283  2.212718  1.815929  1.476635   \n",
       "...   ...       ...       ...       ...       ...       ...       ...   \n",
       "9995 -0.5  0.875889  0.890131  0.978402  1.026985  1.053623  1.063049   \n",
       "9996  0.0 -0.122521 -0.206183 -0.128323 -0.201994 -0.159140 -0.178613   \n",
       "9997 -1.0  2.450257  2.113281  1.913165  1.677090  1.484911  1.326271   \n",
       "9998 -0.5  4.503017  3.553944  2.784231  2.209573  1.794577  1.473266   \n",
       "9999 -1.0  0.900351  0.812242  0.873583  0.807319  0.775257  0.792305   \n",
       "\n",
       "            7         8         9   ...          61         62           63  \\\n",
       "0     0.973250  0.963339  0.882490  ...   21.325753  -0.000738    25.008361   \n",
       "1    -0.265968 -0.294603 -0.343920  ...  714.348788  -0.000738  1994.444211   \n",
       "2    -0.048321 -0.044985 -0.018212  ...   -0.001150  -0.000738    -0.000723   \n",
       "3     0.687316  0.693794  0.672837  ...   34.395894  17.256368     0.002207   \n",
       "4     1.217777  1.025065  0.949086  ...   -0.001152   8.627815     0.005136   \n",
       "...        ...       ...       ...  ...         ...        ...          ...   \n",
       "9995  1.020015  0.993813  0.916418  ...   -0.001152  -0.000086     0.000303   \n",
       "9996 -0.222224 -0.223633 -0.285256  ...   -0.001097   0.029309    -0.000717   \n",
       "9997  1.183276  1.034686  0.935451  ...   18.610317   0.058704     0.007610   \n",
       "9998  1.210633  1.066785  0.935362  ...   12.588647   0.088099     0.015937   \n",
       "9999  0.776336  0.764657  0.739547  ...    6.566977   0.088099     0.653113   \n",
       "\n",
       "               64           65           66           67         68  \\\n",
       "0       -0.001391    24.594814    -0.000336    70.288663  -0.000531   \n",
       "1     3548.779977  4456.664085  5601.841811  5999.294212  -0.000532   \n",
       "2       -0.001391    -0.000887    -0.000336    -0.000296  -0.000532   \n",
       "3       46.704813    74.523893   119.090616   219.146549   0.071375   \n",
       "4        0.012634     0.047489     0.080026   109.573127   0.143282   \n",
       "...           ...          ...          ...          ...        ...   \n",
       "9995     1.850411    -0.000662    -0.000336     0.001258   0.000516   \n",
       "9996    -0.001372    -0.000827    -0.000234    -0.000089   3.296343   \n",
       "9997    18.170452    16.020466    28.504445    22.861835   6.592171   \n",
       "9998    10.159751     0.107923    -0.000336     0.125740   9.887999   \n",
       "9999     2.149050     0.828332    -0.000336    -0.000296  13.183827   \n",
       "\n",
       "               69         70  \n",
       "0       -0.001955  -0.003699  \n",
       "1     1956.324177  -0.003699  \n",
       "2       -0.001956  -0.003698  \n",
       "3       82.378970  -0.003698  \n",
       "4       41.188508  -0.003697  \n",
       "...           ...        ...  \n",
       "9995    -0.001676   0.000478  \n",
       "9996    -0.001839  -0.003379  \n",
       "9997    30.301986  30.650275  \n",
       "9998     0.565968   1.074900  \n",
       "9999     0.654725   2.928964  \n",
       "\n",
       "[10000 rows x 71 columns]>"
      ]
     },
     "execution_count": 26,
     "metadata": {},
     "output_type": "execute_result"
    }
   ],
   "source": [
    "x1 = pd.DataFrame(x).reset_index\n",
    "x1"
   ]
  },
  {
   "cell_type": "code",
   "execution_count": 29,
   "metadata": {},
   "outputs": [
    {
     "ename": "TypeError",
     "evalue": "Can only merge Series or DataFrame objects, a <class 'method'> was passed",
     "output_type": "error",
     "traceback": [
      "\u001b[1;31m---------------------------------------------------------------------------\u001b[0m",
      "\u001b[1;31mTypeError\u001b[0m                                 Traceback (most recent call last)",
      "\u001b[1;32m<ipython-input-29-7ba372d4c361>\u001b[0m in \u001b[0;36m<module>\u001b[1;34m\u001b[0m\n\u001b[1;32m----> 1\u001b[1;33m \u001b[0mpd\u001b[0m\u001b[1;33m.\u001b[0m\u001b[0mmerge\u001b[0m\u001b[1;33m(\u001b[0m\u001b[0mx1\u001b[0m\u001b[1;33m,\u001b[0m\u001b[0my1\u001b[0m\u001b[1;33m,\u001b[0m\u001b[0mhow\u001b[0m\u001b[1;33m=\u001b[0m\u001b[1;34m'left'\u001b[0m\u001b[1;33m,\u001b[0m \u001b[0mon\u001b[0m\u001b[1;33m=\u001b[0m\u001b[1;34m'id'\u001b[0m\u001b[1;33m)\u001b[0m\u001b[1;33m\u001b[0m\u001b[1;33m\u001b[0m\u001b[0m\n\u001b[0m",
      "\u001b[1;32m~\\anaconda3\\lib\\site-packages\\pandas\\core\\reshape\\merge.py\u001b[0m in \u001b[0;36mmerge\u001b[1;34m(left, right, how, on, left_on, right_on, left_index, right_index, sort, suffixes, copy, indicator, validate)\u001b[0m\n\u001b[0;32m     84\u001b[0m         \u001b[0mcopy\u001b[0m\u001b[1;33m=\u001b[0m\u001b[0mcopy\u001b[0m\u001b[1;33m,\u001b[0m\u001b[1;33m\u001b[0m\u001b[1;33m\u001b[0m\u001b[0m\n\u001b[0;32m     85\u001b[0m         \u001b[0mindicator\u001b[0m\u001b[1;33m=\u001b[0m\u001b[0mindicator\u001b[0m\u001b[1;33m,\u001b[0m\u001b[1;33m\u001b[0m\u001b[1;33m\u001b[0m\u001b[0m\n\u001b[1;32m---> 86\u001b[1;33m         \u001b[0mvalidate\u001b[0m\u001b[1;33m=\u001b[0m\u001b[0mvalidate\u001b[0m\u001b[1;33m,\u001b[0m\u001b[1;33m\u001b[0m\u001b[1;33m\u001b[0m\u001b[0m\n\u001b[0m\u001b[0;32m     87\u001b[0m     )\n\u001b[0;32m     88\u001b[0m     \u001b[1;32mreturn\u001b[0m \u001b[0mop\u001b[0m\u001b[1;33m.\u001b[0m\u001b[0mget_result\u001b[0m\u001b[1;33m(\u001b[0m\u001b[1;33m)\u001b[0m\u001b[1;33m\u001b[0m\u001b[1;33m\u001b[0m\u001b[0m\n",
      "\u001b[1;32m~\\anaconda3\\lib\\site-packages\\pandas\\core\\reshape\\merge.py\u001b[0m in \u001b[0;36m__init__\u001b[1;34m(self, left, right, how, on, left_on, right_on, axis, left_index, right_index, sort, suffixes, copy, indicator, validate)\u001b[0m\n\u001b[0;32m    569\u001b[0m         \u001b[0mvalidate\u001b[0m\u001b[1;33m=\u001b[0m\u001b[1;32mNone\u001b[0m\u001b[1;33m,\u001b[0m\u001b[1;33m\u001b[0m\u001b[1;33m\u001b[0m\u001b[0m\n\u001b[0;32m    570\u001b[0m     ):\n\u001b[1;32m--> 571\u001b[1;33m         \u001b[0m_left\u001b[0m \u001b[1;33m=\u001b[0m \u001b[0m_validate_operand\u001b[0m\u001b[1;33m(\u001b[0m\u001b[0mleft\u001b[0m\u001b[1;33m)\u001b[0m\u001b[1;33m\u001b[0m\u001b[1;33m\u001b[0m\u001b[0m\n\u001b[0m\u001b[0;32m    572\u001b[0m         \u001b[0m_right\u001b[0m \u001b[1;33m=\u001b[0m \u001b[0m_validate_operand\u001b[0m\u001b[1;33m(\u001b[0m\u001b[0mright\u001b[0m\u001b[1;33m)\u001b[0m\u001b[1;33m\u001b[0m\u001b[1;33m\u001b[0m\u001b[0m\n\u001b[0;32m    573\u001b[0m         \u001b[0mself\u001b[0m\u001b[1;33m.\u001b[0m\u001b[0mleft\u001b[0m \u001b[1;33m=\u001b[0m \u001b[0mself\u001b[0m\u001b[1;33m.\u001b[0m\u001b[0morig_left\u001b[0m \u001b[1;33m=\u001b[0m \u001b[0m_left\u001b[0m\u001b[1;33m\u001b[0m\u001b[1;33m\u001b[0m\u001b[0m\n",
      "\u001b[1;32m~\\anaconda3\\lib\\site-packages\\pandas\\core\\reshape\\merge.py\u001b[0m in \u001b[0;36m_validate_operand\u001b[1;34m(obj)\u001b[0m\n\u001b[0;32m   2006\u001b[0m         raise TypeError(\n\u001b[0;32m   2007\u001b[0m             \u001b[1;34m\"Can only merge Series or DataFrame objects, \"\u001b[0m\u001b[1;33m\u001b[0m\u001b[1;33m\u001b[0m\u001b[0m\n\u001b[1;32m-> 2008\u001b[1;33m             \u001b[1;34m\"a {obj} was passed\"\u001b[0m\u001b[1;33m.\u001b[0m\u001b[0mformat\u001b[0m\u001b[1;33m(\u001b[0m\u001b[0mobj\u001b[0m\u001b[1;33m=\u001b[0m\u001b[0mtype\u001b[0m\u001b[1;33m(\u001b[0m\u001b[0mobj\u001b[0m\u001b[1;33m)\u001b[0m\u001b[1;33m)\u001b[0m\u001b[1;33m\u001b[0m\u001b[1;33m\u001b[0m\u001b[0m\n\u001b[0m\u001b[0;32m   2009\u001b[0m         )\n\u001b[0;32m   2010\u001b[0m \u001b[1;33m\u001b[0m\u001b[0m\n",
      "\u001b[1;31mTypeError\u001b[0m: Can only merge Series or DataFrame objects, a <class 'method'> was passed"
     ]
    }
   ],
   "source": [
    "pd.merge(x1,y1, how='left', on='id')"
   ]
  },
  {
   "cell_type": "code",
   "execution_count": 59,
   "metadata": {},
   "outputs": [
    {
     "name": "stdout",
     "output_type": "stream",
     "text": [
      "xgboost mae 는 1.2829265556406977\n",
      "xgboost mae 는 0.7349076338338851\n",
      "xgboost mae 는 2.2790482931423184\n",
      "xgboost mae 는 1.4711147229343653\n"
     ]
    }
   ],
   "source": [
    "x_train, x_test, y_train, y_test = train_test_split(x,y1, test_size=0.2, random_state=43)\n",
    "\n",
    "model = XGBRegressor()\n",
    "model.fit(x_train,y_train)\n",
    "y_pred = model.predict(x_test)\n",
    "mae = mean_absolute_error(y_pred, y_test)\n",
    "print('xgboost mae 는', mae)\n",
    "\n",
    "x_train, x_test, y_train, y_test = train_test_split(x,y2, test_size=0.2, random_state=43)\n",
    "model = XGBRegressor()\n",
    "model.fit(x_train,y_train)\n",
    "y_pred = model.predict(x_test) \n",
    "mae = mean_absolute_error(y_pred, y_test)\n",
    "print('xgboost mae 는', mae)\n",
    "\n",
    "x_train, x_test, y_train, y_test = train_test_split(x,y3, test_size=0.2, random_state=43)\n",
    "model = XGBRegressor()\n",
    "model.fit(x_train,y_train)\n",
    "y_pred = model.predict(x_test)\n",
    "mae = mean_absolute_error(y_pred, y_test)\n",
    "print('xgboost mae 는', mae)\n",
    "\n",
    "x_train, x_test, y_train, y_test = train_test_split(x,y4, test_size=0.2, random_state=43)\n",
    "model = XGBRegressor()\n",
    "model.fit(x_train,y_train)\n",
    "y_pred = model.predict(x_test)\n",
    "mae = mean_absolute_error(y_pred, y_test)\n",
    "print('xgboost mae 는', mae)"
   ]
  },
  {
   "cell_type": "code",
   "execution_count": null,
   "metadata": {},
   "outputs": [],
   "source": [
    "x_train, x_test, y_train, y_test = train_test_split(x,y1, test_size=0.2, random_state=43)\n",
    "\n",
    "model = XGBRegressor(n_estimators=300)\n",
    "model.fit(x_train,y_train)\n",
    "y_pred = model.predict(x_test)\n",
    "mae = mean_absolute_error(y_pred, y_test)\n",
    "print('xgboost mae 는', mae)\n",
    "\n",
    "x_train, x_test, y_train, y_test = train_test_split(x,y2, test_size=0.2, random_state=43)\n",
    "model = XGBRegressor(n_estimators=300)\n",
    "model.fit(x_train,y_train)\n",
    "y_pred = model.predict(x_test) \n",
    "mae = mean_absolute_error(y_pred, y_test)\n",
    "print('xgboost mae 는', mae)\n",
    "\n",
    "x_train, x_test, y_train, y_test = train_test_split(x,y3, test_size=0.2, random_state=43)\n",
    "model = XGBRegressor(n_estimators=300)\n",
    "model.fit(x_train,y_train)\n",
    "y_pred = model.predict(x_test)\n",
    "mae = mean_absolute_error(y_pred, y_test)\n",
    "print('xgboost mae 는', mae)\n",
    "\n",
    "x_train, x_test, y_train, y_test = train_test_split(x,y4, test_size=0.2, random_state=43)\n",
    "model = XGBRegressor(n_estimators=300)\n",
    "model.fit(x_train,y_train)\n",
    "y_pred = model.predict(x_test)\n",
    "mae = mean_absolute_error(y_pred, y_test)\n",
    "print('xgboost mae 는', mae)"
   ]
  },
  {
   "cell_type": "code",
   "execution_count": 88,
   "metadata": {},
   "outputs": [],
   "source": [
    "model2 = joblib.load('./model_save/mae78.17250055599212.dat')"
   ]
  },
  {
   "cell_type": "code",
   "execution_count": null,
   "metadata": {},
   "outputs": [],
   "source": []
  },
  {
   "cell_type": "code",
   "execution_count": null,
   "metadata": {},
   "outputs": [],
   "source": []
  },
  {
   "cell_type": "code",
   "execution_count": null,
   "metadata": {},
   "outputs": [],
   "source": []
  },
  {
   "cell_type": "markdown",
   "metadata": {},
   "source": [
    "# 제출"
   ]
  },
  {
   "cell_type": "code",
   "execution_count": 42,
   "metadata": {},
   "outputs": [],
   "source": [
    "# 제출\n",
    "pred = model1.predict(x_predict)\n",
    "\n",
    "pred = model1.predict(x_predict)\n",
    "submission = pd.read_csv('sample_submission.csv', index_col=0)\n",
    "submission['hhb'] = pred[:,0]\n",
    "submission['hbo2'] = pred[:,1]\n",
    "submission['ca'] = pred[:,2]\n",
    "submission['na'] = pred[:,3]\n",
    "\n",
    "submission.to_csv('submission0611_1.csv')"
   ]
  },
  {
   "cell_type": "raw",
   "metadata": {},
   "source": [
    "pred = model1.predict(x_predict1)\n",
    "submission['hhb'] = pred[:,0]\n",
    "submission['hbo2'] = pred[:,1]\n",
    "submission['ca'] = pred[:,2]\n",
    "submission['na'] = pred[:,3]\n",
    "submission.to_csv('submission1_1.csv')"
   ]
  },
  {
   "cell_type": "code",
   "execution_count": 255,
   "metadata": {},
   "outputs": [
    {
     "data": {
      "text/html": [
       "<div>\n",
       "<style scoped>\n",
       "    .dataframe tbody tr th:only-of-type {\n",
       "        vertical-align: middle;\n",
       "    }\n",
       "\n",
       "    .dataframe tbody tr th {\n",
       "        vertical-align: top;\n",
       "    }\n",
       "\n",
       "    .dataframe thead th {\n",
       "        text-align: right;\n",
       "    }\n",
       "</style>\n",
       "<table border=\"1\" class=\"dataframe\">\n",
       "  <thead>\n",
       "    <tr style=\"text-align: right;\">\n",
       "      <th></th>\n",
       "      <th>hhb</th>\n",
       "      <th>hbo2</th>\n",
       "      <th>ca</th>\n",
       "      <th>na</th>\n",
       "    </tr>\n",
       "    <tr>\n",
       "      <th>id</th>\n",
       "      <th></th>\n",
       "      <th></th>\n",
       "      <th></th>\n",
       "      <th></th>\n",
       "    </tr>\n",
       "  </thead>\n",
       "  <tbody>\n",
       "    <tr>\n",
       "      <th>10000</th>\n",
       "      <td>7.330</td>\n",
       "      <td>3.861</td>\n",
       "      <td>7.608</td>\n",
       "      <td>2.890</td>\n",
       "    </tr>\n",
       "    <tr>\n",
       "      <th>10001</th>\n",
       "      <td>6.530</td>\n",
       "      <td>3.993</td>\n",
       "      <td>6.310</td>\n",
       "      <td>2.105</td>\n",
       "    </tr>\n",
       "    <tr>\n",
       "      <th>10002</th>\n",
       "      <td>11.439</td>\n",
       "      <td>4.057</td>\n",
       "      <td>9.335</td>\n",
       "      <td>3.524</td>\n",
       "    </tr>\n",
       "    <tr>\n",
       "      <th>10003</th>\n",
       "      <td>8.239</td>\n",
       "      <td>4.599</td>\n",
       "      <td>9.715</td>\n",
       "      <td>3.084</td>\n",
       "    </tr>\n",
       "    <tr>\n",
       "      <th>10004</th>\n",
       "      <td>8.279</td>\n",
       "      <td>3.615</td>\n",
       "      <td>9.837</td>\n",
       "      <td>4.130</td>\n",
       "    </tr>\n",
       "    <tr>\n",
       "      <th>...</th>\n",
       "      <td>...</td>\n",
       "      <td>...</td>\n",
       "      <td>...</td>\n",
       "      <td>...</td>\n",
       "    </tr>\n",
       "    <tr>\n",
       "      <th>19995</th>\n",
       "      <td>6.134</td>\n",
       "      <td>4.480</td>\n",
       "      <td>9.480</td>\n",
       "      <td>3.342</td>\n",
       "    </tr>\n",
       "    <tr>\n",
       "      <th>19996</th>\n",
       "      <td>7.258</td>\n",
       "      <td>4.027</td>\n",
       "      <td>9.550</td>\n",
       "      <td>3.275</td>\n",
       "    </tr>\n",
       "    <tr>\n",
       "      <th>19997</th>\n",
       "      <td>9.724</td>\n",
       "      <td>3.333</td>\n",
       "      <td>9.786</td>\n",
       "      <td>3.206</td>\n",
       "    </tr>\n",
       "    <tr>\n",
       "      <th>19998</th>\n",
       "      <td>9.455</td>\n",
       "      <td>4.714</td>\n",
       "      <td>11.051</td>\n",
       "      <td>2.773</td>\n",
       "    </tr>\n",
       "    <tr>\n",
       "      <th>19999</th>\n",
       "      <td>6.110</td>\n",
       "      <td>4.011</td>\n",
       "      <td>9.873</td>\n",
       "      <td>3.264</td>\n",
       "    </tr>\n",
       "  </tbody>\n",
       "</table>\n",
       "<p>10000 rows × 4 columns</p>\n",
       "</div>"
      ],
      "text/plain": [
       "          hhb   hbo2      ca     na\n",
       "id                                 \n",
       "10000   7.330  3.861   7.608  2.890\n",
       "10001   6.530  3.993   6.310  2.105\n",
       "10002  11.439  4.057   9.335  3.524\n",
       "10003   8.239  4.599   9.715  3.084\n",
       "10004   8.279  3.615   9.837  4.130\n",
       "...       ...    ...     ...    ...\n",
       "19995   6.134  4.480   9.480  3.342\n",
       "19996   7.258  4.027   9.550  3.275\n",
       "19997   9.724  3.333   9.786  3.206\n",
       "19998   9.455  4.714  11.051  2.773\n",
       "19999   6.110  4.011   9.873  3.264\n",
       "\n",
       "[10000 rows x 4 columns]"
      ]
     },
     "execution_count": 255,
     "metadata": {},
     "output_type": "execute_result"
    }
   ],
   "source": [
    "submission"
   ]
  }
 ],
 "metadata": {
  "kernelspec": {
   "display_name": "Python 3",
   "language": "python",
   "name": "python3"
  },
  "language_info": {
   "codemirror_mode": {
    "name": "ipython",
    "version": 3
   },
   "file_extension": ".py",
   "mimetype": "text/x-python",
   "name": "python",
   "nbconvert_exporter": "python",
   "pygments_lexer": "ipython3",
   "version": "3.7.6"
  }
 },
 "nbformat": 4,
 "nbformat_minor": 4
}
