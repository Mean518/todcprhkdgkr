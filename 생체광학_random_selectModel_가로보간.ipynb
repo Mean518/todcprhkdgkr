{
 "cells": [
  {
   "cell_type": "code",
   "execution_count": 1,
   "metadata": {},
   "outputs": [
    {
     "name": "stderr",
     "output_type": "stream",
     "text": [
      "Using TensorFlow backend.\n"
     ]
    }
   ],
   "source": [
    "import pandas as pd\n",
    "import numpy as np\n",
    "from sklearn.model_selection import train_test_split\n",
    "from sklearn.ensemble import RandomForestRegressor,GradientBoostingRegressor\n",
    "from sklearn.model_selection import GridSearchCV, RandomizedSearchCV\n",
    "from keras.models import Sequential, Model\n",
    "from keras.layers import Dense, LSTM, Conv2D, Dropout, MaxPool2D, Flatten\n",
    "from sklearn.metrics import mean_absolute_error\n",
    "from xgboost import XGBRegressor\n",
    "from sklearn.feature_selection import SelectFromModel\n",
    "from sklearn.metrics import accuracy_score, r2_score\n",
    "import numpy as np"
   ]
  },
  {
   "cell_type": "code",
   "execution_count": 51,
   "metadata": {},
   "outputs": [],
   "source": [
    "train = pd.read_csv('train.csv', index_col=0)\n",
    "test = pd.read_csv('test.csv', index_col=0)\n",
    "submission = pd.read_csv('sample_submission.csv', index_col=0)"
   ]
  },
  {
   "cell_type": "code",
   "execution_count": 52,
   "metadata": {},
   "outputs": [],
   "source": [
    "train = train.iloc[:,36:]"
   ]
  },
  {
   "cell_type": "code",
   "execution_count": 53,
   "metadata": {},
   "outputs": [],
   "source": [
    "x = train.iloc[:,:-4]\n",
    "y = train.iloc[:,-4:]"
   ]
  },
  {
   "cell_type": "code",
   "execution_count": 54,
   "metadata": {},
   "outputs": [],
   "source": [
    "test = test.iloc[:,36:]"
   ]
  },
  {
   "cell_type": "code",
   "execution_count": 55,
   "metadata": {},
   "outputs": [],
   "source": [
    "x = x.interpolate(axis=0)\n",
    "test = test.interpolate(axis=0)\n",
    "\n",
    "x = x.fillna(x.mean())\n",
    "test = test.fillna(test.mean())"
   ]
  },
  {
   "cell_type": "code",
   "execution_count": 56,
   "metadata": {},
   "outputs": [
    {
     "data": {
      "text/plain": [
       "(10000, 35)"
      ]
     },
     "execution_count": 56,
     "metadata": {},
     "output_type": "execute_result"
    }
   ],
   "source": [
    "x.shape"
   ]
  },
  {
   "cell_type": "code",
   "execution_count": 57,
   "metadata": {},
   "outputs": [
    {
     "data": {
      "text/plain": [
       "(10000, 35)"
      ]
     },
     "execution_count": 57,
     "metadata": {},
     "output_type": "execute_result"
    }
   ],
   "source": [
    "test.shape"
   ]
  },
  {
   "cell_type": "code",
   "execution_count": 58,
   "metadata": {},
   "outputs": [],
   "source": [
    "train = np.array(train)\n",
    "x_predict = np.array(test)"
   ]
  },
  {
   "cell_type": "code",
   "execution_count": 59,
   "metadata": {},
   "outputs": [],
   "source": [
    "# 전처리\n",
    "from sklearn.preprocessing import RobustScaler, StandardScaler\n",
    "scaler = RobustScaler()\n",
    "scaler.fit(x) \n",
    "x = scaler.transform(x)\n",
    "x_predict = scaler.transform(x_predict)\n",
    "\n",
    "# from sklearn.decomposition import PCA\n",
    "# pca = PCA(n_components=12)\n",
    "# pca.fit(x)\n",
    "# x = pca.transform(x)\n",
    "# x_predict = pca.transform(x_predict)"
   ]
  },
  {
   "cell_type": "code",
   "execution_count": 167,
   "metadata": {},
   "outputs": [],
   "source": [
    "# from sklearn.preprocessing import MinMaxScaler\n",
    "# scaler = MinMaxScaler()\n",
    "# scaler.fit(x) \n",
    "# x = scaler.transform(x)\n",
    "# x_predict = scaler.transform(x_predict)"
   ]
  },
  {
   "cell_type": "code",
   "execution_count": 62,
   "metadata": {},
   "outputs": [
    {
     "name": "stdout",
     "output_type": "stream",
     "text": [
      "랜덤포레스트 mae 는 1.623793458333332\n"
     ]
    }
   ],
   "source": [
    "x_train, x_test, y_train, y_test = train_test_split(x,y, test_size=0.2, random_state=43)\n",
    "model = RandomForestRegressor(n_estimators=300)\n",
    "model.fit(x_train,y_train)\n",
    "y_pred = model.predict(x_test) # 회귀던 분류던 사용할 수 있음\n",
    "mae = mean_absolute_error(y_pred, y_test)\n",
    "print('랜덤포레스트 mae 는', mae)"
   ]
  },
  {
   "cell_type": "code",
   "execution_count": 68,
   "metadata": {},
   "outputs": [],
   "source": [
    "train = pd.read_csv('train.csv', index_col=0)\n",
    "train = train.iloc[:,36:-4]"
   ]
  },
  {
   "cell_type": "code",
   "execution_count": 69,
   "metadata": {},
   "outputs": [
    {
     "data": {
      "text/html": [
       "<div>\n",
       "<style scoped>\n",
       "    .dataframe tbody tr th:only-of-type {\n",
       "        vertical-align: middle;\n",
       "    }\n",
       "\n",
       "    .dataframe tbody tr th {\n",
       "        vertical-align: top;\n",
       "    }\n",
       "\n",
       "    .dataframe thead th {\n",
       "        text-align: right;\n",
       "    }\n",
       "</style>\n",
       "<table border=\"1\" class=\"dataframe\">\n",
       "  <thead>\n",
       "    <tr style=\"text-align: right;\">\n",
       "      <th></th>\n",
       "      <th>랜덤포레스트_feature_importance</th>\n",
       "    </tr>\n",
       "  </thead>\n",
       "  <tbody>\n",
       "    <tr>\n",
       "      <th>780_dst</th>\n",
       "      <td>0.039314</td>\n",
       "    </tr>\n",
       "    <tr>\n",
       "      <th>790_dst</th>\n",
       "      <td>0.038471</td>\n",
       "    </tr>\n",
       "    <tr>\n",
       "      <th>850_dst</th>\n",
       "      <td>0.035945</td>\n",
       "    </tr>\n",
       "    <tr>\n",
       "      <th>970_dst</th>\n",
       "      <td>0.035426</td>\n",
       "    </tr>\n",
       "    <tr>\n",
       "      <th>810_dst</th>\n",
       "      <td>0.034453</td>\n",
       "    </tr>\n",
       "    <tr>\n",
       "      <th>770_dst</th>\n",
       "      <td>0.034297</td>\n",
       "    </tr>\n",
       "    <tr>\n",
       "      <th>960_dst</th>\n",
       "      <td>0.032369</td>\n",
       "    </tr>\n",
       "    <tr>\n",
       "      <th>980_dst</th>\n",
       "      <td>0.031985</td>\n",
       "    </tr>\n",
       "    <tr>\n",
       "      <th>800_dst</th>\n",
       "      <td>0.031917</td>\n",
       "    </tr>\n",
       "    <tr>\n",
       "      <th>830_dst</th>\n",
       "      <td>0.031843</td>\n",
       "    </tr>\n",
       "    <tr>\n",
       "      <th>820_dst</th>\n",
       "      <td>0.031210</td>\n",
       "    </tr>\n",
       "    <tr>\n",
       "      <th>860_dst</th>\n",
       "      <td>0.029330</td>\n",
       "    </tr>\n",
       "    <tr>\n",
       "      <th>990_dst</th>\n",
       "      <td>0.028741</td>\n",
       "    </tr>\n",
       "    <tr>\n",
       "      <th>870_dst</th>\n",
       "      <td>0.028639</td>\n",
       "    </tr>\n",
       "    <tr>\n",
       "      <th>920_dst</th>\n",
       "      <td>0.028217</td>\n",
       "    </tr>\n",
       "    <tr>\n",
       "      <th>950_dst</th>\n",
       "      <td>0.027884</td>\n",
       "    </tr>\n",
       "    <tr>\n",
       "      <th>910_dst</th>\n",
       "      <td>0.027735</td>\n",
       "    </tr>\n",
       "    <tr>\n",
       "      <th>900_dst</th>\n",
       "      <td>0.027704</td>\n",
       "    </tr>\n",
       "    <tr>\n",
       "      <th>890_dst</th>\n",
       "      <td>0.027297</td>\n",
       "    </tr>\n",
       "    <tr>\n",
       "      <th>840_dst</th>\n",
       "      <td>0.027105</td>\n",
       "    </tr>\n",
       "    <tr>\n",
       "      <th>740_dst</th>\n",
       "      <td>0.026842</td>\n",
       "    </tr>\n",
       "    <tr>\n",
       "      <th>760_dst</th>\n",
       "      <td>0.026383</td>\n",
       "    </tr>\n",
       "    <tr>\n",
       "      <th>930_dst</th>\n",
       "      <td>0.026275</td>\n",
       "    </tr>\n",
       "    <tr>\n",
       "      <th>730_dst</th>\n",
       "      <td>0.026196</td>\n",
       "    </tr>\n",
       "    <tr>\n",
       "      <th>750_dst</th>\n",
       "      <td>0.025919</td>\n",
       "    </tr>\n",
       "    <tr>\n",
       "      <th>880_dst</th>\n",
       "      <td>0.025888</td>\n",
       "    </tr>\n",
       "    <tr>\n",
       "      <th>720_dst</th>\n",
       "      <td>0.024882</td>\n",
       "    </tr>\n",
       "    <tr>\n",
       "      <th>940_dst</th>\n",
       "      <td>0.024858</td>\n",
       "    </tr>\n",
       "    <tr>\n",
       "      <th>690_dst</th>\n",
       "      <td>0.024091</td>\n",
       "    </tr>\n",
       "    <tr>\n",
       "      <th>700_dst</th>\n",
       "      <td>0.024082</td>\n",
       "    </tr>\n",
       "    <tr>\n",
       "      <th>710_dst</th>\n",
       "      <td>0.023925</td>\n",
       "    </tr>\n",
       "    <tr>\n",
       "      <th>680_dst</th>\n",
       "      <td>0.023609</td>\n",
       "    </tr>\n",
       "    <tr>\n",
       "      <th>650_dst</th>\n",
       "      <td>0.023009</td>\n",
       "    </tr>\n",
       "    <tr>\n",
       "      <th>670_dst</th>\n",
       "      <td>0.022565</td>\n",
       "    </tr>\n",
       "    <tr>\n",
       "      <th>660_dst</th>\n",
       "      <td>0.021596</td>\n",
       "    </tr>\n",
       "  </tbody>\n",
       "</table>\n",
       "</div>"
      ],
      "text/plain": [
       "         랜덤포레스트_feature_importance\n",
       "780_dst                   0.039314\n",
       "790_dst                   0.038471\n",
       "850_dst                   0.035945\n",
       "970_dst                   0.035426\n",
       "810_dst                   0.034453\n",
       "770_dst                   0.034297\n",
       "960_dst                   0.032369\n",
       "980_dst                   0.031985\n",
       "800_dst                   0.031917\n",
       "830_dst                   0.031843\n",
       "820_dst                   0.031210\n",
       "860_dst                   0.029330\n",
       "990_dst                   0.028741\n",
       "870_dst                   0.028639\n",
       "920_dst                   0.028217\n",
       "950_dst                   0.027884\n",
       "910_dst                   0.027735\n",
       "900_dst                   0.027704\n",
       "890_dst                   0.027297\n",
       "840_dst                   0.027105\n",
       "740_dst                   0.026842\n",
       "760_dst                   0.026383\n",
       "930_dst                   0.026275\n",
       "730_dst                   0.026196\n",
       "750_dst                   0.025919\n",
       "880_dst                   0.025888\n",
       "720_dst                   0.024882\n",
       "940_dst                   0.024858\n",
       "690_dst                   0.024091\n",
       "700_dst                   0.024082\n",
       "710_dst                   0.023925\n",
       "680_dst                   0.023609\n",
       "650_dst                   0.023009\n",
       "670_dst                   0.022565\n",
       "660_dst                   0.021596"
      ]
     },
     "execution_count": 69,
     "metadata": {},
     "output_type": "execute_result"
    }
   ],
   "source": [
    "feature_importances_ = model.feature_importances_\n",
    "feature_importances = pd.DataFrame({'랜덤포레스트_feature_importance':feature_importances_}, index=train.columns)\n",
    "feature_importances = feature_importances.sort_values(by=['랜덤포레스트_feature_importance'],ascending=False)\n",
    "feature_importances"
   ]
  },
  {
   "cell_type": "code",
   "execution_count": null,
   "metadata": {},
   "outputs": [],
   "source": [
    "corr = x.corr()\n",
    "Survived = corr.loc[:,['hhb','hbo2','ca','na']]\n",
    "Survived = abs(Survived)\n",
    "a = Survived.sort_values(by=['hhb','hbo2','ca','na'],\n",
    "                              ascending=False)\n",
    "a = a[2:]\n",
    "a"
   ]
  },
  {
   "cell_type": "code",
   "execution_count": 2,
   "metadata": {},
   "outputs": [
    {
     "name": "stdout",
     "output_type": "stream",
     "text": [
      "랜덤포레스트 mae 는 1.4601283828124996\n"
     ]
    }
   ],
   "source": [
    "x_train, x_test, y_train, y_test = train_test_split(x,y, test_size=0.2, random_state=43)\n",
    "model = RandomForestRegressor(n_estimators=160)\n",
    "model.fit(x_train,y_train)\n",
    "y_pred = model.predict(x_test) # 회귀던 분류던 사용할 수 있음\n",
    "mae = mean_absolute_error(y_pred, y_test)\n",
    "print('랜덤포레스트 mae 는', mae)"
   ]
  },
  {
   "cell_type": "markdown",
   "metadata": {},
   "source": [
    "# GradientBoostingRegressor"
   ]
  },
  {
   "cell_type": "code",
   "execution_count": 9,
   "metadata": {},
   "outputs": [
    {
     "data": {
      "text/plain": [
       "array([ 5.59,  0.  , 10.64, ...,  9.84,  6.38,  9.35])"
      ]
     },
     "execution_count": 9,
     "metadata": {},
     "output_type": "execute_result"
    }
   ],
   "source": [
    "y[:,0]"
   ]
  },
  {
   "cell_type": "code",
   "execution_count": 10,
   "metadata": {},
   "outputs": [],
   "source": [
    "a = []\n",
    "for i in range(y.shape[1]) :\n",
    "    a.append(y[:,i])"
   ]
  },
  {
   "cell_type": "code",
   "execution_count": 11,
   "metadata": {},
   "outputs": [
    {
     "data": {
      "text/plain": [
       "[array([ 5.59,  0.  , 10.64, ...,  9.84,  6.38,  9.35]),\n",
       " array([4.32, 2.83, 3.  , ..., 3.2 , 4.06, 4.34]),\n",
       " array([ 8.92,  7.25,  8.4 , ..., 10.45, 11.28,  9.73]),\n",
       " array([4.29, 4.64, 5.16, ..., 2.06, 4.03, 3.54])]"
      ]
     },
     "execution_count": 11,
     "metadata": {},
     "output_type": "execute_result"
    }
   ],
   "source": [
    "a"
   ]
  },
  {
   "cell_type": "code",
   "execution_count": 29,
   "metadata": {},
   "outputs": [
    {
     "name": "stdout",
     "output_type": "stream",
     "text": [
      "GradientBoostingRegressor mae 는 1.5838840045681222\n",
      "GradientBoostingRegressor mae 는 0.7350616301783675\n",
      "GradientBoostingRegressor mae 는 2.308885373741608\n",
      "GradientBoostingRegressor mae 는 1.4267326043872253\n"
     ]
    }
   ],
   "source": [
    "x_train, x_test, y_train, y_test = train_test_split(x,a[0], test_size=0.2, random_state=43)\n",
    "\n",
    "model = GradientBoostingRegressor()\n",
    "model.fit(x_train,y_train)\n",
    "y_pred = model.predict(x_test) # 회귀던 분류던 사용할 수 있음\n",
    "mae = mean_absolute_error(y_pred, y_test)\n",
    "print('GradientBoostingRegressor mae 는', mae)\n",
    "\n",
    "x_train, x_test, y_train, y_test = train_test_split(x,a[1], test_size=0.2, random_state=43)\n",
    "model = GradientBoostingRegressor()\n",
    "model.fit(x_train,y_train)\n",
    "y_pred = model.predict(x_test) # 회귀던 분류던 사용할 수 있음\n",
    "mae = mean_absolute_error(y_pred, y_test)\n",
    "print('GradientBoostingRegressor mae 는', mae)\n",
    "\n",
    "x_train, x_test, y_train, y_test = train_test_split(x,a[2], test_size=0.2, random_state=43)\n",
    "model = GradientBoostingRegressor()\n",
    "model.fit(x_train,y_train)\n",
    "y_pred = model.predict(x_test) # 회귀던 분류던 사용할 수 있음\n",
    "mae = mean_absolute_error(y_pred, y_test)\n",
    "print('GradientBoostingRegressor mae 는', mae)\n",
    "\n",
    "x_train, x_test, y_train, y_test = train_test_split(x,a[3], test_size=0.2, random_state=43)\n",
    "model = GradientBoostingRegressor()\n",
    "model.fit(x_train,y_train)\n",
    "y_pred = model.predict(x_test) # 회귀던 분류던 사용할 수 있음\n",
    "mae = mean_absolute_error(y_pred, y_test)\n",
    "print('GradientBoostingRegressor mae 는', mae)"
   ]
  },
  {
   "cell_type": "code",
   "execution_count": null,
   "metadata": {},
   "outputs": [],
   "source": []
  },
  {
   "cell_type": "code",
   "execution_count": 13,
   "metadata": {},
   "outputs": [],
   "source": [
    "x_train, x_test, y_train, y_test = train_test_split(x,a[0], test_size=0.2, random_state=43)\n",
    "\n",
    "model = GradientBoostingRegressor(n_estimators=200)\n",
    "model.fit(x_train,y_train)\n",
    "y_pred = model.predict(x_test) # 회귀던 분류던 사용할 수 있음\n",
    "mae = mean_absolute_error(y_pred, y_test)\n",
    "print('GradientBoostingRegressor mae 는', mae)\n",
    "\n",
    "x_train, x_test, y_train, y_test = train_test_split(x,a[1], test_size=0.2, random_state=43)\n",
    "model = GradientBoostingRegressor(n_estimators=200)\n",
    "model.fit(x_train,y_train)\n",
    "y_pred = model.predict(x_test) # 회귀던 분류던 사용할 수 있음\n",
    "mae = mean_absolute_error(y_pred, y_test)\n",
    "print('GradientBoostingRegressor mae 는', mae)\n",
    "\n",
    "x_train, x_test, y_train, y_test = train_test_split(x,a[2], test_size=0.2, random_state=43)\n",
    "model = GradientBoostingRegressor(n_estimators=200)\n",
    "model.fit(x_train,y_train)\n",
    "y_pred = model.predict(x_test) # 회귀던 분류던 사용할 수 있음\n",
    "mae = mean_absolute_error(y_pred, y_test)\n",
    "print('GradientBoostingRegressor mae 는', mae)\n",
    "\n",
    "x_train, x_test, y_train, y_test = train_test_split(x,a[3], test_size=0.2, random_state=43)\n",
    "model = GradientBoostingRegressor(n_estimators=200)\n",
    "model.fit(x_train,y_train)\n",
    "y_pred = model.predict(x_test) # 회귀던 분류던 사용할 수 있음\n",
    "mae = mean_absolute_error(y_pred, y_test)\n",
    "print('GradientBoostingRegressor mae 는', mae)"
   ]
  },
  {
   "cell_type": "code",
   "execution_count": 20,
   "metadata": {},
   "outputs": [
    {
     "name": "stderr",
     "output_type": "stream",
     "text": [
      "C:\\Users\\bitcamp\\anaconda3\\lib\\site-packages\\sklearn\\ensemble\\_gb.py:1454: DataConversionWarning: A column-vector y was passed when a 1d array was expected. Please change the shape of y to (n_samples, ), for example using ravel().\n",
      "  y = column_or_1d(y, warn=True)\n"
     ]
    },
    {
     "name": "stdout",
     "output_type": "stream",
     "text": [
      "랜덤포레스트 mae 는 1.837030398551365\n"
     ]
    }
   ],
   "source": [
    "from sklearn.decomposition import PCA\n",
    "pca = PCA(n_components=1)\n",
    "pca.fit(y)\n",
    "y1 = pca.transform(y)\n",
    "x_train, x_test, y_train, y_test = train_test_split(x,y1, test_size=0.2, random_state=43)\n",
    "model = GradientBoostingRegressor(n_estimators=200)\n",
    "model.fit(x_train,y_train)\n",
    "y_pred = model.predict(x_test) # 회귀던 분류던 사용할 수 있음\n",
    "mae = mean_absolute_error(y_pred, y_test)\n",
    "print('GradientBoostingRegressor mae 는', mae)"
   ]
  },
  {
   "cell_type": "markdown",
   "metadata": {},
   "source": [
    "# XGBRegressor()"
   ]
  },
  {
   "cell_type": "code",
   "execution_count": 73,
   "metadata": {},
   "outputs": [
    {
     "data": {
      "text/plain": [
       "id\n",
       "0        5.59\n",
       "1        0.00\n",
       "2       10.64\n",
       "3        5.67\n",
       "4       11.97\n",
       "        ...  \n",
       "9995    12.68\n",
       "9996     8.46\n",
       "9997     9.84\n",
       "9998     6.38\n",
       "9999     9.35\n",
       "Name: hhb, Length: 10000, dtype: float64"
      ]
     },
     "execution_count": 73,
     "metadata": {},
     "output_type": "execute_result"
    }
   ],
   "source": [
    "y.iloc[:,0]"
   ]
  },
  {
   "cell_type": "code",
   "execution_count": 74,
   "metadata": {},
   "outputs": [
    {
     "name": "stdout",
     "output_type": "stream",
     "text": [
      "xgboost mae 는 1.985841414503455\n",
      "xgboost mae 는 0.8020689496445654\n",
      "xgboost mae 는 2.473951157708168\n",
      "xgboost mae 는 1.4655645578134058\n"
     ]
    }
   ],
   "source": [
    "x_train, x_test, y_train, y_test = train_test_split(x,y.iloc[:,0], test_size=0.2, random_state=43)\n",
    "\n",
    "model = XGBRegressor()\n",
    "model.fit(x_train,y_train)\n",
    "y_pred = model.predict(x_test)\n",
    "mae = mean_absolute_error(y_pred, y_test)\n",
    "print('xgboost mae 는', mae)\n",
    "\n",
    "x_train, x_test, y_train, y_test = train_test_split(x,y.iloc[:,1], test_size=0.2, random_state=43)\n",
    "model = XGBRegressor()\n",
    "model.fit(x_train,y_train)\n",
    "y_pred = model.predict(x_test) \n",
    "mae = mean_absolute_error(y_pred, y_test)\n",
    "print('xgboost mae 는', mae)\n",
    "\n",
    "x_train, x_test, y_train, y_test = train_test_split(x,y.iloc[:,2], test_size=0.2, random_state=43)\n",
    "model = XGBRegressor()\n",
    "model.fit(x_train,y_train)\n",
    "y_pred = model.predict(x_test)\n",
    "mae = mean_absolute_error(y_pred, y_test)\n",
    "print('xgboost mae 는', mae)\n",
    "\n",
    "x_train, x_test, y_train, y_test = train_test_split(x,y.iloc[:,3], test_size=0.2, random_state=43)\n",
    "model = XGBRegressor()\n",
    "model.fit(x_train,y_train)\n",
    "y_pred = model.predict(x_test)\n",
    "mae = mean_absolute_error(y_pred, y_test)\n",
    "print('xgboost mae 는', mae)"
   ]
  },
  {
   "cell_type": "code",
   "execution_count": 97,
   "metadata": {},
   "outputs": [
    {
     "name": "stdout",
     "output_type": "stream",
     "text": [
      "RandomForestRegressor mae 는 1.8973619999999998\n",
      "RandomForestRegressor mae 는 0.7542828833333333\n",
      "RandomForestRegressor mae 는 2.333656416666667\n",
      "RandomForestRegressor mae 는 1.4125609166666668\n"
     ]
    }
   ],
   "source": [
    "x_train, x_test, y_train, y_test = train_test_split(x,y.iloc[:,0], test_size=0.2, random_state=43)\n",
    "\n",
    "model = RandomForestRegressor(n_estimators=300)\n",
    "model.fit(x_train,y_train)\n",
    "y_pred = model.predict(x_test)\n",
    "mae = mean_absolute_error(y_pred, y_test)\n",
    "print('RandomForestRegressor mae 는', mae)\n",
    "\n",
    "x_train, x_test, y_train, y_test = train_test_split(x,y.iloc[:,1], test_size=0.2, random_state=43)\n",
    "\n",
    "model = RandomForestRegressor(n_estimators=300)\n",
    "model.fit(x_train,y_train)\n",
    "y_pred = model.predict(x_test)\n",
    "mae = mean_absolute_error(y_pred, y_test)\n",
    "print('RandomForestRegressor mae 는', mae)\n",
    "\n",
    "x_train, x_test, y_train, y_test = train_test_split(x,y.iloc[:,2], test_size=0.2, random_state=43)\n",
    "\n",
    "model = RandomForestRegressor(n_estimators=300)\n",
    "model.fit(x_train,y_train)\n",
    "y_pred = model.predict(x_test)\n",
    "mae = mean_absolute_error(y_pred, y_test)\n",
    "print('RandomForestRegressor mae 는', mae)\n",
    "\n",
    "x_train, x_test, y_train, y_test = train_test_split(x,y.iloc[:,3], test_size=0.2, random_state=43)\n",
    "\n",
    "model = RandomForestRegressor(n_estimators=300)\n",
    "model.fit(x_train,y_train)\n",
    "y_pred = model.predict(x_test)\n",
    "mae = mean_absolute_error(y_pred, y_test)\n",
    "print('RandomForestRegressor mae 는', mae)"
   ]
  },
  {
   "cell_type": "code",
   "execution_count": 85,
   "metadata": {},
   "outputs": [
    {
     "name": "stdout",
     "output_type": "stream",
     "text": [
      "RandomForestRegressor mae 는 1.8965933666666668\n",
      "[0.01760668 0.01764651 0.01849684 0.01857285 0.01914372 0.0196167\n",
      " 0.02013176 0.02031608 0.02057872 0.02086349 0.02087433 0.02101057\n",
      " 0.0217065  0.02174618 0.02176691 0.02290204 0.0235749  0.02363538\n",
      " 0.02365461 0.02492243 0.02604238 0.02610384 0.02639844 0.03023521\n",
      " 0.03049992 0.0311826  0.0324361  0.0355022  0.03619014 0.03901171\n",
      " 0.04314435 0.04646882 0.04795265 0.06272853 0.06733592]\n",
      "mae는 1.985841414503455\n",
      "mae는 1.9082601587754489\n",
      "mae는 1.9410161343801022\n",
      "mae는 1.8781339675986768\n",
      "mae는 1.9140227403986456\n",
      "mae는 1.9058803449630737\n",
      "mae는 1.893496838222146\n",
      "mae는 1.8699945471704007\n",
      "mae는 1.9030650523728132\n",
      "mae는 1.9036353793019056\n",
      "mae는 1.9191212417805195\n",
      "mae는 1.9458620796561241\n",
      "mae는 1.9013976004278659\n",
      "mae는 1.921917523881793\n",
      "mae는 1.918742645225525\n",
      "mae는 1.9204881935125588\n",
      "mae는 1.9281053926229474\n",
      "mae는 1.9069887832456824\n",
      "mae는 1.9504726079297066\n",
      "mae는 1.939090841883421\n",
      "mae는 1.9040193865537645\n",
      "mae는 1.9391908463770153\n",
      "mae는 1.945283686898947\n",
      "mae는 1.9756952082216739\n",
      "mae는 1.9579967240250111\n",
      "mae는 1.991097008576393\n",
      "mae는 2.0216887143480777\n",
      "mae는 2.006478501588702\n",
      "mae는 2.021076397360563\n",
      "mae는 2.013962732926607\n",
      "mae는 2.0508791039454937\n",
      "mae는 2.1040384833717343\n",
      "mae는 2.121371373666525\n",
      "mae는 2.1773278242087364\n",
      "mae는 2.2503006838941575\n"
     ]
    }
   ],
   "source": [
    "# 첫번째\n",
    "x_train, x_test, y_train, y_test = train_test_split(x,y.iloc[:,0], test_size=0.2, random_state=43)\n",
    "\n",
    "model = RandomForestRegressor(n_estimators=300)\n",
    "model.fit(x_train,y_train)\n",
    "y_pred = model.predict(x_test)\n",
    "mae = mean_absolute_error(y_pred, y_test)\n",
    "print('RandomForestRegressor mae 는', mae)\n",
    "\n",
    "thresholds = np.sort(model.feature_importances_)\n",
    "\n",
    "print(thresholds)\n",
    "\n",
    "for thresh in thresholds : # 컬럼수만큼 돈다! 빙글빙글\n",
    "    selection = SelectFromModel(model, threshold=thresh, prefit=True)\n",
    "    selection_x_train = selection.transform(x_train)\n",
    "    # print(selection_x_train.shape) # 칼럼이 하나씩 줄고 있는걸 알 수 있음 (가장 중요 x를 하나씩 지우고 있음)\n",
    "    \n",
    "    selection_model = XGBRegressor()\n",
    "    selection_model.fit(selection_x_train, y_train)\n",
    "\n",
    "    select_x_test = selection.transform(x_test)\n",
    "    x_pred = selection_model.predict(select_x_test)\n",
    "\n",
    "    score = mean_absolute_error(y_test, x_pred)\n",
    "    print('mae는',score)"
   ]
  },
  {
   "cell_type": "code",
   "execution_count": 84,
   "metadata": {
    "scrolled": true
   },
   "outputs": [
    {
     "name": "stdout",
     "output_type": "stream",
     "text": [
      "[0]\tvalidation_0-logloss:-1.62349\tvalidation_0-rmse:7.98289\tvalidation_1-logloss:-1.63345\tvalidation_1-rmse:8.00147\n",
      "Multiple eval metrics have been passed: 'validation_1-rmse' will be used for early stopping.\n",
      "\n",
      "Will train until validation_1-rmse hasn't improved in 100 rounds.\n",
      "[1]\tvalidation_0-logloss:-4.01836\tvalidation_0-rmse:7.91206\tvalidation_1-logloss:-4.04162\tvalidation_1-rmse:7.93042\n",
      "[2]\tvalidation_0-logloss:-6.65726\tvalidation_0-rmse:7.84202\tvalidation_1-logloss:-6.69348\tvalidation_1-rmse:7.86024\n",
      "[3]\tvalidation_0-logloss:-9.86237\tvalidation_0-rmse:7.77273\tvalidation_1-logloss:-9.91968\tvalidation_1-rmse:7.79076\n",
      "[4]\tvalidation_0-logloss:-23.35875\tvalidation_0-rmse:7.70420\tvalidation_1-logloss:-23.24529\tvalidation_1-rmse:7.72210\n",
      "[5]\tvalidation_0-logloss:-54.33299\tvalidation_0-rmse:7.63644\tvalidation_1-logloss:-55.22797\tvalidation_1-rmse:7.65435\n",
      "[6]\tvalidation_0-logloss:-150.32570\tvalidation_0-rmse:7.56950\tvalidation_1-logloss:-155.65308\tvalidation_1-rmse:7.58738\n",
      "[7]\tvalidation_0-logloss:-239.48640\tvalidation_0-rmse:7.50323\tvalidation_1-logloss:-240.07355\tvalidation_1-rmse:7.52112\n",
      "[8]\tvalidation_0-logloss:-251.89426\tvalidation_0-rmse:7.43779\tvalidation_1-logloss:-252.70654\tvalidation_1-rmse:7.45547\n",
      "[9]\tvalidation_0-logloss:-253.78656\tvalidation_0-rmse:7.37296\tvalidation_1-logloss:-254.20203\tvalidation_1-rmse:7.39061\n",
      "[10]\tvalidation_0-logloss:-254.78116\tvalidation_0-rmse:7.30890\tvalidation_1-logloss:-255.19394\tvalidation_1-rmse:7.32627\n",
      "[11]\tvalidation_0-logloss:-255.65330\tvalidation_0-rmse:7.24560\tvalidation_1-logloss:-255.75996\tvalidation_1-rmse:7.26303\n",
      "[12]\tvalidation_0-logloss:-256.43182\tvalidation_0-rmse:7.18294\tvalidation_1-logloss:-256.74765\tvalidation_1-rmse:7.20038\n",
      "[13]\tvalidation_0-logloss:-256.72577\tvalidation_0-rmse:7.12097\tvalidation_1-logloss:-257.12643\tvalidation_1-rmse:7.13830\n",
      "[14]\tvalidation_0-logloss:-256.85535\tvalidation_0-rmse:7.05964\tvalidation_1-logloss:-257.19784\tvalidation_1-rmse:7.07681\n",
      "[15]\tvalidation_0-logloss:-257.08344\tvalidation_0-rmse:6.99913\tvalidation_1-logloss:-257.28076\tvalidation_1-rmse:7.01652\n",
      "[16]\tvalidation_0-logloss:-257.17166\tvalidation_0-rmse:6.93928\tvalidation_1-logloss:-257.28925\tvalidation_1-rmse:6.95677\n",
      "[17]\tvalidation_0-logloss:-257.23132\tvalidation_0-rmse:6.87996\tvalidation_1-logloss:-257.46594\tvalidation_1-rmse:6.89753\n",
      "[18]\tvalidation_0-logloss:-257.24881\tvalidation_0-rmse:6.82141\tvalidation_1-logloss:-257.47839\tvalidation_1-rmse:6.83905\n",
      "[19]\tvalidation_0-logloss:-257.28568\tvalidation_0-rmse:6.76353\tvalidation_1-logloss:-257.52905\tvalidation_1-rmse:6.78111\n",
      "[20]\tvalidation_0-logloss:-257.28742\tvalidation_0-rmse:6.70619\tvalidation_1-logloss:-257.53506\tvalidation_1-rmse:6.72390\n",
      "[21]\tvalidation_0-logloss:-257.30768\tvalidation_0-rmse:6.64958\tvalidation_1-logloss:-257.64102\tvalidation_1-rmse:6.66761\n",
      "[22]\tvalidation_0-logloss:-257.32724\tvalidation_0-rmse:6.59369\tvalidation_1-logloss:-257.64377\tvalidation_1-rmse:6.61167\n",
      "[23]\tvalidation_0-logloss:-257.34296\tvalidation_0-rmse:6.53825\tvalidation_1-logloss:-257.66528\tvalidation_1-rmse:6.55668\n",
      "[24]\tvalidation_0-logloss:-257.36542\tvalidation_0-rmse:6.48341\tvalidation_1-logloss:-257.66739\tvalidation_1-rmse:6.50182\n",
      "[25]\tvalidation_0-logloss:-257.37683\tvalidation_0-rmse:6.42932\tvalidation_1-logloss:-257.67172\tvalidation_1-rmse:6.44787\n",
      "[26]\tvalidation_0-logloss:-257.37927\tvalidation_0-rmse:6.37583\tvalidation_1-logloss:-257.77567\tvalidation_1-rmse:6.39435\n",
      "[27]\tvalidation_0-logloss:-257.38534\tvalidation_0-rmse:6.32299\tvalidation_1-logloss:-257.77740\tvalidation_1-rmse:6.34190\n",
      "[28]\tvalidation_0-logloss:-257.39987\tvalidation_0-rmse:6.27075\tvalidation_1-logloss:-257.77979\tvalidation_1-rmse:6.28993\n",
      "[29]\tvalidation_0-logloss:-257.40857\tvalidation_0-rmse:6.21901\tvalidation_1-logloss:-257.80392\tvalidation_1-rmse:6.23868\n",
      "[30]\tvalidation_0-logloss:-257.41043\tvalidation_0-rmse:6.16787\tvalidation_1-logloss:-257.80698\tvalidation_1-rmse:6.18787\n",
      "[31]\tvalidation_0-logloss:-257.43378\tvalidation_0-rmse:6.11744\tvalidation_1-logloss:-257.92276\tvalidation_1-rmse:6.13740\n",
      "[32]\tvalidation_0-logloss:-257.43417\tvalidation_0-rmse:6.06759\tvalidation_1-logloss:-257.92297\tvalidation_1-rmse:6.08823\n",
      "[33]\tvalidation_0-logloss:-257.43686\tvalidation_0-rmse:6.01831\tvalidation_1-logloss:-257.92346\tvalidation_1-rmse:6.03870\n",
      "[34]\tvalidation_0-logloss:-257.45062\tvalidation_0-rmse:5.96952\tvalidation_1-logloss:-257.92502\tvalidation_1-rmse:5.99038\n",
      "[35]\tvalidation_0-logloss:-257.45392\tvalidation_0-rmse:5.92134\tvalidation_1-logloss:-257.98926\tvalidation_1-rmse:5.94238\n",
      "[36]\tvalidation_0-logloss:-257.45462\tvalidation_0-rmse:5.87363\tvalidation_1-logloss:-257.98932\tvalidation_1-rmse:5.89501\n",
      "[37]\tvalidation_0-logloss:-257.46024\tvalidation_0-rmse:5.82646\tvalidation_1-logloss:-257.98996\tvalidation_1-rmse:5.84801\n",
      "[38]\tvalidation_0-logloss:-257.46478\tvalidation_0-rmse:5.77999\tvalidation_1-logloss:-257.98972\tvalidation_1-rmse:5.80167\n",
      "[39]\tvalidation_0-logloss:-257.46933\tvalidation_0-rmse:5.73395\tvalidation_1-logloss:-257.98981\tvalidation_1-rmse:5.75552\n",
      "[40]\tvalidation_0-logloss:-257.46652\tvalidation_0-rmse:5.68853\tvalidation_1-logloss:-257.99054\tvalidation_1-rmse:5.71035\n",
      "[41]\tvalidation_0-logloss:-257.47153\tvalidation_0-rmse:5.64352\tvalidation_1-logloss:-258.00348\tvalidation_1-rmse:5.66560\n",
      "[42]\tvalidation_0-logloss:-257.47830\tvalidation_0-rmse:5.59918\tvalidation_1-logloss:-258.03192\tvalidation_1-rmse:5.62131\n",
      "[43]\tvalidation_0-logloss:-257.47958\tvalidation_0-rmse:5.55532\tvalidation_1-logloss:-258.03149\tvalidation_1-rmse:5.57796\n",
      "[44]\tvalidation_0-logloss:-257.47961\tvalidation_0-rmse:5.51200\tvalidation_1-logloss:-258.03143\tvalidation_1-rmse:5.53491\n",
      "[45]\tvalidation_0-logloss:-257.47971\tvalidation_0-rmse:5.46908\tvalidation_1-logloss:-258.02304\tvalidation_1-rmse:5.49196\n",
      "[46]\tvalidation_0-logloss:-257.47980\tvalidation_0-rmse:5.42680\tvalidation_1-logloss:-258.02292\tvalidation_1-rmse:5.45018\n",
      "[47]\tvalidation_0-logloss:-257.47992\tvalidation_0-rmse:5.38494\tvalidation_1-logloss:-258.02295\tvalidation_1-rmse:5.40824\n",
      "[48]\tvalidation_0-logloss:-257.48270\tvalidation_0-rmse:5.34358\tvalidation_1-logloss:-258.02295\tvalidation_1-rmse:5.36723\n",
      "[49]\tvalidation_0-logloss:-257.48279\tvalidation_0-rmse:5.30279\tvalidation_1-logloss:-258.02289\tvalidation_1-rmse:5.32671\n",
      "[50]\tvalidation_0-logloss:-257.48477\tvalidation_0-rmse:5.26224\tvalidation_1-logloss:-258.02286\tvalidation_1-rmse:5.28664\n",
      "[51]\tvalidation_0-logloss:-257.48486\tvalidation_0-rmse:5.22243\tvalidation_1-logloss:-258.02274\tvalidation_1-rmse:5.24684\n",
      "[52]\tvalidation_0-logloss:-257.48776\tvalidation_0-rmse:5.18297\tvalidation_1-logloss:-258.02277\tvalidation_1-rmse:5.20761\n",
      "[53]\tvalidation_0-logloss:-257.48770\tvalidation_0-rmse:5.14392\tvalidation_1-logloss:-258.02267\tvalidation_1-rmse:5.16869\n",
      "[54]\tvalidation_0-logloss:-257.48755\tvalidation_0-rmse:5.10550\tvalidation_1-logloss:-258.02270\tvalidation_1-rmse:5.13079\n",
      "[55]\tvalidation_0-logloss:-257.48761\tvalidation_0-rmse:5.06758\tvalidation_1-logloss:-258.02270\tvalidation_1-rmse:5.09297\n",
      "[56]\tvalidation_0-logloss:-257.48831\tvalidation_0-rmse:5.02997\tvalidation_1-logloss:-258.02274\tvalidation_1-rmse:5.05562\n",
      "[57]\tvalidation_0-logloss:-257.48795\tvalidation_0-rmse:4.99275\tvalidation_1-logloss:-258.02274\tvalidation_1-rmse:5.01874\n",
      "[58]\tvalidation_0-logloss:-257.48419\tvalidation_0-rmse:4.95620\tvalidation_1-logloss:-258.02277\tvalidation_1-rmse:4.98246\n",
      "[59]\tvalidation_0-logloss:-257.48419\tvalidation_0-rmse:4.92009\tvalidation_1-logloss:-258.02240\tvalidation_1-rmse:4.94657\n",
      "[60]\tvalidation_0-logloss:-257.48410\tvalidation_0-rmse:4.88428\tvalidation_1-logloss:-258.02237\tvalidation_1-rmse:4.91105\n",
      "[61]\tvalidation_0-logloss:-257.48059\tvalidation_0-rmse:4.84892\tvalidation_1-logloss:-258.02240\tvalidation_1-rmse:4.87597\n",
      "[62]\tvalidation_0-logloss:-257.48041\tvalidation_0-rmse:4.81400\tvalidation_1-logloss:-258.02243\tvalidation_1-rmse:4.84149\n",
      "[63]\tvalidation_0-logloss:-257.48041\tvalidation_0-rmse:4.77949\tvalidation_1-logloss:-258.02240\tvalidation_1-rmse:4.80708\n",
      "[64]\tvalidation_0-logloss:-257.47638\tvalidation_0-rmse:4.74535\tvalidation_1-logloss:-258.02225\tvalidation_1-rmse:4.77351\n",
      "[65]\tvalidation_0-logloss:-257.47449\tvalidation_0-rmse:4.71159\tvalidation_1-logloss:-258.02222\tvalidation_1-rmse:4.74051\n",
      "[66]\tvalidation_0-logloss:-257.47446\tvalidation_0-rmse:4.67826\tvalidation_1-logloss:-258.02167\tvalidation_1-rmse:4.70718\n"
     ]
    },
    {
     "name": "stdout",
     "output_type": "stream",
     "text": [
      "[67]\tvalidation_0-logloss:-257.47443\tvalidation_0-rmse:4.64537\tvalidation_1-logloss:-258.02139\tvalidation_1-rmse:4.67468\n",
      "[68]\tvalidation_0-logloss:-257.47421\tvalidation_0-rmse:4.61281\tvalidation_1-logloss:-258.02133\tvalidation_1-rmse:4.64244\n",
      "[69]\tvalidation_0-logloss:-257.47421\tvalidation_0-rmse:4.58068\tvalidation_1-logloss:-258.00555\tvalidation_1-rmse:4.61123\n",
      "[70]\tvalidation_0-logloss:-257.47089\tvalidation_0-rmse:4.54906\tvalidation_1-logloss:-258.00555\tvalidation_1-rmse:4.57996\n",
      "[71]\tvalidation_0-logloss:-257.47128\tvalidation_0-rmse:4.51767\tvalidation_1-logloss:-258.00555\tvalidation_1-rmse:4.54915\n",
      "[72]\tvalidation_0-logloss:-257.47128\tvalidation_0-rmse:4.48695\tvalidation_1-logloss:-258.00555\tvalidation_1-rmse:4.51883\n",
      "[73]\tvalidation_0-logloss:-257.47128\tvalidation_0-rmse:4.45649\tvalidation_1-logloss:-258.00555\tvalidation_1-rmse:4.48881\n",
      "[74]\tvalidation_0-logloss:-257.47122\tvalidation_0-rmse:4.42653\tvalidation_1-logloss:-258.00555\tvalidation_1-rmse:4.45951\n",
      "[75]\tvalidation_0-logloss:-257.46890\tvalidation_0-rmse:4.39674\tvalidation_1-logloss:-258.00555\tvalidation_1-rmse:4.43064\n",
      "[76]\tvalidation_0-logloss:-257.46887\tvalidation_0-rmse:4.36747\tvalidation_1-logloss:-258.00555\tvalidation_1-rmse:4.40177\n",
      "[77]\tvalidation_0-logloss:-257.46887\tvalidation_0-rmse:4.33859\tvalidation_1-logloss:-258.00555\tvalidation_1-rmse:4.37368\n",
      "[78]\tvalidation_0-logloss:-257.46881\tvalidation_0-rmse:4.30994\tvalidation_1-logloss:-258.00555\tvalidation_1-rmse:4.34550\n",
      "[79]\tvalidation_0-logloss:-257.46887\tvalidation_0-rmse:4.28166\tvalidation_1-logloss:-258.00555\tvalidation_1-rmse:4.31778\n",
      "[80]\tvalidation_0-logloss:-257.46890\tvalidation_0-rmse:4.25378\tvalidation_1-logloss:-258.00555\tvalidation_1-rmse:4.29036\n",
      "[81]\tvalidation_0-logloss:-257.46890\tvalidation_0-rmse:4.22623\tvalidation_1-logloss:-258.00555\tvalidation_1-rmse:4.26332\n",
      "[82]\tvalidation_0-logloss:-257.46878\tvalidation_0-rmse:4.19907\tvalidation_1-logloss:-258.00555\tvalidation_1-rmse:4.23656\n",
      "[83]\tvalidation_0-logloss:-257.46875\tvalidation_0-rmse:4.17231\tvalidation_1-logloss:-258.00555\tvalidation_1-rmse:4.21057\n",
      "[84]\tvalidation_0-logloss:-257.46863\tvalidation_0-rmse:4.14594\tvalidation_1-logloss:-258.00555\tvalidation_1-rmse:4.18472\n",
      "[85]\tvalidation_0-logloss:-257.46448\tvalidation_0-rmse:4.11985\tvalidation_1-logloss:-258.00552\tvalidation_1-rmse:4.15907\n",
      "[86]\tvalidation_0-logloss:-257.46448\tvalidation_0-rmse:4.09399\tvalidation_1-logloss:-258.00552\tvalidation_1-rmse:4.13380\n",
      "[87]\tvalidation_0-logloss:-257.46445\tvalidation_0-rmse:4.06869\tvalidation_1-logloss:-258.00552\tvalidation_1-rmse:4.10904\n",
      "[88]\tvalidation_0-logloss:-257.46448\tvalidation_0-rmse:4.04354\tvalidation_1-logloss:-258.00549\tvalidation_1-rmse:4.08435\n",
      "[89]\tvalidation_0-logloss:-257.46445\tvalidation_0-rmse:4.01881\tvalidation_1-logloss:-258.00552\tvalidation_1-rmse:4.06048\n",
      "[90]\tvalidation_0-logloss:-257.46445\tvalidation_0-rmse:3.99434\tvalidation_1-logloss:-258.00552\tvalidation_1-rmse:4.03674\n",
      "[91]\tvalidation_0-logloss:-257.46442\tvalidation_0-rmse:3.97016\tvalidation_1-logloss:-258.00549\tvalidation_1-rmse:4.01321\n",
      "[92]\tvalidation_0-logloss:-257.46436\tvalidation_0-rmse:3.94626\tvalidation_1-logloss:-258.00549\tvalidation_1-rmse:3.99030\n",
      "[93]\tvalidation_0-logloss:-257.46439\tvalidation_0-rmse:3.92276\tvalidation_1-logloss:-258.00549\tvalidation_1-rmse:3.96737\n",
      "[94]\tvalidation_0-logloss:-257.46436\tvalidation_0-rmse:3.89979\tvalidation_1-logloss:-258.00543\tvalidation_1-rmse:3.94501\n",
      "[95]\tvalidation_0-logloss:-257.46429\tvalidation_0-rmse:3.87691\tvalidation_1-logloss:-258.00534\tvalidation_1-rmse:3.92292\n",
      "[96]\tvalidation_0-logloss:-257.46414\tvalidation_0-rmse:3.85441\tvalidation_1-logloss:-258.00232\tvalidation_1-rmse:3.90107\n",
      "[97]\tvalidation_0-logloss:-257.46002\tvalidation_0-rmse:3.83210\tvalidation_1-logloss:-258.00232\tvalidation_1-rmse:3.87919\n",
      "[98]\tvalidation_0-logloss:-257.46002\tvalidation_0-rmse:3.81006\tvalidation_1-logloss:-258.00232\tvalidation_1-rmse:3.85795\n",
      "[99]\tvalidation_0-logloss:-257.46323\tvalidation_0-rmse:3.78834\tvalidation_1-logloss:-258.00232\tvalidation_1-rmse:3.83716\n",
      "[100]\tvalidation_0-logloss:-257.45981\tvalidation_0-rmse:3.76697\tvalidation_1-logloss:-258.00232\tvalidation_1-rmse:3.81649\n",
      "[101]\tvalidation_0-logloss:-257.45978\tvalidation_0-rmse:3.74586\tvalidation_1-logloss:-258.00232\tvalidation_1-rmse:3.79582\n",
      "[102]\tvalidation_0-logloss:-257.45709\tvalidation_0-rmse:3.72495\tvalidation_1-logloss:-258.00232\tvalidation_1-rmse:3.77551\n",
      "[103]\tvalidation_0-logloss:-257.45703\tvalidation_0-rmse:3.70442\tvalidation_1-logloss:-258.00232\tvalidation_1-rmse:3.75544\n",
      "[104]\tvalidation_0-logloss:-257.45709\tvalidation_0-rmse:3.68419\tvalidation_1-logloss:-258.00232\tvalidation_1-rmse:3.73582\n",
      "[105]\tvalidation_0-logloss:-257.45709\tvalidation_0-rmse:3.66435\tvalidation_1-logloss:-258.00232\tvalidation_1-rmse:3.71658\n",
      "[106]\tvalidation_0-logloss:-257.45709\tvalidation_0-rmse:3.64459\tvalidation_1-logloss:-258.00232\tvalidation_1-rmse:3.69746\n",
      "[107]\tvalidation_0-logloss:-257.45712\tvalidation_0-rmse:3.62511\tvalidation_1-logloss:-258.00232\tvalidation_1-rmse:3.67862\n",
      "[108]\tvalidation_0-logloss:-257.45712\tvalidation_0-rmse:3.60598\tvalidation_1-logloss:-258.00232\tvalidation_1-rmse:3.66027\n",
      "[109]\tvalidation_0-logloss:-257.45706\tvalidation_0-rmse:3.58683\tvalidation_1-logloss:-258.00232\tvalidation_1-rmse:3.64210\n",
      "[110]\tvalidation_0-logloss:-257.45712\tvalidation_0-rmse:3.56819\tvalidation_1-logloss:-258.00232\tvalidation_1-rmse:3.62431\n",
      "[111]\tvalidation_0-logloss:-257.45706\tvalidation_0-rmse:3.54997\tvalidation_1-logloss:-258.00232\tvalidation_1-rmse:3.60670\n",
      "[112]\tvalidation_0-logloss:-257.45712\tvalidation_0-rmse:3.53185\tvalidation_1-logloss:-258.00232\tvalidation_1-rmse:3.58893\n",
      "[113]\tvalidation_0-logloss:-257.45709\tvalidation_0-rmse:3.51356\tvalidation_1-logloss:-258.00232\tvalidation_1-rmse:3.57147\n",
      "[114]\tvalidation_0-logloss:-257.45703\tvalidation_0-rmse:3.49583\tvalidation_1-logloss:-258.00232\tvalidation_1-rmse:3.55442\n",
      "[115]\tvalidation_0-logloss:-257.45697\tvalidation_0-rmse:3.47805\tvalidation_1-logloss:-258.00232\tvalidation_1-rmse:3.53736\n",
      "[116]\tvalidation_0-logloss:-257.45700\tvalidation_0-rmse:3.46105\tvalidation_1-logloss:-258.00232\tvalidation_1-rmse:3.52094\n",
      "[117]\tvalidation_0-logloss:-257.45605\tvalidation_0-rmse:3.44413\tvalidation_1-logloss:-258.00232\tvalidation_1-rmse:3.50479\n",
      "[118]\tvalidation_0-logloss:-257.45608\tvalidation_0-rmse:3.42749\tvalidation_1-logloss:-258.00232\tvalidation_1-rmse:3.48862\n",
      "[119]\tvalidation_0-logloss:-257.45608\tvalidation_0-rmse:3.41088\tvalidation_1-logloss:-258.00232\tvalidation_1-rmse:3.47283\n",
      "[120]\tvalidation_0-logloss:-257.45605\tvalidation_0-rmse:3.39460\tvalidation_1-logloss:-258.00232\tvalidation_1-rmse:3.45737\n",
      "[121]\tvalidation_0-logloss:-257.45599\tvalidation_0-rmse:3.37859\tvalidation_1-logloss:-258.00232\tvalidation_1-rmse:3.44202\n",
      "[122]\tvalidation_0-logloss:-257.45596\tvalidation_0-rmse:3.36286\tvalidation_1-logloss:-258.00232\tvalidation_1-rmse:3.42714\n",
      "[123]\tvalidation_0-logloss:-257.45608\tvalidation_0-rmse:3.34711\tvalidation_1-logloss:-258.00232\tvalidation_1-rmse:3.41227\n",
      "[124]\tvalidation_0-logloss:-257.45593\tvalidation_0-rmse:3.33171\tvalidation_1-logloss:-258.00232\tvalidation_1-rmse:3.39756\n",
      "[125]\tvalidation_0-logloss:-257.45196\tvalidation_0-rmse:3.31642\tvalidation_1-logloss:-258.00232\tvalidation_1-rmse:3.38262\n",
      "[126]\tvalidation_0-logloss:-257.45196\tvalidation_0-rmse:3.30110\tvalidation_1-logloss:-258.00232\tvalidation_1-rmse:3.36827\n",
      "[127]\tvalidation_0-logloss:-257.45169\tvalidation_0-rmse:3.28626\tvalidation_1-logloss:-258.00232\tvalidation_1-rmse:3.35445\n",
      "[128]\tvalidation_0-logloss:-257.45169\tvalidation_0-rmse:3.27163\tvalidation_1-logloss:-258.00232\tvalidation_1-rmse:3.34090\n",
      "[129]\tvalidation_0-logloss:-257.45169\tvalidation_0-rmse:3.25734\tvalidation_1-logloss:-258.00232\tvalidation_1-rmse:3.32726\n",
      "[130]\tvalidation_0-logloss:-257.45172\tvalidation_0-rmse:3.24337\tvalidation_1-logloss:-258.00232\tvalidation_1-rmse:3.31392\n",
      "[131]\tvalidation_0-logloss:-257.45172\tvalidation_0-rmse:3.22901\tvalidation_1-logloss:-258.00232\tvalidation_1-rmse:3.30065\n",
      "[132]\tvalidation_0-logloss:-257.45166\tvalidation_0-rmse:3.21494\tvalidation_1-logloss:-258.00232\tvalidation_1-rmse:3.28743\n",
      "[133]\tvalidation_0-logloss:-257.45166\tvalidation_0-rmse:3.20140\tvalidation_1-logloss:-258.00232\tvalidation_1-rmse:3.27455\n",
      "[134]\tvalidation_0-logloss:-257.45151\tvalidation_0-rmse:3.18772\tvalidation_1-logloss:-258.00232\tvalidation_1-rmse:3.26186\n"
     ]
    },
    {
     "name": "stdout",
     "output_type": "stream",
     "text": [
      "[135]\tvalidation_0-logloss:-257.45017\tvalidation_0-rmse:3.17423\tvalidation_1-logloss:-258.00232\tvalidation_1-rmse:3.24923\n",
      "[136]\tvalidation_0-logloss:-257.45017\tvalidation_0-rmse:3.16130\tvalidation_1-logloss:-258.00232\tvalidation_1-rmse:3.23701\n",
      "[137]\tvalidation_0-logloss:-257.45020\tvalidation_0-rmse:3.14862\tvalidation_1-logloss:-258.00232\tvalidation_1-rmse:3.22494\n",
      "[138]\tvalidation_0-logloss:-257.45020\tvalidation_0-rmse:3.13572\tvalidation_1-logloss:-258.00232\tvalidation_1-rmse:3.21316\n",
      "[139]\tvalidation_0-logloss:-257.45020\tvalidation_0-rmse:3.12309\tvalidation_1-logloss:-258.00232\tvalidation_1-rmse:3.20162\n",
      "[140]\tvalidation_0-logloss:-257.45017\tvalidation_0-rmse:3.11058\tvalidation_1-logloss:-258.00232\tvalidation_1-rmse:3.19006\n",
      "[141]\tvalidation_0-logloss:-257.45023\tvalidation_0-rmse:3.09866\tvalidation_1-logloss:-258.00232\tvalidation_1-rmse:3.17891\n",
      "[142]\tvalidation_0-logloss:-257.45023\tvalidation_0-rmse:3.08684\tvalidation_1-logloss:-258.00232\tvalidation_1-rmse:3.16786\n",
      "[143]\tvalidation_0-logloss:-257.45023\tvalidation_0-rmse:3.07484\tvalidation_1-logloss:-258.00232\tvalidation_1-rmse:3.15666\n",
      "[144]\tvalidation_0-logloss:-257.45020\tvalidation_0-rmse:3.06324\tvalidation_1-logloss:-258.00232\tvalidation_1-rmse:3.14588\n",
      "[145]\tvalidation_0-logloss:-257.45020\tvalidation_0-rmse:3.05162\tvalidation_1-logloss:-258.00232\tvalidation_1-rmse:3.13503\n",
      "[146]\tvalidation_0-logloss:-257.45020\tvalidation_0-rmse:3.04015\tvalidation_1-logloss:-258.00232\tvalidation_1-rmse:3.12441\n",
      "[147]\tvalidation_0-logloss:-257.45020\tvalidation_0-rmse:3.02881\tvalidation_1-logloss:-258.00232\tvalidation_1-rmse:3.11394\n",
      "[148]\tvalidation_0-logloss:-257.45023\tvalidation_0-rmse:3.01790\tvalidation_1-logloss:-258.00232\tvalidation_1-rmse:3.10384\n",
      "[149]\tvalidation_0-logloss:-257.45026\tvalidation_0-rmse:3.00729\tvalidation_1-logloss:-258.00232\tvalidation_1-rmse:3.09400\n",
      "[150]\tvalidation_0-logloss:-257.45032\tvalidation_0-rmse:2.99648\tvalidation_1-logloss:-258.00232\tvalidation_1-rmse:3.08404\n",
      "[151]\tvalidation_0-logloss:-257.45029\tvalidation_0-rmse:2.98583\tvalidation_1-logloss:-258.00232\tvalidation_1-rmse:3.07407\n",
      "[152]\tvalidation_0-logloss:-257.45032\tvalidation_0-rmse:2.97561\tvalidation_1-logloss:-258.00232\tvalidation_1-rmse:3.06463\n",
      "[153]\tvalidation_0-logloss:-257.45041\tvalidation_0-rmse:2.96531\tvalidation_1-logloss:-258.00232\tvalidation_1-rmse:3.05521\n",
      "[154]\tvalidation_0-logloss:-257.45145\tvalidation_0-rmse:2.95491\tvalidation_1-logloss:-258.00232\tvalidation_1-rmse:3.04576\n",
      "[155]\tvalidation_0-logloss:-257.45142\tvalidation_0-rmse:2.94509\tvalidation_1-logloss:-258.00232\tvalidation_1-rmse:3.03666\n",
      "[156]\tvalidation_0-logloss:-257.45142\tvalidation_0-rmse:2.93526\tvalidation_1-logloss:-258.00232\tvalidation_1-rmse:3.02776\n",
      "[157]\tvalidation_0-logloss:-257.45142\tvalidation_0-rmse:2.92591\tvalidation_1-logloss:-258.00232\tvalidation_1-rmse:3.01915\n",
      "[158]\tvalidation_0-logloss:-257.45142\tvalidation_0-rmse:2.91629\tvalidation_1-logloss:-258.00232\tvalidation_1-rmse:3.01031\n",
      "[159]\tvalidation_0-logloss:-257.45142\tvalidation_0-rmse:2.90686\tvalidation_1-logloss:-258.00232\tvalidation_1-rmse:3.00200\n",
      "[160]\tvalidation_0-logloss:-257.45142\tvalidation_0-rmse:2.89729\tvalidation_1-logloss:-258.00232\tvalidation_1-rmse:2.99337\n",
      "[161]\tvalidation_0-logloss:-257.45090\tvalidation_0-rmse:2.88783\tvalidation_1-logloss:-258.00232\tvalidation_1-rmse:2.98505\n",
      "[162]\tvalidation_0-logloss:-257.45090\tvalidation_0-rmse:2.87869\tvalidation_1-logloss:-258.00232\tvalidation_1-rmse:2.97711\n",
      "[163]\tvalidation_0-logloss:-257.45087\tvalidation_0-rmse:2.86974\tvalidation_1-logloss:-258.00232\tvalidation_1-rmse:2.96911\n",
      "[164]\tvalidation_0-logloss:-257.45087\tvalidation_0-rmse:2.86074\tvalidation_1-logloss:-258.00232\tvalidation_1-rmse:2.96099\n",
      "[165]\tvalidation_0-logloss:-257.45087\tvalidation_0-rmse:2.85217\tvalidation_1-logloss:-258.00232\tvalidation_1-rmse:2.95323\n",
      "[166]\tvalidation_0-logloss:-257.45084\tvalidation_0-rmse:2.84376\tvalidation_1-logloss:-258.00232\tvalidation_1-rmse:2.94558\n",
      "[167]\tvalidation_0-logloss:-257.45084\tvalidation_0-rmse:2.83533\tvalidation_1-logloss:-258.00232\tvalidation_1-rmse:2.93812\n",
      "[168]\tvalidation_0-logloss:-257.45084\tvalidation_0-rmse:2.82711\tvalidation_1-logloss:-258.00232\tvalidation_1-rmse:2.93065\n",
      "[169]\tvalidation_0-logloss:-257.45087\tvalidation_0-rmse:2.81894\tvalidation_1-logloss:-258.00232\tvalidation_1-rmse:2.92353\n",
      "[170]\tvalidation_0-logloss:-257.45084\tvalidation_0-rmse:2.81101\tvalidation_1-logloss:-258.00232\tvalidation_1-rmse:2.91638\n",
      "[171]\tvalidation_0-logloss:-257.45084\tvalidation_0-rmse:2.80319\tvalidation_1-logloss:-258.00232\tvalidation_1-rmse:2.90949\n",
      "[172]\tvalidation_0-logloss:-257.45135\tvalidation_0-rmse:2.79512\tvalidation_1-logloss:-258.00232\tvalidation_1-rmse:2.90236\n",
      "[173]\tvalidation_0-logloss:-257.45084\tvalidation_0-rmse:2.78730\tvalidation_1-logloss:-258.00232\tvalidation_1-rmse:2.89564\n",
      "[174]\tvalidation_0-logloss:-257.45084\tvalidation_0-rmse:2.77973\tvalidation_1-logloss:-258.00232\tvalidation_1-rmse:2.88893\n",
      "[175]\tvalidation_0-logloss:-257.45081\tvalidation_0-rmse:2.77235\tvalidation_1-logloss:-258.00232\tvalidation_1-rmse:2.88250\n",
      "[176]\tvalidation_0-logloss:-257.45081\tvalidation_0-rmse:2.76510\tvalidation_1-logloss:-258.00232\tvalidation_1-rmse:2.87614\n",
      "[177]\tvalidation_0-logloss:-257.45081\tvalidation_0-rmse:2.75778\tvalidation_1-logloss:-258.00232\tvalidation_1-rmse:2.86997\n",
      "[178]\tvalidation_0-logloss:-257.45078\tvalidation_0-rmse:2.75070\tvalidation_1-logloss:-258.00232\tvalidation_1-rmse:2.86372\n",
      "[179]\tvalidation_0-logloss:-257.45126\tvalidation_0-rmse:2.74342\tvalidation_1-logloss:-258.00232\tvalidation_1-rmse:2.85742\n",
      "[180]\tvalidation_0-logloss:-257.45078\tvalidation_0-rmse:2.73647\tvalidation_1-logloss:-258.00232\tvalidation_1-rmse:2.85119\n",
      "[181]\tvalidation_0-logloss:-257.45074\tvalidation_0-rmse:2.72964\tvalidation_1-logloss:-258.00232\tvalidation_1-rmse:2.84503\n",
      "[182]\tvalidation_0-logloss:-257.45126\tvalidation_0-rmse:2.72301\tvalidation_1-logloss:-258.00232\tvalidation_1-rmse:2.83896\n",
      "[183]\tvalidation_0-logloss:-257.45126\tvalidation_0-rmse:2.71640\tvalidation_1-logloss:-258.00232\tvalidation_1-rmse:2.83303\n",
      "[184]\tvalidation_0-logloss:-257.45123\tvalidation_0-rmse:2.70963\tvalidation_1-logloss:-258.00232\tvalidation_1-rmse:2.82715\n",
      "[185]\tvalidation_0-logloss:-257.45123\tvalidation_0-rmse:2.70307\tvalidation_1-logloss:-258.00232\tvalidation_1-rmse:2.82160\n",
      "[186]\tvalidation_0-logloss:-257.45120\tvalidation_0-rmse:2.69670\tvalidation_1-logloss:-258.00232\tvalidation_1-rmse:2.81598\n",
      "[187]\tvalidation_0-logloss:-257.45068\tvalidation_0-rmse:2.69042\tvalidation_1-logloss:-258.00232\tvalidation_1-rmse:2.81057\n",
      "[188]\tvalidation_0-logloss:-257.45065\tvalidation_0-rmse:2.68434\tvalidation_1-logloss:-258.00232\tvalidation_1-rmse:2.80520\n",
      "[189]\tvalidation_0-logloss:-257.45062\tvalidation_0-rmse:2.67825\tvalidation_1-logloss:-258.00232\tvalidation_1-rmse:2.80002\n",
      "[190]\tvalidation_0-logloss:-257.45059\tvalidation_0-rmse:2.67225\tvalidation_1-logloss:-258.00232\tvalidation_1-rmse:2.79469\n",
      "[191]\tvalidation_0-logloss:-257.45056\tvalidation_0-rmse:2.66611\tvalidation_1-logloss:-258.00232\tvalidation_1-rmse:2.78925\n",
      "[192]\tvalidation_0-logloss:-257.45047\tvalidation_0-rmse:2.66016\tvalidation_1-logloss:-258.00232\tvalidation_1-rmse:2.78428\n",
      "[193]\tvalidation_0-logloss:-257.44638\tvalidation_0-rmse:2.65446\tvalidation_1-logloss:-258.00232\tvalidation_1-rmse:2.77943\n",
      "[194]\tvalidation_0-logloss:-257.44629\tvalidation_0-rmse:2.64866\tvalidation_1-logloss:-258.00232\tvalidation_1-rmse:2.77452\n",
      "[195]\tvalidation_0-logloss:-257.45032\tvalidation_0-rmse:2.64299\tvalidation_1-logloss:-258.00232\tvalidation_1-rmse:2.77001\n",
      "[196]\tvalidation_0-logloss:-257.44629\tvalidation_0-rmse:2.63739\tvalidation_1-logloss:-258.00232\tvalidation_1-rmse:2.76537\n",
      "[197]\tvalidation_0-logloss:-257.44681\tvalidation_0-rmse:2.63214\tvalidation_1-logloss:-258.00232\tvalidation_1-rmse:2.76101\n",
      "[198]\tvalidation_0-logloss:-257.44681\tvalidation_0-rmse:2.62665\tvalidation_1-logloss:-258.00232\tvalidation_1-rmse:2.75674\n",
      "[199]\tvalidation_0-logloss:-257.44681\tvalidation_0-rmse:2.62120\tvalidation_1-logloss:-258.00232\tvalidation_1-rmse:2.75214\n",
      "[200]\tvalidation_0-logloss:-257.44687\tvalidation_0-rmse:2.61572\tvalidation_1-logloss:-258.00232\tvalidation_1-rmse:2.74741\n",
      "[201]\tvalidation_0-logloss:-257.44684\tvalidation_0-rmse:2.61037\tvalidation_1-logloss:-258.00232\tvalidation_1-rmse:2.74323\n",
      "[202]\tvalidation_0-logloss:-257.44687\tvalidation_0-rmse:2.60513\tvalidation_1-logloss:-258.00232\tvalidation_1-rmse:2.73919\n"
     ]
    },
    {
     "name": "stdout",
     "output_type": "stream",
     "text": [
      "[203]\tvalidation_0-logloss:-257.44632\tvalidation_0-rmse:2.60006\tvalidation_1-logloss:-258.00232\tvalidation_1-rmse:2.73490\n",
      "[204]\tvalidation_0-logloss:-257.44678\tvalidation_0-rmse:2.59506\tvalidation_1-logloss:-258.00232\tvalidation_1-rmse:2.73096\n",
      "[205]\tvalidation_0-logloss:-257.44678\tvalidation_0-rmse:2.59021\tvalidation_1-logloss:-258.00232\tvalidation_1-rmse:2.72715\n",
      "[206]\tvalidation_0-logloss:-257.44623\tvalidation_0-rmse:2.58537\tvalidation_1-logloss:-258.00232\tvalidation_1-rmse:2.72308\n",
      "[207]\tvalidation_0-logloss:-257.44623\tvalidation_0-rmse:2.58028\tvalidation_1-logloss:-258.00232\tvalidation_1-rmse:2.71891\n",
      "[208]\tvalidation_0-logloss:-257.44626\tvalidation_0-rmse:2.57563\tvalidation_1-logloss:-258.00232\tvalidation_1-rmse:2.71519\n",
      "[209]\tvalidation_0-logloss:-257.44498\tvalidation_0-rmse:2.57062\tvalidation_1-logloss:-258.00232\tvalidation_1-rmse:2.71109\n",
      "[210]\tvalidation_0-logloss:-257.44498\tvalidation_0-rmse:2.56586\tvalidation_1-logloss:-258.00232\tvalidation_1-rmse:2.70754\n",
      "[211]\tvalidation_0-logloss:-257.44498\tvalidation_0-rmse:2.56111\tvalidation_1-logloss:-258.00232\tvalidation_1-rmse:2.70375\n",
      "[212]\tvalidation_0-logloss:-257.44498\tvalidation_0-rmse:2.55645\tvalidation_1-logloss:-258.00232\tvalidation_1-rmse:2.70036\n",
      "[213]\tvalidation_0-logloss:-257.44498\tvalidation_0-rmse:2.55210\tvalidation_1-logloss:-258.00232\tvalidation_1-rmse:2.69684\n",
      "[214]\tvalidation_0-logloss:-257.44498\tvalidation_0-rmse:2.54763\tvalidation_1-logloss:-258.00232\tvalidation_1-rmse:2.69313\n",
      "[215]\tvalidation_0-logloss:-257.44498\tvalidation_0-rmse:2.54335\tvalidation_1-logloss:-258.00232\tvalidation_1-rmse:2.68977\n",
      "[216]\tvalidation_0-logloss:-257.44498\tvalidation_0-rmse:2.53902\tvalidation_1-logloss:-258.00232\tvalidation_1-rmse:2.68624\n",
      "[217]\tvalidation_0-logloss:-257.44498\tvalidation_0-rmse:2.53491\tvalidation_1-logloss:-258.00232\tvalidation_1-rmse:2.68311\n",
      "[218]\tvalidation_0-logloss:-257.44498\tvalidation_0-rmse:2.53058\tvalidation_1-logloss:-258.00232\tvalidation_1-rmse:2.67953\n",
      "[219]\tvalidation_0-logloss:-257.44498\tvalidation_0-rmse:2.52619\tvalidation_1-logloss:-258.00232\tvalidation_1-rmse:2.67651\n",
      "[220]\tvalidation_0-logloss:-257.44495\tvalidation_0-rmse:2.52212\tvalidation_1-logloss:-258.00232\tvalidation_1-rmse:2.67324\n",
      "[221]\tvalidation_0-logloss:-257.44495\tvalidation_0-rmse:2.51798\tvalidation_1-logloss:-258.00232\tvalidation_1-rmse:2.67001\n",
      "[222]\tvalidation_0-logloss:-257.44495\tvalidation_0-rmse:2.51395\tvalidation_1-logloss:-258.00232\tvalidation_1-rmse:2.66705\n",
      "[223]\tvalidation_0-logloss:-257.44495\tvalidation_0-rmse:2.51003\tvalidation_1-logloss:-258.00232\tvalidation_1-rmse:2.66429\n",
      "[224]\tvalidation_0-logloss:-257.44495\tvalidation_0-rmse:2.50618\tvalidation_1-logloss:-258.00232\tvalidation_1-rmse:2.66121\n",
      "[225]\tvalidation_0-logloss:-257.44495\tvalidation_0-rmse:2.50237\tvalidation_1-logloss:-258.00232\tvalidation_1-rmse:2.65830\n",
      "[226]\tvalidation_0-logloss:-257.44495\tvalidation_0-rmse:2.49868\tvalidation_1-logloss:-258.00232\tvalidation_1-rmse:2.65562\n",
      "[227]\tvalidation_0-logloss:-257.44492\tvalidation_0-rmse:2.49496\tvalidation_1-logloss:-258.00232\tvalidation_1-rmse:2.65271\n",
      "[228]\tvalidation_0-logloss:-257.44492\tvalidation_0-rmse:2.49120\tvalidation_1-logloss:-258.00232\tvalidation_1-rmse:2.64985\n",
      "[229]\tvalidation_0-logloss:-257.44492\tvalidation_0-rmse:2.48744\tvalidation_1-logloss:-258.00232\tvalidation_1-rmse:2.64695\n",
      "[230]\tvalidation_0-logloss:-257.44492\tvalidation_0-rmse:2.48356\tvalidation_1-logloss:-258.00232\tvalidation_1-rmse:2.64426\n",
      "[231]\tvalidation_0-logloss:-257.44492\tvalidation_0-rmse:2.48003\tvalidation_1-logloss:-258.00232\tvalidation_1-rmse:2.64192\n",
      "[232]\tvalidation_0-logloss:-257.44492\tvalidation_0-rmse:2.47650\tvalidation_1-logloss:-258.00232\tvalidation_1-rmse:2.63945\n",
      "[233]\tvalidation_0-logloss:-257.44492\tvalidation_0-rmse:2.47303\tvalidation_1-logloss:-258.00232\tvalidation_1-rmse:2.63687\n",
      "[234]\tvalidation_0-logloss:-257.44492\tvalidation_0-rmse:2.46934\tvalidation_1-logloss:-258.00232\tvalidation_1-rmse:2.63406\n",
      "[235]\tvalidation_0-logloss:-257.44492\tvalidation_0-rmse:2.46590\tvalidation_1-logloss:-258.00232\tvalidation_1-rmse:2.63145\n",
      "[236]\tvalidation_0-logloss:-257.44492\tvalidation_0-rmse:2.46252\tvalidation_1-logloss:-258.00232\tvalidation_1-rmse:2.62914\n",
      "[237]\tvalidation_0-logloss:-257.44492\tvalidation_0-rmse:2.45914\tvalidation_1-logloss:-258.00232\tvalidation_1-rmse:2.62670\n",
      "[238]\tvalidation_0-logloss:-257.44488\tvalidation_0-rmse:2.45567\tvalidation_1-logloss:-258.00232\tvalidation_1-rmse:2.62405\n",
      "[239]\tvalidation_0-logloss:-257.44488\tvalidation_0-rmse:2.45218\tvalidation_1-logloss:-258.00232\tvalidation_1-rmse:2.62168\n",
      "[240]\tvalidation_0-logloss:-257.44488\tvalidation_0-rmse:2.44914\tvalidation_1-logloss:-258.00232\tvalidation_1-rmse:2.61943\n",
      "[241]\tvalidation_0-logloss:-257.44492\tvalidation_0-rmse:2.44581\tvalidation_1-logloss:-258.00232\tvalidation_1-rmse:2.61741\n",
      "[242]\tvalidation_0-logloss:-257.44492\tvalidation_0-rmse:2.44249\tvalidation_1-logloss:-258.00232\tvalidation_1-rmse:2.61529\n",
      "[243]\tvalidation_0-logloss:-257.44492\tvalidation_0-rmse:2.43931\tvalidation_1-logloss:-258.00232\tvalidation_1-rmse:2.61291\n",
      "[244]\tvalidation_0-logloss:-257.44492\tvalidation_0-rmse:2.43604\tvalidation_1-logloss:-258.00232\tvalidation_1-rmse:2.61087\n",
      "[245]\tvalidation_0-logloss:-257.44492\tvalidation_0-rmse:2.43289\tvalidation_1-logloss:-258.00232\tvalidation_1-rmse:2.60843\n",
      "[246]\tvalidation_0-logloss:-257.44492\tvalidation_0-rmse:2.43000\tvalidation_1-logloss:-258.00232\tvalidation_1-rmse:2.60645\n",
      "[247]\tvalidation_0-logloss:-257.44492\tvalidation_0-rmse:2.42687\tvalidation_1-logloss:-258.00232\tvalidation_1-rmse:2.60470\n",
      "[248]\tvalidation_0-logloss:-257.44492\tvalidation_0-rmse:2.42368\tvalidation_1-logloss:-258.00232\tvalidation_1-rmse:2.60242\n",
      "[249]\tvalidation_0-logloss:-257.44492\tvalidation_0-rmse:2.42051\tvalidation_1-logloss:-258.00232\tvalidation_1-rmse:2.60051\n",
      "[250]\tvalidation_0-logloss:-257.44492\tvalidation_0-rmse:2.41739\tvalidation_1-logloss:-258.00232\tvalidation_1-rmse:2.59821\n",
      "[251]\tvalidation_0-logloss:-257.44492\tvalidation_0-rmse:2.41462\tvalidation_1-logloss:-258.00232\tvalidation_1-rmse:2.59644\n",
      "[252]\tvalidation_0-logloss:-257.44488\tvalidation_0-rmse:2.41166\tvalidation_1-logloss:-258.00232\tvalidation_1-rmse:2.59452\n",
      "[253]\tvalidation_0-logloss:-257.44488\tvalidation_0-rmse:2.40765\tvalidation_1-logloss:-258.00232\tvalidation_1-rmse:2.59238\n",
      "[254]\tvalidation_0-logloss:-257.44488\tvalidation_0-rmse:2.40488\tvalidation_1-logloss:-258.00232\tvalidation_1-rmse:2.59039\n",
      "[255]\tvalidation_0-logloss:-257.44488\tvalidation_0-rmse:2.40196\tvalidation_1-logloss:-258.00232\tvalidation_1-rmse:2.58868\n",
      "[256]\tvalidation_0-logloss:-257.44488\tvalidation_0-rmse:2.39804\tvalidation_1-logloss:-258.00232\tvalidation_1-rmse:2.58660\n",
      "[257]\tvalidation_0-logloss:-257.44488\tvalidation_0-rmse:2.39547\tvalidation_1-logloss:-258.00232\tvalidation_1-rmse:2.58491\n",
      "[258]\tvalidation_0-logloss:-257.44488\tvalidation_0-rmse:2.39261\tvalidation_1-logloss:-258.00232\tvalidation_1-rmse:2.58329\n",
      "[259]\tvalidation_0-logloss:-257.44488\tvalidation_0-rmse:2.38878\tvalidation_1-logloss:-258.00232\tvalidation_1-rmse:2.58144\n",
      "[260]\tvalidation_0-logloss:-257.44488\tvalidation_0-rmse:2.38619\tvalidation_1-logloss:-258.00232\tvalidation_1-rmse:2.57983\n",
      "[261]\tvalidation_0-logloss:-257.44488\tvalidation_0-rmse:2.38363\tvalidation_1-logloss:-258.00232\tvalidation_1-rmse:2.57835\n",
      "[262]\tvalidation_0-logloss:-257.44488\tvalidation_0-rmse:2.38111\tvalidation_1-logloss:-258.00232\tvalidation_1-rmse:2.57682\n",
      "[263]\tvalidation_0-logloss:-257.44488\tvalidation_0-rmse:2.37732\tvalidation_1-logloss:-258.00232\tvalidation_1-rmse:2.57481\n",
      "[264]\tvalidation_0-logloss:-257.44488\tvalidation_0-rmse:2.37464\tvalidation_1-logloss:-258.00232\tvalidation_1-rmse:2.57336\n",
      "[265]\tvalidation_0-logloss:-257.44488\tvalidation_0-rmse:2.37184\tvalidation_1-logloss:-258.00232\tvalidation_1-rmse:2.57183\n",
      "[266]\tvalidation_0-logloss:-257.44488\tvalidation_0-rmse:2.36910\tvalidation_1-logloss:-258.00232\tvalidation_1-rmse:2.57028\n",
      "[267]\tvalidation_0-logloss:-257.44488\tvalidation_0-rmse:2.36678\tvalidation_1-logloss:-258.00232\tvalidation_1-rmse:2.56867\n",
      "[268]\tvalidation_0-logloss:-257.44488\tvalidation_0-rmse:2.36437\tvalidation_1-logloss:-258.00232\tvalidation_1-rmse:2.56739\n",
      "[269]\tvalidation_0-logloss:-257.44488\tvalidation_0-rmse:2.36078\tvalidation_1-logloss:-258.00232\tvalidation_1-rmse:2.56552\n",
      "[270]\tvalidation_0-logloss:-257.44488\tvalidation_0-rmse:2.35843\tvalidation_1-logloss:-258.00232\tvalidation_1-rmse:2.56408\n"
     ]
    },
    {
     "name": "stdout",
     "output_type": "stream",
     "text": [
      "[271]\tvalidation_0-logloss:-257.44488\tvalidation_0-rmse:2.35582\tvalidation_1-logloss:-258.00232\tvalidation_1-rmse:2.56274\n",
      "[272]\tvalidation_0-logloss:-257.44488\tvalidation_0-rmse:2.35333\tvalidation_1-logloss:-258.00232\tvalidation_1-rmse:2.56126\n",
      "[273]\tvalidation_0-logloss:-257.44488\tvalidation_0-rmse:2.34987\tvalidation_1-logloss:-258.00232\tvalidation_1-rmse:2.55977\n",
      "[274]\tvalidation_0-logloss:-257.44488\tvalidation_0-rmse:2.34772\tvalidation_1-logloss:-258.00232\tvalidation_1-rmse:2.55839\n",
      "[275]\tvalidation_0-logloss:-257.44488\tvalidation_0-rmse:2.34440\tvalidation_1-logloss:-258.00232\tvalidation_1-rmse:2.55688\n",
      "[276]\tvalidation_0-logloss:-257.44488\tvalidation_0-rmse:2.34192\tvalidation_1-logloss:-258.00232\tvalidation_1-rmse:2.55566\n",
      "[277]\tvalidation_0-logloss:-257.44488\tvalidation_0-rmse:2.33978\tvalidation_1-logloss:-258.00232\tvalidation_1-rmse:2.55450\n",
      "[278]\tvalidation_0-logloss:-257.44486\tvalidation_0-rmse:2.33733\tvalidation_1-logloss:-258.00232\tvalidation_1-rmse:2.55322\n",
      "[279]\tvalidation_0-logloss:-257.44486\tvalidation_0-rmse:2.33498\tvalidation_1-logloss:-258.00232\tvalidation_1-rmse:2.55178\n",
      "[280]\tvalidation_0-logloss:-257.44486\tvalidation_0-rmse:2.33263\tvalidation_1-logloss:-258.00232\tvalidation_1-rmse:2.55080\n",
      "[281]\tvalidation_0-logloss:-257.44488\tvalidation_0-rmse:2.33022\tvalidation_1-logloss:-258.00232\tvalidation_1-rmse:2.54961\n",
      "[282]\tvalidation_0-logloss:-257.44486\tvalidation_0-rmse:2.32825\tvalidation_1-logloss:-258.00232\tvalidation_1-rmse:2.54826\n",
      "[283]\tvalidation_0-logloss:-257.44486\tvalidation_0-rmse:2.32616\tvalidation_1-logloss:-258.00232\tvalidation_1-rmse:2.54699\n",
      "[284]\tvalidation_0-logloss:-257.44486\tvalidation_0-rmse:2.32417\tvalidation_1-logloss:-258.00232\tvalidation_1-rmse:2.54610\n",
      "[285]\tvalidation_0-logloss:-257.44486\tvalidation_0-rmse:2.32212\tvalidation_1-logloss:-258.00232\tvalidation_1-rmse:2.54498\n",
      "[286]\tvalidation_0-logloss:-257.44486\tvalidation_0-rmse:2.32039\tvalidation_1-logloss:-258.00232\tvalidation_1-rmse:2.54392\n",
      "[287]\tvalidation_0-logloss:-257.44486\tvalidation_0-rmse:2.31806\tvalidation_1-logloss:-258.00232\tvalidation_1-rmse:2.54262\n",
      "[288]\tvalidation_0-logloss:-257.44488\tvalidation_0-rmse:2.31583\tvalidation_1-logloss:-258.00232\tvalidation_1-rmse:2.54136\n",
      "[289]\tvalidation_0-logloss:-257.44486\tvalidation_0-rmse:2.31374\tvalidation_1-logloss:-258.00232\tvalidation_1-rmse:2.54028\n",
      "[290]\tvalidation_0-logloss:-257.44488\tvalidation_0-rmse:2.31190\tvalidation_1-logloss:-258.00232\tvalidation_1-rmse:2.53920\n",
      "[291]\tvalidation_0-logloss:-257.44486\tvalidation_0-rmse:2.30975\tvalidation_1-logloss:-258.00232\tvalidation_1-rmse:2.53808\n",
      "[292]\tvalidation_0-logloss:-257.44488\tvalidation_0-rmse:2.30806\tvalidation_1-logloss:-258.00232\tvalidation_1-rmse:2.53701\n",
      "[293]\tvalidation_0-logloss:-257.44486\tvalidation_0-rmse:2.30630\tvalidation_1-logloss:-258.00232\tvalidation_1-rmse:2.53622\n",
      "[294]\tvalidation_0-logloss:-257.44488\tvalidation_0-rmse:2.30423\tvalidation_1-logloss:-258.00232\tvalidation_1-rmse:2.53498\n",
      "[295]\tvalidation_0-logloss:-257.44486\tvalidation_0-rmse:2.30200\tvalidation_1-logloss:-258.00232\tvalidation_1-rmse:2.53410\n",
      "[296]\tvalidation_0-logloss:-257.44488\tvalidation_0-rmse:2.29997\tvalidation_1-logloss:-258.00232\tvalidation_1-rmse:2.53304\n",
      "[297]\tvalidation_0-logloss:-257.44488\tvalidation_0-rmse:2.29813\tvalidation_1-logloss:-258.00232\tvalidation_1-rmse:2.53204\n",
      "[298]\tvalidation_0-logloss:-257.44486\tvalidation_0-rmse:2.29617\tvalidation_1-logloss:-258.00232\tvalidation_1-rmse:2.53105\n",
      "[299]\tvalidation_0-logloss:-257.44488\tvalidation_0-rmse:2.29447\tvalidation_1-logloss:-258.00232\tvalidation_1-rmse:2.53010\n",
      "xgboost mae 는 1.945726943426132\n",
      "[0.00538482 0.00622718 0.00997542 0.01004722 0.0103279  0.01158928\n",
      " 0.01189087 0.01203003 0.01390127 0.01452823 0.01492078 0.01608277\n",
      " 0.01647762 0.01649578 0.01761869 0.02042631 0.02069926 0.0207899\n",
      " 0.02303263 0.02630046 0.02753514 0.03173623 0.03204552 0.03252206\n",
      " 0.03476597 0.04566295 0.04592353 0.04705809 0.04747152 0.05095679\n",
      " 0.05482449 0.05616709 0.05719431 0.06689078 0.07049932]\n",
      "mae는 1.985841414503455\n",
      "mae는 1.9082601587754489\n",
      "mae는 1.9041502726221082\n",
      "mae는 1.9345438078939914\n",
      "mae는 1.9359118098640442\n",
      "mae는 1.9440537015497685\n",
      "mae는 1.947976112908721\n",
      "mae는 1.898962634910345\n",
      "mae는 1.9370746216684578\n",
      "mae는 1.9222165752601623\n",
      "mae는 1.8875305193334817\n",
      "mae는 1.9131078952419758\n",
      "mae는 1.9580661595189572\n",
      "mae는 1.922393743055463\n",
      "mae는 1.8861600492548942\n",
      "mae는 1.9301888762938977\n",
      "mae는 1.943390319572091\n",
      "mae는 1.928781934457421\n",
      "mae는 1.9351256064367295\n",
      "mae는 1.9336787055683136\n",
      "mae는 1.929063237092495\n",
      "mae는 1.928117317612171\n",
      "mae는 1.9394181302446127\n",
      "mae는 1.953514757002592\n",
      "mae는 1.963528546628952\n",
      "mae는 1.9781888790261744\n",
      "mae는 2.0216887143480777\n",
      "mae는 2.0145103927767276\n",
      "mae는 2.0139607136297224\n",
      "mae는 2.0558337096512314\n",
      "mae는 2.0670259661102297\n",
      "mae는 2.0855387090587616\n",
      "mae는 2.1269506253445147\n",
      "mae는 2.171218193421364\n",
      "mae는 2.2503006838941575\n"
     ]
    }
   ],
   "source": [
    "# 첫번째\n",
    "x_train, x_test, y_train, y_test = train_test_split(x,y.iloc[:,0], test_size=0.2, random_state=43)\n",
    "\n",
    "model = XGBRegressor(n_estimators=300, learning_rate=0.01)\n",
    "model.fit(x_train, y_train, verbose=True, eval_metric=['logloss','rmse'], eval_set=[(x_train,y_train),(x_test,y_test)]\n",
    "        , early_stopping_rounds=20)\n",
    "y_pred = model.predict(x_test)\n",
    "mae = mean_absolute_error(y_pred, y_test)\n",
    "print('xgboost mae 는', mae)\n",
    "\n",
    "thresholds = np.sort(model.feature_importances_)\n",
    "\n",
    "print(thresholds)\n",
    "\n",
    "for thresh in thresholds : # 컬럼수만큼 돈다! 빙글빙글\n",
    "    selection = SelectFromModel(model, threshold=thresh, prefit=True)\n",
    "    selection_x_train = selection.transform(x_train)\n",
    "    # print(selection_x_train.shape) # 칼럼이 하나씩 줄고 있는걸 알 수 있음 (가장 중요 x를 하나씩 지우고 있음)\n",
    "    \n",
    "    selection_model = XGBRegressor()\n",
    "    selection_model.fit(selection_x_train, y_train)\n",
    "\n",
    "    select_x_test = selection.transform(x_test)\n",
    "    x_pred = selection_model.predict(select_x_test)\n",
    "\n",
    "    score = mean_absolute_error(y_test, x_pred)\n",
    "    print('mae는',score)\n",
    "#     print(\"Thresh=%.3f, n=%d, R2: %.2f%%\" %(thresh, selection_x_train.shape[1], score*100.0))"
   ]
  },
  {
   "cell_type": "code",
   "execution_count": 87,
   "metadata": {},
   "outputs": [
    {
     "name": "stdout",
     "output_type": "stream",
     "text": [
      "xgboost mae 는 0.7531651\n",
      "[0.02442299 0.02481295 0.02525549 0.0252763  0.02576097 0.02577619\n",
      " 0.0257982  0.02594912 0.02632982 0.02634321 0.0268536  0.02708139\n",
      " 0.027993   0.02801181 0.02842158 0.02847693 0.02861737 0.02882096\n",
      " 0.02889177 0.02892448 0.02894274 0.02903805 0.02908792 0.02947847\n",
      " 0.02950036 0.02951103 0.02967051 0.02974296 0.02984125 0.03004418\n",
      " 0.03111436 0.03170254 0.03279263 0.03372616 0.03798869]\n",
      "mae는 0.8020689496445654\n",
      "mae는 0.798264695482254\n",
      "mae는 0.8034914375400543\n",
      "mae는 0.7946517977476119\n",
      "mae는 0.798954010643959\n",
      "mae는 0.8108075167059898\n",
      "mae는 0.7944103201723098\n",
      "mae는 0.8058862382936477\n",
      "mae는 0.787364046974182\n",
      "mae는 0.7981777908945084\n",
      "mae는 0.7909177214813232\n",
      "mae는 0.796801345667839\n",
      "mae는 0.7996973411750794\n",
      "mae는 0.7938885533928871\n",
      "mae는 0.79654620749712\n",
      "mae는 0.7963952490901948\n",
      "mae는 0.7945233472824097\n",
      "mae는 0.7817250055599212\n",
      "mae는 0.8001232743072509\n",
      "mae는 0.7984421026420594\n",
      "mae는 0.7871124481964111\n",
      "mae는 0.7863553144264221\n",
      "mae는 0.7963276730537414\n",
      "mae는 0.7912447420835494\n",
      "mae는 0.794865829076767\n",
      "mae는 0.7899922129893302\n",
      "mae는 0.7985611688995361\n",
      "mae는 0.8014951168060302\n",
      "mae는 0.8069960018587112\n",
      "mae는 0.8070519309043884\n",
      "mae는 0.8034940833377837\n",
      "mae는 0.8082821827816963\n",
      "mae는 0.8021515044784546\n",
      "mae는 0.8075136295604707\n",
      "mae는 0.8052504149675369\n"
     ]
    }
   ],
   "source": [
    "# 두번째\n",
    "x_train, x_test, y_train, y_test = train_test_split(x,y.iloc[:,1], test_size=0.2, random_state=43)\n",
    "model = RandomForestRegressor(n_estimators=300)\n",
    "model.fit(x_train,y_train)\n",
    "y_pred = model.predict(x_test) \n",
    "mae = mean_absolute_error(y_pred, y_test)\n",
    "print('xgboost mae 는', mae)\n",
    "\n",
    "thresholds = np.sort(model.feature_importances_)\n",
    "\n",
    "print(thresholds)\n",
    "import joblib\n",
    "for thresh in thresholds : # 컬럼수만큼 돈다! 빙글빙글\n",
    "    selection = SelectFromModel(model, threshold=thresh, prefit=True)\n",
    "    selection_x_train = selection.transform(x_train)\n",
    "    # print(selection_x_train.shape) # 칼럼이 하나씩 줄고 있는걸 알 수 있음 (가장 중요 x를 하나씩 지우고 있음)\n",
    "    \n",
    "    selection_model = XGBRegressor()\n",
    "    selection_model.fit(selection_x_train, y_train)\n",
    "\n",
    "    select_x_test = selection.transform(x_test)\n",
    "    x_pred = selection_model.predict(select_x_test)\n",
    "\n",
    "    score = mean_absolute_error(y_test, x_pred)\n",
    "    print('mae는',score)\n",
    "    \n",
    "    modelpath = './model_save/mae' + str(score*100.0) + '.dat'\n",
    "    joblib.dump(selection_model,modelpath)"
   ]
  },
  {
   "cell_type": "code",
   "execution_count": 88,
   "metadata": {},
   "outputs": [],
   "source": [
    "model2 = joblib.load('./model_save/mae78.17250055599212.dat')"
   ]
  },
  {
   "cell_type": "code",
   "execution_count": 90,
   "metadata": {},
   "outputs": [
    {
     "data": {
      "text/plain": [
       "XGBRegressor(base_score=0.5, booster='gbtree', colsample_bylevel=1,\n",
       "             colsample_bynode=1, colsample_bytree=1, gamma=0, gpu_id=-1,\n",
       "             importance_type='gain', interaction_constraints='',\n",
       "             learning_rate=0.300000012, max_delta_step=0, max_depth=6,\n",
       "             min_child_weight=1, missing=nan, monotone_constraints='()',\n",
       "             n_estimators=100, n_jobs=0, num_parallel_tree=1,\n",
       "             objective='reg:squarederror', random_state=0, reg_alpha=0,\n",
       "             reg_lambda=1, scale_pos_weight=1, subsample=1, tree_method='exact',\n",
       "             validate_parameters=1, verbosity=None)"
      ]
     },
     "execution_count": 90,
     "metadata": {},
     "output_type": "execute_result"
    }
   ],
   "source": [
    "model2"
   ]
  },
  {
   "cell_type": "code",
   "execution_count": 93,
   "metadata": {},
   "outputs": [
    {
     "data": {
      "text/plain": [
       "(8000, 35)"
      ]
     },
     "execution_count": 93,
     "metadata": {},
     "output_type": "execute_result"
    }
   ],
   "source": [
    "x_train.shape"
   ]
  },
  {
   "cell_type": "code",
   "execution_count": 92,
   "metadata": {},
   "outputs": [
    {
     "data": {
      "text/plain": [
       "(10000, 35)"
      ]
     },
     "execution_count": 92,
     "metadata": {},
     "output_type": "execute_result"
    }
   ],
   "source": [
    "x_predict.shape"
   ]
  },
  {
   "cell_type": "code",
   "execution_count": 89,
   "metadata": {},
   "outputs": [
    {
     "ename": "ValueError",
     "evalue": "feature_names mismatch: ['f0', 'f1', 'f2', 'f3', 'f4', 'f5', 'f6', 'f7', 'f8', 'f9', 'f10', 'f11', 'f12', 'f13', 'f14', 'f15', 'f16', 'f17'] ['f0', 'f1', 'f2', 'f3', 'f4', 'f5', 'f6', 'f7', 'f8', 'f9', 'f10', 'f11', 'f12', 'f13', 'f14', 'f15', 'f16', 'f17', 'f18', 'f19', 'f20', 'f21', 'f22', 'f23', 'f24', 'f25', 'f26', 'f27', 'f28', 'f29', 'f30', 'f31', 'f32', 'f33', 'f34']\ntraining data did not have the following fields: f31, f18, f25, f20, f24, f30, f29, f32, f19, f26, f21, f27, f34, f23, f28, f33, f22",
     "output_type": "error",
     "traceback": [
      "\u001b[1;31m---------------------------------------------------------------------------\u001b[0m",
      "\u001b[1;31mValueError\u001b[0m                                Traceback (most recent call last)",
      "\u001b[1;32m<ipython-input-89-958259e6907c>\u001b[0m in \u001b[0;36m<module>\u001b[1;34m\u001b[0m\n\u001b[1;32m----> 1\u001b[1;33m \u001b[0mpred\u001b[0m \u001b[1;33m=\u001b[0m \u001b[0mmodel2\u001b[0m\u001b[1;33m.\u001b[0m\u001b[0mpredict\u001b[0m\u001b[1;33m(\u001b[0m\u001b[0mx_predict\u001b[0m\u001b[1;33m)\u001b[0m\u001b[1;33m\u001b[0m\u001b[1;33m\u001b[0m\u001b[0m\n\u001b[0m",
      "\u001b[1;32m~\\anaconda3\\lib\\site-packages\\xgboost\\sklearn.py\u001b[0m in \u001b[0;36mpredict\u001b[1;34m(self, data, output_margin, ntree_limit, validate_features, base_margin)\u001b[0m\n\u001b[0;32m    598\u001b[0m                                           \u001b[0moutput_margin\u001b[0m\u001b[1;33m=\u001b[0m\u001b[0moutput_margin\u001b[0m\u001b[1;33m,\u001b[0m\u001b[1;33m\u001b[0m\u001b[1;33m\u001b[0m\u001b[0m\n\u001b[0;32m    599\u001b[0m                                           \u001b[0mntree_limit\u001b[0m\u001b[1;33m=\u001b[0m\u001b[0mntree_limit\u001b[0m\u001b[1;33m,\u001b[0m\u001b[1;33m\u001b[0m\u001b[1;33m\u001b[0m\u001b[0m\n\u001b[1;32m--> 600\u001b[1;33m                                           validate_features=validate_features)\n\u001b[0m\u001b[0;32m    601\u001b[0m \u001b[1;33m\u001b[0m\u001b[0m\n\u001b[0;32m    602\u001b[0m     \u001b[1;32mdef\u001b[0m \u001b[0mapply\u001b[0m\u001b[1;33m(\u001b[0m\u001b[0mself\u001b[0m\u001b[1;33m,\u001b[0m \u001b[0mX\u001b[0m\u001b[1;33m,\u001b[0m \u001b[0mntree_limit\u001b[0m\u001b[1;33m=\u001b[0m\u001b[1;36m0\u001b[0m\u001b[1;33m)\u001b[0m\u001b[1;33m:\u001b[0m\u001b[1;33m\u001b[0m\u001b[1;33m\u001b[0m\u001b[0m\n",
      "\u001b[1;32m~\\anaconda3\\lib\\site-packages\\xgboost\\core.py\u001b[0m in \u001b[0;36mpredict\u001b[1;34m(self, data, output_margin, ntree_limit, pred_leaf, pred_contribs, approx_contribs, pred_interactions, validate_features, training)\u001b[0m\n\u001b[0;32m   1569\u001b[0m \u001b[1;33m\u001b[0m\u001b[0m\n\u001b[0;32m   1570\u001b[0m         \u001b[1;32mif\u001b[0m \u001b[0mvalidate_features\u001b[0m\u001b[1;33m:\u001b[0m\u001b[1;33m\u001b[0m\u001b[1;33m\u001b[0m\u001b[0m\n\u001b[1;32m-> 1571\u001b[1;33m             \u001b[0mself\u001b[0m\u001b[1;33m.\u001b[0m\u001b[0m_validate_features\u001b[0m\u001b[1;33m(\u001b[0m\u001b[0mdata\u001b[0m\u001b[1;33m)\u001b[0m\u001b[1;33m\u001b[0m\u001b[1;33m\u001b[0m\u001b[0m\n\u001b[0m\u001b[0;32m   1572\u001b[0m \u001b[1;33m\u001b[0m\u001b[0m\n\u001b[0;32m   1573\u001b[0m         \u001b[0mlength\u001b[0m \u001b[1;33m=\u001b[0m \u001b[0mc_bst_ulong\u001b[0m\u001b[1;33m(\u001b[0m\u001b[1;33m)\u001b[0m\u001b[1;33m\u001b[0m\u001b[1;33m\u001b[0m\u001b[0m\n",
      "\u001b[1;32m~\\anaconda3\\lib\\site-packages\\xgboost\\core.py\u001b[0m in \u001b[0;36m_validate_features\u001b[1;34m(self, data)\u001b[0m\n\u001b[0;32m   2129\u001b[0m \u001b[1;33m\u001b[0m\u001b[0m\n\u001b[0;32m   2130\u001b[0m                 raise ValueError(msg.format(self.feature_names,\n\u001b[1;32m-> 2131\u001b[1;33m                                             data.feature_names))\n\u001b[0m\u001b[0;32m   2132\u001b[0m \u001b[1;33m\u001b[0m\u001b[0m\n\u001b[0;32m   2133\u001b[0m     def get_split_value_histogram(self, feature, fmap='', bins=None,\n",
      "\u001b[1;31mValueError\u001b[0m: feature_names mismatch: ['f0', 'f1', 'f2', 'f3', 'f4', 'f5', 'f6', 'f7', 'f8', 'f9', 'f10', 'f11', 'f12', 'f13', 'f14', 'f15', 'f16', 'f17'] ['f0', 'f1', 'f2', 'f3', 'f4', 'f5', 'f6', 'f7', 'f8', 'f9', 'f10', 'f11', 'f12', 'f13', 'f14', 'f15', 'f16', 'f17', 'f18', 'f19', 'f20', 'f21', 'f22', 'f23', 'f24', 'f25', 'f26', 'f27', 'f28', 'f29', 'f30', 'f31', 'f32', 'f33', 'f34']\ntraining data did not have the following fields: f31, f18, f25, f20, f24, f30, f29, f32, f19, f26, f21, f27, f34, f23, f28, f33, f22"
     ]
    }
   ],
   "source": [
    "pred = model2.predict(x_predict)\n"
   ]
  },
  {
   "cell_type": "code",
   "execution_count": null,
   "metadata": {},
   "outputs": [],
   "source": []
  },
  {
   "cell_type": "code",
   "execution_count": null,
   "metadata": {},
   "outputs": [],
   "source": [
    "# 세번째\n",
    "x_train, x_test, y_train, y_test = train_test_split(x,y.iloc[:,2], test_size=0.2, random_state=43)\n",
    "model = RandomForestRegressor(n_estimators=300)\n",
    "model.fit(x_train,y_train)\n",
    "y_pred = model.predict(x_test)\n",
    "mae = mean_absolute_error(y_pred, y_test)\n",
    "print('xgboost mae 는', mae)"
   ]
  },
  {
   "cell_type": "code",
   "execution_count": 78,
   "metadata": {},
   "outputs": [
    {
     "name": "stdout",
     "output_type": "stream",
     "text": [
      "xgboost mae 는 1.891076366666667\n",
      "xgboost mae 는 0.7551793\n",
      "xgboost mae 는 2.3387733833333333\n",
      "xgboost mae 는 1.4129589\n"
     ]
    }
   ],
   "source": [
    "x_train, x_test, y_train, y_test = train_test_split(x,y.iloc[:,3], test_size=0.2, random_state=43)\n",
    "model = RandomForestRegressor(n_estimators=300)\n",
    "model.fit(x_train,y_train)\n",
    "y_pred = model.predict(x_test)\n",
    "mae = mean_absolute_error(y_pred, y_test)\n",
    "print('xgboost mae 는', mae)"
   ]
  },
  {
   "cell_type": "code",
   "execution_count": 77,
   "metadata": {},
   "outputs": [
    {
     "name": "stdout",
     "output_type": "stream",
     "text": [
      "xgboost mae 는 1.9900127496957778\n",
      "xgboost mae 는 0.811327539126873\n",
      "xgboost mae 는 2.4954054609155656\n",
      "xgboost mae 는 1.4874754696315526\n"
     ]
    }
   ],
   "source": [
    "x_train, x_test, y_train, y_test = train_test_split(x,y.iloc[:,0], test_size=0.2, random_state=43)\n",
    "\n",
    "model = XGBRegressor(n_estimators=300)\n",
    "model.fit(x_train,y_train)\n",
    "y_pred = model.predict(x_test)\n",
    "mae = mean_absolute_error(y_pred, y_test)\n",
    "print('xgboost mae 는', mae)\n",
    "\n",
    "x_train, x_test, y_train, y_test = train_test_split(x,y.iloc[:,1], test_size=0.2, random_state=43)\n",
    "model = XGBRegressor(n_estimators=300)\n",
    "model.fit(x_train,y_train)\n",
    "y_pred = model.predict(x_test) \n",
    "mae = mean_absolute_error(y_pred, y_test)\n",
    "print('xgboost mae 는', mae)\n",
    "\n",
    "x_train, x_test, y_train, y_test = train_test_split(x,y.iloc[:,2], test_size=0.2, random_state=43)\n",
    "model = XGBRegressor(n_estimators=300)\n",
    "model.fit(x_train,y_train)\n",
    "y_pred = model.predict(x_test)\n",
    "mae = mean_absolute_error(y_pred, y_test)\n",
    "print('xgboost mae 는', mae)\n",
    "\n",
    "x_train, x_test, y_train, y_test = train_test_split(x,y.iloc[:,3], test_size=0.2, random_state=43)\n",
    "model = XGBRegressor(n_estimators=300)\n",
    "model.fit(x_train,y_train)\n",
    "y_pred = model.predict(x_test)\n",
    "mae = mean_absolute_error(y_pred, y_test)\n",
    "print('xgboost mae 는', mae)"
   ]
  },
  {
   "cell_type": "code",
   "execution_count": 30,
   "metadata": {},
   "outputs": [
    {
     "name": "stdout",
     "output_type": "stream",
     "text": [
      "xgboost mae 는 1.8154817496832283\n"
     ]
    }
   ],
   "source": [
    "from sklearn.decomposition import PCA\n",
    "pca = PCA(n_components=1)\n",
    "pca.fit(y)\n",
    "y1 = pca.transform(y)\n",
    "x_train, x_test, y_train, y_test = train_test_split(x,y1, test_size=0.2, random_state=43)\n",
    "model = XGBRegressor()\n",
    "model.fit(x_train,y_train)\n",
    "y_pred = model.predict(x_test) # 회귀던 분류던 사용할 수 있음\n",
    "mae = mean_absolute_error(y_pred, y_test)\n",
    "print('xgboost mae 는', mae)"
   ]
  },
  {
   "cell_type": "markdown",
   "metadata": {},
   "source": [
    "# RandomForestRegressor"
   ]
  },
  {
   "cell_type": "code",
   "execution_count": 31,
   "metadata": {},
   "outputs": [
    {
     "name": "stdout",
     "output_type": "stream",
     "text": [
      "xgboost mae 는 1.289325675\n",
      "xgboost mae 는 0.7111221249999999\n",
      "xgboost mae 는 2.187418975\n",
      "xgboost mae 는 1.407558775\n"
     ]
    }
   ],
   "source": [
    "x_train, x_test, y_train, y_test = train_test_split(x,a[0], test_size=0.2, random_state=43)\n",
    "\n",
    "model = RandomForestRegressor(n_estimators=200)\n",
    "model.fit(x_train,y_train)\n",
    "y_pred = model.predict(x_test)\n",
    "mae = mean_absolute_error(y_pred, y_test)\n",
    "print('RandomForestRegressor mae 는', mae)\n",
    "\n",
    "x_train, x_test, y_train, y_test = train_test_split(x,a[1], test_size=0.2, random_state=43)\n",
    "model = RandomForestRegressor(n_estimators=200)\n",
    "model.fit(x_train,y_train)\n",
    "y_pred = model.predict(x_test) \n",
    "mae = mean_absolute_error(y_pred, y_test)\n",
    "print('RandomForestRegressor mae 는', mae)\n",
    "\n",
    "x_train, x_test, y_train, y_test = train_test_split(x,a[2], test_size=0.2, random_state=43)\n",
    "model = RandomForestRegressor(n_estimators=200)\n",
    "model.fit(x_train,y_train)\n",
    "y_pred = model.predict(x_test)\n",
    "mae = mean_absolute_error(y_pred, y_test)\n",
    "print('RandomForestRegressor mae 는', mae)\n",
    "\n",
    "x_train, x_test, y_train, y_test = train_test_split(x,a[3], test_size=0.2, random_state=43)\n",
    "model = RandomForestRegressor(n_estimators=200)\n",
    "model.fit(x_train,y_train)\n",
    "y_pred = model.predict(x_test)\n",
    "mae = mean_absolute_error(y_pred, y_test)\n",
    "print('RandomForestRegressor mae 는', mae)"
   ]
  },
  {
   "cell_type": "code",
   "execution_count": 33,
   "metadata": {},
   "outputs": [
    {
     "name": "stdout",
     "output_type": "stream",
     "text": [
      "랜덤포레스트 mae 는 1.4622248984374993\n"
     ]
    }
   ],
   "source": [
    "x_train, x_test, y_train, y_test = train_test_split(x,y, test_size=0.2, random_state=43)\n",
    "model = RandomForestRegressor(n_estimators=160)\n",
    "model.fit(x_train,y_train)\n",
    "y_pred = model.predict(x_test) \n",
    "mae = mean_absolute_error(y_pred, y_test)\n",
    "print('랜덤포레스트 mae 는', mae)"
   ]
  },
  {
   "cell_type": "code",
   "execution_count": 37,
   "metadata": {},
   "outputs": [
    {
     "name": "stdout",
     "output_type": "stream",
     "text": [
      "랜덤포레스트 mae 는 1.7716422312499989\n"
     ]
    }
   ],
   "source": [
    "x_train, x_test, y_train, y_test = train_test_split(x,y, test_size=0.2, random_state=43)\n",
    "model = RandomForestRegressor(n_estimators=200)\n",
    "model.fit(x_train,y_train)\n",
    "y_pred = model.predict(x_test) \n",
    "mae = mean_absolute_error(y_pred, y_test)\n",
    "print('랜덤포레스트 mae 는', mae)"
   ]
  },
  {
   "cell_type": "code",
   "execution_count": 39,
   "metadata": {},
   "outputs": [
    {
     "name": "stdout",
     "output_type": "stream",
     "text": [
      "랜덤포레스트 mae 는 1.441592375\n"
     ]
    }
   ],
   "source": [
    "x_train, x_test, y_train, y_test = train_test_split(x,y, test_size=0.2, random_state=20)\n",
    "model1 = RandomForestRegressor(n_estimators=250)\n",
    "model1.fit(x_train,y_train)\n",
    "y_pred = model1.predict(x_test) \n",
    "mae = mean_absolute_error(y_pred, y_test)\n",
    "print('랜덤포레스트 mae 는', mae)"
   ]
  },
  {
   "cell_type": "code",
   "execution_count": null,
   "metadata": {},
   "outputs": [],
   "source": [
    "pred = model1.predict(x_predict)\n",
    "submission = pd.read_csv('sample_submission.csv', index_col=0)\n",
    "submission['hhb'] = pred[:,0]\n",
    "submission['hbo2'] = pred[:,1]\n",
    "submission['ca'] = pred[:,2]\n",
    "submission['na'] = pred[:,3]\n",
    "\n",
    "('sample_submission.csv', index_col=0)"
   ]
  },
  {
   "cell_type": "code",
   "execution_count": null,
   "metadata": {},
   "outputs": [],
   "source": []
  },
  {
   "cell_type": "code",
   "execution_count": null,
   "metadata": {},
   "outputs": [],
   "source": []
  },
  {
   "cell_type": "markdown",
   "metadata": {},
   "source": [
    "# 제출"
   ]
  },
  {
   "cell_type": "code",
   "execution_count": 42,
   "metadata": {},
   "outputs": [],
   "source": [
    "# 제출\n",
    "pred = model1.predict(x_predict)\n",
    "\n",
    "pred = model1.predict(x_predict)\n",
    "submission = pd.read_csv('sample_submission.csv', index_col=0)\n",
    "submission['hhb'] = pred[:,0]\n",
    "submission['hbo2'] = pred[:,1]\n",
    "submission['ca'] = pred[:,2]\n",
    "submission['na'] = pred[:,3]\n",
    "\n",
    "submission.to_csv('submission0611_1.csv')"
   ]
  },
  {
   "cell_type": "raw",
   "metadata": {},
   "source": [
    "pred = model1.predict(x_predict1)\n",
    "submission['hhb'] = pred[:,0]\n",
    "submission['hbo2'] = pred[:,1]\n",
    "submission['ca'] = pred[:,2]\n",
    "submission['na'] = pred[:,3]\n",
    "submission.to_csv('submission1_1.csv')"
   ]
  },
  {
   "cell_type": "code",
   "execution_count": 255,
   "metadata": {},
   "outputs": [
    {
     "data": {
      "text/html": [
       "<div>\n",
       "<style scoped>\n",
       "    .dataframe tbody tr th:only-of-type {\n",
       "        vertical-align: middle;\n",
       "    }\n",
       "\n",
       "    .dataframe tbody tr th {\n",
       "        vertical-align: top;\n",
       "    }\n",
       "\n",
       "    .dataframe thead th {\n",
       "        text-align: right;\n",
       "    }\n",
       "</style>\n",
       "<table border=\"1\" class=\"dataframe\">\n",
       "  <thead>\n",
       "    <tr style=\"text-align: right;\">\n",
       "      <th></th>\n",
       "      <th>hhb</th>\n",
       "      <th>hbo2</th>\n",
       "      <th>ca</th>\n",
       "      <th>na</th>\n",
       "    </tr>\n",
       "    <tr>\n",
       "      <th>id</th>\n",
       "      <th></th>\n",
       "      <th></th>\n",
       "      <th></th>\n",
       "      <th></th>\n",
       "    </tr>\n",
       "  </thead>\n",
       "  <tbody>\n",
       "    <tr>\n",
       "      <th>10000</th>\n",
       "      <td>7.330</td>\n",
       "      <td>3.861</td>\n",
       "      <td>7.608</td>\n",
       "      <td>2.890</td>\n",
       "    </tr>\n",
       "    <tr>\n",
       "      <th>10001</th>\n",
       "      <td>6.530</td>\n",
       "      <td>3.993</td>\n",
       "      <td>6.310</td>\n",
       "      <td>2.105</td>\n",
       "    </tr>\n",
       "    <tr>\n",
       "      <th>10002</th>\n",
       "      <td>11.439</td>\n",
       "      <td>4.057</td>\n",
       "      <td>9.335</td>\n",
       "      <td>3.524</td>\n",
       "    </tr>\n",
       "    <tr>\n",
       "      <th>10003</th>\n",
       "      <td>8.239</td>\n",
       "      <td>4.599</td>\n",
       "      <td>9.715</td>\n",
       "      <td>3.084</td>\n",
       "    </tr>\n",
       "    <tr>\n",
       "      <th>10004</th>\n",
       "      <td>8.279</td>\n",
       "      <td>3.615</td>\n",
       "      <td>9.837</td>\n",
       "      <td>4.130</td>\n",
       "    </tr>\n",
       "    <tr>\n",
       "      <th>...</th>\n",
       "      <td>...</td>\n",
       "      <td>...</td>\n",
       "      <td>...</td>\n",
       "      <td>...</td>\n",
       "    </tr>\n",
       "    <tr>\n",
       "      <th>19995</th>\n",
       "      <td>6.134</td>\n",
       "      <td>4.480</td>\n",
       "      <td>9.480</td>\n",
       "      <td>3.342</td>\n",
       "    </tr>\n",
       "    <tr>\n",
       "      <th>19996</th>\n",
       "      <td>7.258</td>\n",
       "      <td>4.027</td>\n",
       "      <td>9.550</td>\n",
       "      <td>3.275</td>\n",
       "    </tr>\n",
       "    <tr>\n",
       "      <th>19997</th>\n",
       "      <td>9.724</td>\n",
       "      <td>3.333</td>\n",
       "      <td>9.786</td>\n",
       "      <td>3.206</td>\n",
       "    </tr>\n",
       "    <tr>\n",
       "      <th>19998</th>\n",
       "      <td>9.455</td>\n",
       "      <td>4.714</td>\n",
       "      <td>11.051</td>\n",
       "      <td>2.773</td>\n",
       "    </tr>\n",
       "    <tr>\n",
       "      <th>19999</th>\n",
       "      <td>6.110</td>\n",
       "      <td>4.011</td>\n",
       "      <td>9.873</td>\n",
       "      <td>3.264</td>\n",
       "    </tr>\n",
       "  </tbody>\n",
       "</table>\n",
       "<p>10000 rows × 4 columns</p>\n",
       "</div>"
      ],
      "text/plain": [
       "          hhb   hbo2      ca     na\n",
       "id                                 \n",
       "10000   7.330  3.861   7.608  2.890\n",
       "10001   6.530  3.993   6.310  2.105\n",
       "10002  11.439  4.057   9.335  3.524\n",
       "10003   8.239  4.599   9.715  3.084\n",
       "10004   8.279  3.615   9.837  4.130\n",
       "...       ...    ...     ...    ...\n",
       "19995   6.134  4.480   9.480  3.342\n",
       "19996   7.258  4.027   9.550  3.275\n",
       "19997   9.724  3.333   9.786  3.206\n",
       "19998   9.455  4.714  11.051  2.773\n",
       "19999   6.110  4.011   9.873  3.264\n",
       "\n",
       "[10000 rows x 4 columns]"
      ]
     },
     "execution_count": 255,
     "metadata": {},
     "output_type": "execute_result"
    }
   ],
   "source": [
    "submission"
   ]
  }
 ],
 "metadata": {
  "kernelspec": {
   "display_name": "Python 3",
   "language": "python",
   "name": "python3"
  },
  "language_info": {
   "codemirror_mode": {
    "name": "ipython",
    "version": 3
   },
   "file_extension": ".py",
   "mimetype": "text/x-python",
   "name": "python",
   "nbconvert_exporter": "python",
   "pygments_lexer": "ipython3",
   "version": "3.7.6"
  }
 },
 "nbformat": 4,
 "nbformat_minor": 4
}
