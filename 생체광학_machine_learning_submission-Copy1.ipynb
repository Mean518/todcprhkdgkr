{
 "cells": [
  {
   "cell_type": "code",
   "execution_count": 1,
   "metadata": {},
   "outputs": [
    {
     "name": "stderr",
     "output_type": "stream",
     "text": [
      "Using TensorFlow backend.\n"
     ]
    }
   ],
   "source": [
    "import pandas as pd\n",
    "import numpy as np\n",
    "from sklearn.model_selection import train_test_split\n",
    "from sklearn.ensemble import RandomForestRegressor,GradientBoostingRegressor\n",
    "from sklearn.model_selection import GridSearchCV, RandomizedSearchCV\n",
    "from keras.models import Sequential, Model\n",
    "from keras.layers import Dense, LSTM, Conv2D, Dropout, MaxPool2D, Flatten\n",
    "from sklearn.metrics import mean_absolute_error\n",
    "from xgboost import XGBRegressor"
   ]
  },
  {
   "cell_type": "code",
   "execution_count": 2,
   "metadata": {},
   "outputs": [],
   "source": [
    "train = pd.read_csv('train.csv', index_col=0)\n",
    "test = pd.read_csv('test.csv', index_col=0)\n",
    "submission = pd.read_csv('sample_submission.csv', index_col=0)"
   ]
  },
  {
   "cell_type": "code",
   "execution_count": 8,
   "metadata": {
    "scrolled": true
   },
   "outputs": [
    {
     "data": {
      "text/html": [
       "<div>\n",
       "<style scoped>\n",
       "    .dataframe tbody tr th:only-of-type {\n",
       "        vertical-align: middle;\n",
       "    }\n",
       "\n",
       "    .dataframe tbody tr th {\n",
       "        vertical-align: top;\n",
       "    }\n",
       "\n",
       "    .dataframe thead th {\n",
       "        text-align: right;\n",
       "    }\n",
       "</style>\n",
       "<table border=\"1\" class=\"dataframe\">\n",
       "  <thead>\n",
       "    <tr style=\"text-align: right;\">\n",
       "      <th></th>\n",
       "      <th>rho</th>\n",
       "      <th>650_src</th>\n",
       "      <th>660_src</th>\n",
       "      <th>670_src</th>\n",
       "      <th>680_src</th>\n",
       "      <th>690_src</th>\n",
       "      <th>700_src</th>\n",
       "      <th>710_src</th>\n",
       "      <th>720_src</th>\n",
       "      <th>730_src</th>\n",
       "      <th>...</th>\n",
       "      <th>840_src</th>\n",
       "      <th>850_src</th>\n",
       "      <th>860_src</th>\n",
       "      <th>870_src</th>\n",
       "      <th>880_src</th>\n",
       "      <th>890_src</th>\n",
       "      <th>900_src</th>\n",
       "      <th>910_src</th>\n",
       "      <th>920_src</th>\n",
       "      <th>930_src</th>\n",
       "    </tr>\n",
       "    <tr>\n",
       "      <th>id</th>\n",
       "      <th></th>\n",
       "      <th></th>\n",
       "      <th></th>\n",
       "      <th></th>\n",
       "      <th></th>\n",
       "      <th></th>\n",
       "      <th></th>\n",
       "      <th></th>\n",
       "      <th></th>\n",
       "      <th></th>\n",
       "      <th></th>\n",
       "      <th></th>\n",
       "      <th></th>\n",
       "      <th></th>\n",
       "      <th></th>\n",
       "      <th></th>\n",
       "      <th></th>\n",
       "      <th></th>\n",
       "      <th></th>\n",
       "      <th></th>\n",
       "      <th></th>\n",
       "    </tr>\n",
       "  </thead>\n",
       "  <tbody>\n",
       "    <tr>\n",
       "      <th>0</th>\n",
       "      <td>25</td>\n",
       "      <td>0.37950</td>\n",
       "      <td>0.42993</td>\n",
       "      <td>0.52076</td>\n",
       "      <td>0.57166</td>\n",
       "      <td>0.67818</td>\n",
       "      <td>0.75476</td>\n",
       "      <td>0.83580</td>\n",
       "      <td>0.93623</td>\n",
       "      <td>0.96333</td>\n",
       "      <td>...</td>\n",
       "      <td>0.34935</td>\n",
       "      <td>0.30038</td>\n",
       "      <td>0.26992</td>\n",
       "      <td>0.23192</td>\n",
       "      <td>0.21998</td>\n",
       "      <td>0.19920</td>\n",
       "      <td>0.14493</td>\n",
       "      <td>0.13150</td>\n",
       "      <td>0.12442</td>\n",
       "      <td>0.10786</td>\n",
       "    </tr>\n",
       "    <tr>\n",
       "      <th>1</th>\n",
       "      <td>10</td>\n",
       "      <td>0.00000</td>\n",
       "      <td>0.00000</td>\n",
       "      <td>0.01813</td>\n",
       "      <td>0.00000</td>\n",
       "      <td>0.00000</td>\n",
       "      <td>0.01974</td>\n",
       "      <td>0.00321</td>\n",
       "      <td>0.00000</td>\n",
       "      <td>0.00000</td>\n",
       "      <td>...</td>\n",
       "      <td>0.00000</td>\n",
       "      <td>0.00000</td>\n",
       "      <td>0.00000</td>\n",
       "      <td>0.04466</td>\n",
       "      <td>0.10738</td>\n",
       "      <td>0.21646</td>\n",
       "      <td>0.41456</td>\n",
       "      <td>0.63716</td>\n",
       "      <td>0.84230</td>\n",
       "      <td>0.97480</td>\n",
       "    </tr>\n",
       "    <tr>\n",
       "      <th>2</th>\n",
       "      <td>25</td>\n",
       "      <td>0.00000</td>\n",
       "      <td>0.03289</td>\n",
       "      <td>0.02416</td>\n",
       "      <td>0.03610</td>\n",
       "      <td>0.05843</td>\n",
       "      <td>0.09015</td>\n",
       "      <td>0.14944</td>\n",
       "      <td>0.18578</td>\n",
       "      <td>0.25584</td>\n",
       "      <td>...</td>\n",
       "      <td>0.98988</td>\n",
       "      <td>0.95101</td>\n",
       "      <td>0.89853</td>\n",
       "      <td>0.79813</td>\n",
       "      <td>0.68262</td>\n",
       "      <td>0.58043</td>\n",
       "      <td>0.46222</td>\n",
       "      <td>0.39113</td>\n",
       "      <td>0.27879</td>\n",
       "      <td>0.19070</td>\n",
       "    </tr>\n",
       "    <tr>\n",
       "      <th>3</th>\n",
       "      <td>10</td>\n",
       "      <td>0.27503</td>\n",
       "      <td>0.31281</td>\n",
       "      <td>0.32898</td>\n",
       "      <td>0.41041</td>\n",
       "      <td>0.46587</td>\n",
       "      <td>0.52769</td>\n",
       "      <td>0.64369</td>\n",
       "      <td>0.73562</td>\n",
       "      <td>0.79865</td>\n",
       "      <td>...</td>\n",
       "      <td>0.43087</td>\n",
       "      <td>0.35684</td>\n",
       "      <td>0.30786</td>\n",
       "      <td>0.27722</td>\n",
       "      <td>0.24119</td>\n",
       "      <td>0.20158</td>\n",
       "      <td>0.17876</td>\n",
       "      <td>0.15139</td>\n",
       "      <td>0.15656</td>\n",
       "      <td>0.13392</td>\n",
       "    </tr>\n",
       "    <tr>\n",
       "      <th>4</th>\n",
       "      <td>15</td>\n",
       "      <td>1.01521</td>\n",
       "      <td>1.00872</td>\n",
       "      <td>0.98930</td>\n",
       "      <td>0.98874</td>\n",
       "      <td>1.01773</td>\n",
       "      <td>1.01632</td>\n",
       "      <td>1.00009</td>\n",
       "      <td>0.98217</td>\n",
       "      <td>1.01564</td>\n",
       "      <td>...</td>\n",
       "      <td>0.98861</td>\n",
       "      <td>0.98270</td>\n",
       "      <td>1.00432</td>\n",
       "      <td>1.01434</td>\n",
       "      <td>1.01455</td>\n",
       "      <td>0.98861</td>\n",
       "      <td>0.98300</td>\n",
       "      <td>1.00616</td>\n",
       "      <td>0.99045</td>\n",
       "      <td>1.01321</td>\n",
       "    </tr>\n",
       "    <tr>\n",
       "      <th>...</th>\n",
       "      <td>...</td>\n",
       "      <td>...</td>\n",
       "      <td>...</td>\n",
       "      <td>...</td>\n",
       "      <td>...</td>\n",
       "      <td>...</td>\n",
       "      <td>...</td>\n",
       "      <td>...</td>\n",
       "      <td>...</td>\n",
       "      <td>...</td>\n",
       "      <td>...</td>\n",
       "      <td>...</td>\n",
       "      <td>...</td>\n",
       "      <td>...</td>\n",
       "      <td>...</td>\n",
       "      <td>...</td>\n",
       "      <td>...</td>\n",
       "      <td>...</td>\n",
       "      <td>...</td>\n",
       "      <td>...</td>\n",
       "      <td>...</td>\n",
       "    </tr>\n",
       "    <tr>\n",
       "      <th>9995</th>\n",
       "      <td>15</td>\n",
       "      <td>0.23929</td>\n",
       "      <td>0.30265</td>\n",
       "      <td>0.39929</td>\n",
       "      <td>0.51000</td>\n",
       "      <td>0.64072</td>\n",
       "      <td>0.77328</td>\n",
       "      <td>0.86722</td>\n",
       "      <td>0.95891</td>\n",
       "      <td>0.98998</td>\n",
       "      <td>...</td>\n",
       "      <td>0.11772</td>\n",
       "      <td>0.08974</td>\n",
       "      <td>0.03196</td>\n",
       "      <td>0.04683</td>\n",
       "      <td>0.00020</td>\n",
       "      <td>0.00389</td>\n",
       "      <td>0.00000</td>\n",
       "      <td>0.00317</td>\n",
       "      <td>0.00811</td>\n",
       "      <td>0.00000</td>\n",
       "    </tr>\n",
       "    <tr>\n",
       "      <th>9996</th>\n",
       "      <td>20</td>\n",
       "      <td>0.02583</td>\n",
       "      <td>0.00946</td>\n",
       "      <td>0.03650</td>\n",
       "      <td>0.01380</td>\n",
       "      <td>0.04093</td>\n",
       "      <td>0.04363</td>\n",
       "      <td>0.03260</td>\n",
       "      <td>0.05282</td>\n",
       "      <td>0.04608</td>\n",
       "      <td>...</td>\n",
       "      <td>0.29630</td>\n",
       "      <td>0.41237</td>\n",
       "      <td>0.55772</td>\n",
       "      <td>0.73862</td>\n",
       "      <td>0.94945</td>\n",
       "      <td>0.99104</td>\n",
       "      <td>0.89597</td>\n",
       "      <td>0.69515</td>\n",
       "      <td>0.53156</td>\n",
       "      <td>0.40282</td>\n",
       "    </tr>\n",
       "    <tr>\n",
       "      <th>9997</th>\n",
       "      <td>10</td>\n",
       "      <td>0.57589</td>\n",
       "      <td>0.62976</td>\n",
       "      <td>0.70571</td>\n",
       "      <td>0.77248</td>\n",
       "      <td>0.85402</td>\n",
       "      <td>0.92796</td>\n",
       "      <td>0.97691</td>\n",
       "      <td>0.98933</td>\n",
       "      <td>1.00493</td>\n",
       "      <td>...</td>\n",
       "      <td>0.38292</td>\n",
       "      <td>0.32223</td>\n",
       "      <td>0.28090</td>\n",
       "      <td>0.26486</td>\n",
       "      <td>0.25972</td>\n",
       "      <td>0.21750</td>\n",
       "      <td>0.19588</td>\n",
       "      <td>0.17659</td>\n",
       "      <td>0.17717</td>\n",
       "      <td>0.14670</td>\n",
       "    </tr>\n",
       "    <tr>\n",
       "      <th>9998</th>\n",
       "      <td>15</td>\n",
       "      <td>1.01477</td>\n",
       "      <td>1.01504</td>\n",
       "      <td>0.99125</td>\n",
       "      <td>0.98747</td>\n",
       "      <td>1.00717</td>\n",
       "      <td>1.01434</td>\n",
       "      <td>0.99529</td>\n",
       "      <td>1.01322</td>\n",
       "      <td>1.00486</td>\n",
       "      <td>...</td>\n",
       "      <td>1.01417</td>\n",
       "      <td>1.01911</td>\n",
       "      <td>0.99940</td>\n",
       "      <td>0.99133</td>\n",
       "      <td>1.01440</td>\n",
       "      <td>0.98518</td>\n",
       "      <td>0.98012</td>\n",
       "      <td>1.00746</td>\n",
       "      <td>1.00718</td>\n",
       "      <td>1.00017</td>\n",
       "    </tr>\n",
       "    <tr>\n",
       "      <th>9999</th>\n",
       "      <td>10</td>\n",
       "      <td>0.24452</td>\n",
       "      <td>0.28182</td>\n",
       "      <td>0.36493</td>\n",
       "      <td>0.42131</td>\n",
       "      <td>0.50305</td>\n",
       "      <td>0.61418</td>\n",
       "      <td>0.70350</td>\n",
       "      <td>0.78836</td>\n",
       "      <td>0.85105</td>\n",
       "      <td>...</td>\n",
       "      <td>0.51067</td>\n",
       "      <td>0.40239</td>\n",
       "      <td>0.33618</td>\n",
       "      <td>0.26128</td>\n",
       "      <td>0.18885</td>\n",
       "      <td>0.13969</td>\n",
       "      <td>0.11213</td>\n",
       "      <td>0.06540</td>\n",
       "      <td>0.06070</td>\n",
       "      <td>0.01733</td>\n",
       "    </tr>\n",
       "  </tbody>\n",
       "</table>\n",
       "<p>10000 rows × 30 columns</p>\n",
       "</div>"
      ],
      "text/plain": [
       "      rho  650_src  660_src  670_src  680_src  690_src  700_src  710_src  \\\n",
       "id                                                                         \n",
       "0      25  0.37950  0.42993  0.52076  0.57166  0.67818  0.75476  0.83580   \n",
       "1      10  0.00000  0.00000  0.01813  0.00000  0.00000  0.01974  0.00321   \n",
       "2      25  0.00000  0.03289  0.02416  0.03610  0.05843  0.09015  0.14944   \n",
       "3      10  0.27503  0.31281  0.32898  0.41041  0.46587  0.52769  0.64369   \n",
       "4      15  1.01521  1.00872  0.98930  0.98874  1.01773  1.01632  1.00009   \n",
       "...   ...      ...      ...      ...      ...      ...      ...      ...   \n",
       "9995   15  0.23929  0.30265  0.39929  0.51000  0.64072  0.77328  0.86722   \n",
       "9996   20  0.02583  0.00946  0.03650  0.01380  0.04093  0.04363  0.03260   \n",
       "9997   10  0.57589  0.62976  0.70571  0.77248  0.85402  0.92796  0.97691   \n",
       "9998   15  1.01477  1.01504  0.99125  0.98747  1.00717  1.01434  0.99529   \n",
       "9999   10  0.24452  0.28182  0.36493  0.42131  0.50305  0.61418  0.70350   \n",
       "\n",
       "      720_src  730_src  ...  840_src  850_src  860_src  870_src  880_src  \\\n",
       "id                      ...                                                \n",
       "0     0.93623  0.96333  ...  0.34935  0.30038  0.26992  0.23192  0.21998   \n",
       "1     0.00000  0.00000  ...  0.00000  0.00000  0.00000  0.04466  0.10738   \n",
       "2     0.18578  0.25584  ...  0.98988  0.95101  0.89853  0.79813  0.68262   \n",
       "3     0.73562  0.79865  ...  0.43087  0.35684  0.30786  0.27722  0.24119   \n",
       "4     0.98217  1.01564  ...  0.98861  0.98270  1.00432  1.01434  1.01455   \n",
       "...       ...      ...  ...      ...      ...      ...      ...      ...   \n",
       "9995  0.95891  0.98998  ...  0.11772  0.08974  0.03196  0.04683  0.00020   \n",
       "9996  0.05282  0.04608  ...  0.29630  0.41237  0.55772  0.73862  0.94945   \n",
       "9997  0.98933  1.00493  ...  0.38292  0.32223  0.28090  0.26486  0.25972   \n",
       "9998  1.01322  1.00486  ...  1.01417  1.01911  0.99940  0.99133  1.01440   \n",
       "9999  0.78836  0.85105  ...  0.51067  0.40239  0.33618  0.26128  0.18885   \n",
       "\n",
       "      890_src  900_src  910_src  920_src  930_src  \n",
       "id                                                 \n",
       "0     0.19920  0.14493  0.13150  0.12442  0.10786  \n",
       "1     0.21646  0.41456  0.63716  0.84230  0.97480  \n",
       "2     0.58043  0.46222  0.39113  0.27879  0.19070  \n",
       "3     0.20158  0.17876  0.15139  0.15656  0.13392  \n",
       "4     0.98861  0.98300  1.00616  0.99045  1.01321  \n",
       "...       ...      ...      ...      ...      ...  \n",
       "9995  0.00389  0.00000  0.00317  0.00811  0.00000  \n",
       "9996  0.99104  0.89597  0.69515  0.53156  0.40282  \n",
       "9997  0.21750  0.19588  0.17659  0.17717  0.14670  \n",
       "9998  0.98518  0.98012  1.00746  1.00718  1.00017  \n",
       "9999  0.13969  0.11213  0.06540  0.06070  0.01733  \n",
       "\n",
       "[10000 rows x 30 columns]"
      ]
     },
     "execution_count": 8,
     "metadata": {},
     "output_type": "execute_result"
    }
   ],
   "source": [
    "train.iloc[:,:30]"
   ]
  },
  {
   "cell_type": "code",
   "execution_count": null,
   "metadata": {},
   "outputs": [],
   "source": [
    "# 맷플로립으로 확인해야 할 듯"
   ]
  },
  {
   "cell_type": "code",
   "execution_count": 38,
   "metadata": {},
   "outputs": [
    {
     "name": "stdout",
     "output_type": "stream",
     "text": [
      "(10000, 75)\n",
      "(10000, 71)\n"
     ]
    }
   ],
   "source": [
    "train = train.interpolate()\n",
    "test = test.interpolate()\n",
    "\n",
    "train = train.fillna(train.mean())\n",
    "test = test.fillna(train.mean())\n",
    "\n",
    "print(train.shape)\n",
    "print(test.shape)\n",
    "\n",
    "train = np.array(train)\n",
    "x_predict = np.array(test)\n",
    "\n",
    "x = train[:,:71]\n",
    "y = train[:,71:]\n",
    "\n",
    "# 전처리\n",
    "from sklearn.preprocessing import RobustScaler, StandardScaler\n",
    "scaler = RobustScaler()\n",
    "scaler.fit(x) \n",
    "x = scaler.transform(x)\n",
    "x_predict = scaler.transform(x_predict)\n",
    "\n",
    "# from sklearn.decomposition import PCA\n",
    "# pca = PCA(n_components=12)\n",
    "# pca.fit(x)\n",
    "# x = pca.transform(x)\n",
    "# x_predict = pca.transform(x_predict)"
   ]
  },
  {
   "cell_type": "code",
   "execution_count": 167,
   "metadata": {},
   "outputs": [],
   "source": [
    "# from sklearn.preprocessing import MinMaxScaler\n",
    "# scaler = MinMaxScaler()\n",
    "# scaler.fit(x) \n",
    "# x = scaler.transform(x)\n",
    "# x_predict = scaler.transform(x_predict)"
   ]
  },
  {
   "cell_type": "code",
   "execution_count": 2,
   "metadata": {},
   "outputs": [
    {
     "name": "stdout",
     "output_type": "stream",
     "text": [
      "랜덤포레스트 mae 는 1.4601283828124996\n"
     ]
    }
   ],
   "source": [
    "x_train, x_test, y_train, y_test = train_test_split(x,y, test_size=0.2, random_state=43)\n",
    "model = RandomForestRegressor(n_estimators=160)\n",
    "model.fit(x_train,y_train)\n",
    "y_pred = model.predict(x_test) # 회귀던 분류던 사용할 수 있음\n",
    "mae = mean_absolute_error(y_pred, y_test)\n",
    "print('랜덤포레스트 mae 는', mae)"
   ]
  },
  {
   "cell_type": "markdown",
   "metadata": {},
   "source": [
    "# GradientBoostingRegressor"
   ]
  },
  {
   "cell_type": "code",
   "execution_count": 9,
   "metadata": {},
   "outputs": [
    {
     "data": {
      "text/plain": [
       "array([ 5.59,  0.  , 10.64, ...,  9.84,  6.38,  9.35])"
      ]
     },
     "execution_count": 9,
     "metadata": {},
     "output_type": "execute_result"
    }
   ],
   "source": [
    "y[:,0]"
   ]
  },
  {
   "cell_type": "code",
   "execution_count": 10,
   "metadata": {},
   "outputs": [],
   "source": [
    "a = []\n",
    "for i in range(y.shape[1]) :\n",
    "    a.append(y[:,i])"
   ]
  },
  {
   "cell_type": "code",
   "execution_count": 11,
   "metadata": {},
   "outputs": [
    {
     "data": {
      "text/plain": [
       "[array([ 5.59,  0.  , 10.64, ...,  9.84,  6.38,  9.35]),\n",
       " array([4.32, 2.83, 3.  , ..., 3.2 , 4.06, 4.34]),\n",
       " array([ 8.92,  7.25,  8.4 , ..., 10.45, 11.28,  9.73]),\n",
       " array([4.29, 4.64, 5.16, ..., 2.06, 4.03, 3.54])]"
      ]
     },
     "execution_count": 11,
     "metadata": {},
     "output_type": "execute_result"
    }
   ],
   "source": [
    "a"
   ]
  },
  {
   "cell_type": "code",
   "execution_count": 29,
   "metadata": {},
   "outputs": [
    {
     "name": "stdout",
     "output_type": "stream",
     "text": [
      "GradientBoostingRegressor mae 는 1.5838840045681222\n",
      "GradientBoostingRegressor mae 는 0.7350616301783675\n",
      "GradientBoostingRegressor mae 는 2.308885373741608\n",
      "GradientBoostingRegressor mae 는 1.4267326043872253\n"
     ]
    }
   ],
   "source": [
    "x_train, x_test, y_train, y_test = train_test_split(x,a[0], test_size=0.2, random_state=43)\n",
    "\n",
    "model = GradientBoostingRegressor()\n",
    "model.fit(x_train,y_train)\n",
    "y_pred = model.predict(x_test) # 회귀던 분류던 사용할 수 있음\n",
    "mae = mean_absolute_error(y_pred, y_test)\n",
    "print('GradientBoostingRegressor mae 는', mae)\n",
    "\n",
    "x_train, x_test, y_train, y_test = train_test_split(x,a[1], test_size=0.2, random_state=43)\n",
    "model = GradientBoostingRegressor()\n",
    "model.fit(x_train,y_train)\n",
    "y_pred = model.predict(x_test) # 회귀던 분류던 사용할 수 있음\n",
    "mae = mean_absolute_error(y_pred, y_test)\n",
    "print('GradientBoostingRegressor mae 는', mae)\n",
    "\n",
    "x_train, x_test, y_train, y_test = train_test_split(x,a[2], test_size=0.2, random_state=43)\n",
    "model = GradientBoostingRegressor()\n",
    "model.fit(x_train,y_train)\n",
    "y_pred = model.predict(x_test) # 회귀던 분류던 사용할 수 있음\n",
    "mae = mean_absolute_error(y_pred, y_test)\n",
    "print('GradientBoostingRegressor mae 는', mae)\n",
    "\n",
    "x_train, x_test, y_train, y_test = train_test_split(x,a[3], test_size=0.2, random_state=43)\n",
    "model = GradientBoostingRegressor()\n",
    "model.fit(x_train,y_train)\n",
    "y_pred = model.predict(x_test) # 회귀던 분류던 사용할 수 있음\n",
    "mae = mean_absolute_error(y_pred, y_test)\n",
    "print('GradientBoostingRegressor mae 는', mae)"
   ]
  },
  {
   "cell_type": "code",
   "execution_count": 13,
   "metadata": {},
   "outputs": [],
   "source": [
    "x_train, x_test, y_train, y_test = train_test_split(x,a[0], test_size=0.2, random_state=43)\n",
    "\n",
    "model = GradientBoostingRegressor(n_estimators=200)\n",
    "model.fit(x_train,y_train)\n",
    "y_pred = model.predict(x_test) # 회귀던 분류던 사용할 수 있음\n",
    "mae = mean_absolute_error(y_pred, y_test)\n",
    "print('GradientBoostingRegressor mae 는', mae)\n",
    "\n",
    "x_train, x_test, y_train, y_test = train_test_split(x,a[1], test_size=0.2, random_state=43)\n",
    "model = GradientBoostingRegressor(n_estimators=200)\n",
    "model.fit(x_train,y_train)\n",
    "y_pred = model.predict(x_test) # 회귀던 분류던 사용할 수 있음\n",
    "mae = mean_absolute_error(y_pred, y_test)\n",
    "print('GradientBoostingRegressor mae 는', mae)\n",
    "\n",
    "x_train, x_test, y_train, y_test = train_test_split(x,a[2], test_size=0.2, random_state=43)\n",
    "model = GradientBoostingRegressor(n_estimators=200)\n",
    "model.fit(x_train,y_train)\n",
    "y_pred = model.predict(x_test) # 회귀던 분류던 사용할 수 있음\n",
    "mae = mean_absolute_error(y_pred, y_test)\n",
    "print('GradientBoostingRegressor mae 는', mae)\n",
    "\n",
    "x_train, x_test, y_train, y_test = train_test_split(x,a[3], test_size=0.2, random_state=43)\n",
    "model = GradientBoostingRegressor(n_estimators=200)\n",
    "model.fit(x_train,y_train)\n",
    "y_pred = model.predict(x_test) # 회귀던 분류던 사용할 수 있음\n",
    "mae = mean_absolute_error(y_pred, y_test)\n",
    "print('GradientBoostingRegressor mae 는', mae)"
   ]
  },
  {
   "cell_type": "code",
   "execution_count": 20,
   "metadata": {},
   "outputs": [
    {
     "name": "stderr",
     "output_type": "stream",
     "text": [
      "C:\\Users\\bitcamp\\anaconda3\\lib\\site-packages\\sklearn\\ensemble\\_gb.py:1454: DataConversionWarning: A column-vector y was passed when a 1d array was expected. Please change the shape of y to (n_samples, ), for example using ravel().\n",
      "  y = column_or_1d(y, warn=True)\n"
     ]
    },
    {
     "name": "stdout",
     "output_type": "stream",
     "text": [
      "랜덤포레스트 mae 는 1.837030398551365\n"
     ]
    }
   ],
   "source": [
    "from sklearn.decomposition import PCA\n",
    "pca = PCA(n_components=1)\n",
    "pca.fit(y)\n",
    "y1 = pca.transform(y)\n",
    "x_train, x_test, y_train, y_test = train_test_split(x,y1, test_size=0.2, random_state=43)\n",
    "model = GradientBoostingRegressor(n_estimators=200)\n",
    "model.fit(x_train,y_train)\n",
    "y_pred = model.predict(x_test) # 회귀던 분류던 사용할 수 있음\n",
    "mae = mean_absolute_error(y_pred, y_test)\n",
    "print('GradientBoostingRegressor mae 는', mae)"
   ]
  },
  {
   "cell_type": "markdown",
   "metadata": {},
   "source": [
    "# XGBRegressor()"
   ]
  },
  {
   "cell_type": "code",
   "execution_count": 27,
   "metadata": {},
   "outputs": [
    {
     "name": "stdout",
     "output_type": "stream",
     "text": [
      "xgboost mae 는 1.2829265556406977\n",
      "xgboost mae 는 0.7349076338338851\n",
      "xgboost mae 는 2.2790482931423184\n",
      "xgboost mae 는 1.4711147229343653\n"
     ]
    }
   ],
   "source": [
    "x_train, x_test, y_train, y_test = train_test_split(x,a[0], test_size=0.2, random_state=43)\n",
    "\n",
    "model = XGBRegressor()\n",
    "model.fit(x_train,y_train)\n",
    "y_pred = model.predict(x_test)\n",
    "mae = mean_absolute_error(y_pred, y_test)\n",
    "print('xgboost mae 는', mae)\n",
    "\n",
    "x_train, x_test, y_train, y_test = train_test_split(x,a[1], test_size=0.2, random_state=43)\n",
    "model = XGBRegressor()\n",
    "model.fit(x_train,y_train)\n",
    "y_pred = model.predict(x_test) \n",
    "mae = mean_absolute_error(y_pred, y_test)\n",
    "print('xgboost mae 는', mae)\n",
    "\n",
    "x_train, x_test, y_train, y_test = train_test_split(x,a[2], test_size=0.2, random_state=43)\n",
    "model = XGBRegressor()\n",
    "model.fit(x_train,y_train)\n",
    "y_pred = model.predict(x_test)\n",
    "mae = mean_absolute_error(y_pred, y_test)\n",
    "print('xgboost mae 는', mae)\n",
    "\n",
    "x_train, x_test, y_train, y_test = train_test_split(x,a[3], test_size=0.2, random_state=43)\n",
    "model = XGBRegressor()\n",
    "model.fit(x_train,y_train)\n",
    "y_pred = model.predict(x_test)\n",
    "mae = mean_absolute_error(y_pred, y_test)\n",
    "print('xgboost mae 는', mae)"
   ]
  },
  {
   "cell_type": "code",
   "execution_count": 32,
   "metadata": {},
   "outputs": [
    {
     "name": "stdout",
     "output_type": "stream",
     "text": [
      "xgboost mae 는 1.283430913808942\n",
      "xgboost mae 는 0.7389190593361854\n",
      "xgboost mae 는 2.2966433312320707\n",
      "xgboost mae 는 1.4670573375791311\n"
     ]
    }
   ],
   "source": [
    "x_train, x_test, y_train, y_test = train_test_split(x,a[0], test_size=0.2, random_state=43)\n",
    "\n",
    "model = XGBRegressor(n_estimators=200)\n",
    "model.fit(x_train,y_train)\n",
    "y_pred = model.predict(x_test)\n",
    "mae = mean_absolute_error(y_pred, y_test)\n",
    "print('xgboost mae 는', mae)\n",
    "\n",
    "x_train, x_test, y_train, y_test = train_test_split(x,a[1], test_size=0.2, random_state=43)\n",
    "model = XGBRegressor(n_estimators=200)\n",
    "model.fit(x_train,y_train)\n",
    "y_pred = model.predict(x_test) \n",
    "mae = mean_absolute_error(y_pred, y_test)\n",
    "print('xgboost mae 는', mae)\n",
    "\n",
    "x_train, x_test, y_train, y_test = train_test_split(x,a[2], test_size=0.2, random_state=43)\n",
    "model = XGBRegressor(n_estimators=200)\n",
    "model.fit(x_train,y_train)\n",
    "y_pred = model.predict(x_test)\n",
    "mae = mean_absolute_error(y_pred, y_test)\n",
    "print('xgboost mae 는', mae)\n",
    "\n",
    "x_train, x_test, y_train, y_test = train_test_split(x,a[3], test_size=0.2, random_state=43)\n",
    "model = XGBRegressor(n_estimators=200)\n",
    "model.fit(x_train,y_train)\n",
    "y_pred = model.predict(x_test)\n",
    "mae = mean_absolute_error(y_pred, y_test)\n",
    "print('xgboost mae 는', mae)"
   ]
  },
  {
   "cell_type": "code",
   "execution_count": 30,
   "metadata": {},
   "outputs": [
    {
     "name": "stdout",
     "output_type": "stream",
     "text": [
      "xgboost mae 는 1.8154817496832283\n"
     ]
    }
   ],
   "source": [
    "from sklearn.decomposition import PCA\n",
    "pca = PCA(n_components=1)\n",
    "pca.fit(y)\n",
    "y1 = pca.transform(y)\n",
    "x_train, x_test, y_train, y_test = train_test_split(x,y1, test_size=0.2, random_state=43)\n",
    "model = XGBRegressor()\n",
    "model.fit(x_train,y_train)\n",
    "y_pred = model.predict(x_test) # 회귀던 분류던 사용할 수 있음\n",
    "mae = mean_absolute_error(y_pred, y_test)\n",
    "print('xgboost mae 는', mae)"
   ]
  },
  {
   "cell_type": "markdown",
   "metadata": {},
   "source": [
    "# RandomForestRegressor"
   ]
  },
  {
   "cell_type": "code",
   "execution_count": 31,
   "metadata": {},
   "outputs": [
    {
     "name": "stdout",
     "output_type": "stream",
     "text": [
      "xgboost mae 는 1.289325675\n",
      "xgboost mae 는 0.7111221249999999\n",
      "xgboost mae 는 2.187418975\n",
      "xgboost mae 는 1.407558775\n"
     ]
    }
   ],
   "source": [
    "x_train, x_test, y_train, y_test = train_test_split(x,a[0], test_size=0.2, random_state=43)\n",
    "\n",
    "model = RandomForestRegressor(n_estimators=200)\n",
    "model.fit(x_train,y_train)\n",
    "y_pred = model.predict(x_test)\n",
    "mae = mean_absolute_error(y_pred, y_test)\n",
    "print('RandomForestRegressor mae 는', mae)\n",
    "\n",
    "x_train, x_test, y_train, y_test = train_test_split(x,a[1], test_size=0.2, random_state=43)\n",
    "model = RandomForestRegressor(n_estimators=200)\n",
    "model.fit(x_train,y_train)\n",
    "y_pred = model.predict(x_test) \n",
    "mae = mean_absolute_error(y_pred, y_test)\n",
    "print('RandomForestRegressor mae 는', mae)\n",
    "\n",
    "x_train, x_test, y_train, y_test = train_test_split(x,a[2], test_size=0.2, random_state=43)\n",
    "model = RandomForestRegressor(n_estimators=200)\n",
    "model.fit(x_train,y_train)\n",
    "y_pred = model.predict(x_test)\n",
    "mae = mean_absolute_error(y_pred, y_test)\n",
    "print('RandomForestRegressor mae 는', mae)\n",
    "\n",
    "x_train, x_test, y_train, y_test = train_test_split(x,a[3], test_size=0.2, random_state=43)\n",
    "model = RandomForestRegressor(n_estimators=200)\n",
    "model.fit(x_train,y_train)\n",
    "y_pred = model.predict(x_test)\n",
    "mae = mean_absolute_error(y_pred, y_test)\n",
    "print('RandomForestRegressor mae 는', mae)"
   ]
  },
  {
   "cell_type": "code",
   "execution_count": 33,
   "metadata": {},
   "outputs": [
    {
     "name": "stdout",
     "output_type": "stream",
     "text": [
      "랜덤포레스트 mae 는 1.4622248984374993\n"
     ]
    }
   ],
   "source": [
    "x_train, x_test, y_train, y_test = train_test_split(x,y, test_size=0.2, random_state=43)\n",
    "model = RandomForestRegressor(n_estimators=160)\n",
    "model.fit(x_train,y_train)\n",
    "y_pred = model.predict(x_test) \n",
    "mae = mean_absolute_error(y_pred, y_test)\n",
    "print('랜덤포레스트 mae 는', mae)"
   ]
  },
  {
   "cell_type": "code",
   "execution_count": 37,
   "metadata": {},
   "outputs": [
    {
     "name": "stdout",
     "output_type": "stream",
     "text": [
      "랜덤포레스트 mae 는 1.7716422312499989\n"
     ]
    }
   ],
   "source": [
    "x_train, x_test, y_train, y_test = train_test_split(x,y, test_size=0.2, random_state=43)\n",
    "model = RandomForestRegressor(n_estimators=200)\n",
    "model.fit(x_train,y_train)\n",
    "y_pred = model.predict(x_test) \n",
    "mae = mean_absolute_error(y_pred, y_test)\n",
    "print('랜덤포레스트 mae 는', mae)"
   ]
  },
  {
   "cell_type": "code",
   "execution_count": 39,
   "metadata": {},
   "outputs": [
    {
     "name": "stdout",
     "output_type": "stream",
     "text": [
      "랜덤포레스트 mae 는 1.441592375\n"
     ]
    }
   ],
   "source": [
    "x_train, x_test, y_train, y_test = train_test_split(x,y, test_size=0.2, random_state=20)\n",
    "model1 = RandomForestRegressor(n_estimators=250)\n",
    "model1.fit(x_train,y_train)\n",
    "y_pred = model1.predict(x_test) \n",
    "mae = mean_absolute_error(y_pred, y_test)\n",
    "print('랜덤포레스트 mae 는', mae)"
   ]
  },
  {
   "cell_type": "code",
   "execution_count": null,
   "metadata": {},
   "outputs": [],
   "source": [
    "pred = model1.predict(x_predict)\n",
    "submission = pd.read_csv('sample_submission.csv', index_col=0)\n",
    "submission['hhb'] = pred[:,0]\n",
    "submission['hbo2'] = pred[:,1]\n",
    "submission['ca'] = pred[:,2]\n",
    "submission['na'] = pred[:,3]\n",
    "\n",
    "('sample_submission.csv', index_col=0)"
   ]
  },
  {
   "cell_type": "code",
   "execution_count": null,
   "metadata": {},
   "outputs": [],
   "source": []
  },
  {
   "cell_type": "code",
   "execution_count": null,
   "metadata": {},
   "outputs": [],
   "source": []
  },
  {
   "cell_type": "markdown",
   "metadata": {},
   "source": [
    "# 제출"
   ]
  },
  {
   "cell_type": "code",
   "execution_count": 42,
   "metadata": {},
   "outputs": [],
   "source": [
    "# 제출\n",
    "pred = model1.predict(x_predict)\n",
    "\n",
    "pred = model1.predict(x_predict)\n",
    "submission = pd.read_csv('sample_submission.csv', index_col=0)\n",
    "submission['hhb'] = pred[:,0]\n",
    "submission['hbo2'] = pred[:,1]\n",
    "submission['ca'] = pred[:,2]\n",
    "submission['na'] = pred[:,3]\n",
    "\n",
    "submission.to_csv('submission0611_1.csv')"
   ]
  },
  {
   "cell_type": "raw",
   "metadata": {},
   "source": [
    "pred = model1.predict(x_predict1)\n",
    "submission['hhb'] = pred[:,0]\n",
    "submission['hbo2'] = pred[:,1]\n",
    "submission['ca'] = pred[:,2]\n",
    "submission['na'] = pred[:,3]\n",
    "submission.to_csv('submission1_1.csv')"
   ]
  },
  {
   "cell_type": "code",
   "execution_count": 255,
   "metadata": {},
   "outputs": [
    {
     "data": {
      "text/html": [
       "<div>\n",
       "<style scoped>\n",
       "    .dataframe tbody tr th:only-of-type {\n",
       "        vertical-align: middle;\n",
       "    }\n",
       "\n",
       "    .dataframe tbody tr th {\n",
       "        vertical-align: top;\n",
       "    }\n",
       "\n",
       "    .dataframe thead th {\n",
       "        text-align: right;\n",
       "    }\n",
       "</style>\n",
       "<table border=\"1\" class=\"dataframe\">\n",
       "  <thead>\n",
       "    <tr style=\"text-align: right;\">\n",
       "      <th></th>\n",
       "      <th>hhb</th>\n",
       "      <th>hbo2</th>\n",
       "      <th>ca</th>\n",
       "      <th>na</th>\n",
       "    </tr>\n",
       "    <tr>\n",
       "      <th>id</th>\n",
       "      <th></th>\n",
       "      <th></th>\n",
       "      <th></th>\n",
       "      <th></th>\n",
       "    </tr>\n",
       "  </thead>\n",
       "  <tbody>\n",
       "    <tr>\n",
       "      <th>10000</th>\n",
       "      <td>7.330</td>\n",
       "      <td>3.861</td>\n",
       "      <td>7.608</td>\n",
       "      <td>2.890</td>\n",
       "    </tr>\n",
       "    <tr>\n",
       "      <th>10001</th>\n",
       "      <td>6.530</td>\n",
       "      <td>3.993</td>\n",
       "      <td>6.310</td>\n",
       "      <td>2.105</td>\n",
       "    </tr>\n",
       "    <tr>\n",
       "      <th>10002</th>\n",
       "      <td>11.439</td>\n",
       "      <td>4.057</td>\n",
       "      <td>9.335</td>\n",
       "      <td>3.524</td>\n",
       "    </tr>\n",
       "    <tr>\n",
       "      <th>10003</th>\n",
       "      <td>8.239</td>\n",
       "      <td>4.599</td>\n",
       "      <td>9.715</td>\n",
       "      <td>3.084</td>\n",
       "    </tr>\n",
       "    <tr>\n",
       "      <th>10004</th>\n",
       "      <td>8.279</td>\n",
       "      <td>3.615</td>\n",
       "      <td>9.837</td>\n",
       "      <td>4.130</td>\n",
       "    </tr>\n",
       "    <tr>\n",
       "      <th>...</th>\n",
       "      <td>...</td>\n",
       "      <td>...</td>\n",
       "      <td>...</td>\n",
       "      <td>...</td>\n",
       "    </tr>\n",
       "    <tr>\n",
       "      <th>19995</th>\n",
       "      <td>6.134</td>\n",
       "      <td>4.480</td>\n",
       "      <td>9.480</td>\n",
       "      <td>3.342</td>\n",
       "    </tr>\n",
       "    <tr>\n",
       "      <th>19996</th>\n",
       "      <td>7.258</td>\n",
       "      <td>4.027</td>\n",
       "      <td>9.550</td>\n",
       "      <td>3.275</td>\n",
       "    </tr>\n",
       "    <tr>\n",
       "      <th>19997</th>\n",
       "      <td>9.724</td>\n",
       "      <td>3.333</td>\n",
       "      <td>9.786</td>\n",
       "      <td>3.206</td>\n",
       "    </tr>\n",
       "    <tr>\n",
       "      <th>19998</th>\n",
       "      <td>9.455</td>\n",
       "      <td>4.714</td>\n",
       "      <td>11.051</td>\n",
       "      <td>2.773</td>\n",
       "    </tr>\n",
       "    <tr>\n",
       "      <th>19999</th>\n",
       "      <td>6.110</td>\n",
       "      <td>4.011</td>\n",
       "      <td>9.873</td>\n",
       "      <td>3.264</td>\n",
       "    </tr>\n",
       "  </tbody>\n",
       "</table>\n",
       "<p>10000 rows × 4 columns</p>\n",
       "</div>"
      ],
      "text/plain": [
       "          hhb   hbo2      ca     na\n",
       "id                                 \n",
       "10000   7.330  3.861   7.608  2.890\n",
       "10001   6.530  3.993   6.310  2.105\n",
       "10002  11.439  4.057   9.335  3.524\n",
       "10003   8.239  4.599   9.715  3.084\n",
       "10004   8.279  3.615   9.837  4.130\n",
       "...       ...    ...     ...    ...\n",
       "19995   6.134  4.480   9.480  3.342\n",
       "19996   7.258  4.027   9.550  3.275\n",
       "19997   9.724  3.333   9.786  3.206\n",
       "19998   9.455  4.714  11.051  2.773\n",
       "19999   6.110  4.011   9.873  3.264\n",
       "\n",
       "[10000 rows x 4 columns]"
      ]
     },
     "execution_count": 255,
     "metadata": {},
     "output_type": "execute_result"
    }
   ],
   "source": [
    "submission"
   ]
  }
 ],
 "metadata": {
  "kernelspec": {
   "display_name": "Python 3",
   "language": "python",
   "name": "python3"
  },
  "language_info": {
   "codemirror_mode": {
    "name": "ipython",
    "version": 3
   },
   "file_extension": ".py",
   "mimetype": "text/x-python",
   "name": "python",
   "nbconvert_exporter": "python",
   "pygments_lexer": "ipython3",
   "version": "3.7.6"
  }
 },
 "nbformat": 4,
 "nbformat_minor": 4
}
